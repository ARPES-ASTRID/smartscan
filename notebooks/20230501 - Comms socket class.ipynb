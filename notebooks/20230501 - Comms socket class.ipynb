{
 "cells": [
  {
   "cell_type": "code",
   "execution_count": null,
   "metadata": {},
   "outputs": [],
   "source": [
    "import socket\n",
    "\n",
    "def send_tcp_message(host, port, message):\n",
    "    # Create a TCP/IP socket\n",
    "    sock = socket.socket(socket.AF_INET, socket.SOCK_STREAM)\n",
    "\n",
    "    try:\n",
    "        # Connect the socket to the host and port\n",
    "        sock.connect((host, port))\n",
    "\n",
    "        # Send the message\n",
    "        sock.sendall(message.encode())\n",
    "\n",
    "    finally:\n",
    "        # Close the socket\n",
    "        sock.close()\n"
   ]
  },
  {
   "cell_type": "code",
   "execution_count": null,
   "metadata": {},
   "outputs": [],
   "source": [
    "# asincio"
   ]
  },
  {
   "cell_type": "code",
   "execution_count": null,
   "metadata": {},
   "outputs": [],
   "source": [
    "import asyncio, socket\n",
    "\n",
    "async def handle_client(client):\n",
    "    loop = asyncio.get_event_loop()\n",
    "    request = None\n",
    "    while request != 'quit':\n",
    "        request = (await loop.sock_recv(client, 255)).decode('utf8')\n",
    "        response = str(eval(request)) + '\\n'\n",
    "        await loop.sock_sendall(client, response.encode('utf8'))\n",
    "    client.close()\n",
    "\n",
    "async def run_server():\n",
    "    server = socket.socket(socket.AF_INET, socket.SOCK_STREAM)\n",
    "    server.bind(('localhost', 15555))\n",
    "    server.listen(8)\n",
    "    server.setblocking(False)\n",
    "\n",
    "    loop = asyncio.get_event_loop()\n",
    "\n",
    "    while True:\n",
    "        client, _ = await loop.sock_accept(server)\n",
    "        loop.create_task(handle_client(client))\n",
    "\n",
    "asyncio.run(run_server())"
   ]
  },
  {
   "cell_type": "code",
   "execution_count": null,
   "metadata": {},
   "outputs": [],
   "source": [
    "import asyncio, socket\n",
    "\n",
    "async def handle_client(reader, writer):\n",
    "    request = None\n",
    "    while request != 'quit':\n",
    "        request = (await reader.read(255)).decode('utf8')\n",
    "        response = str(eval(request)) + '\\n'\n",
    "        writer.write(response.encode('utf8'))\n",
    "        await writer.drain()\n",
    "    writer.close()\n",
    "\n",
    "async def run_server():\n",
    "    server = await asyncio.start_server(handle_client, 'localhost', 15555)\n",
    "    async with server:\n",
    "        await server.serve_forever()\n",
    "\n",
    "asyncio.run(run_server())"
   ]
  },
  {
   "cell_type": "code",
   "execution_count": null,
   "metadata": {},
   "outputs": [],
   "source": [
    "import asyncio\n",
    "from asyncio.streams import StreamReader, StreamWriter\n",
    "\n",
    "async def handle_client(reader: StreamReader, writer: StreamWriter):\n",
    "    \"\"\"\n",
    "    Handle communication with a client.\n",
    "\n",
    "    Args:\n",
    "        reader (StreamReader): The reader object for receiving data from the client.\n",
    "        writer (StreamWriter): The writer object for sending data to the client.\n",
    "    \"\"\"\n",
    "    client_address = writer.get_extra_info('peername')\n",
    "    print(f'New connection from {client_address}')\n",
    "\n",
    "    while True:\n",
    "        data = await reader.read(1024)\n",
    "        if not data:\n",
    "            break\n",
    "\n",
    "        message = data.decode('utf-8')\n",
    "        print(f'Received message: {message}')\n",
    "\n",
    "        # Process the message or perform any desired operations here\n",
    "\n",
    "        # Send a response\n",
    "        response = f'Received message \"{message}\"\\n'\n",
    "        writer.write(response.encode('utf-8'))\n",
    "        await writer.drain()\n",
    "\n",
    "    print(f'Connection from {client_address} closed')\n",
    "    writer.close()\n",
    "\n",
    "async def start_server():\n",
    "    \"\"\"\n",
    "    Start the TCP server.\n",
    "\n",
    "    Note:\n",
    "        Modify the HOST and PORT variables to your desired values.\n",
    "    \"\"\"\n",
    "    HOST = 'localhost'  # change this to your desired host\n",
    "    PORT = 12345  # change this to your desired port\n",
    "\n",
    "    server = await asyncio.start_server(\n",
    "        handle_client, HOST, PORT)\n",
    "\n",
    "    print(f'TCP server is listening on {HOST}:{PORT}...')\n",
    "\n",
    "    async with server:\n",
    "        await server.serve_forever()\n",
    "\n",
    "# Run the server\n",
    "asyncio.run(start_server())\n"
   ]
  },
  {
   "cell_type": "code",
   "execution_count": null,
   "metadata": {},
   "outputs": [],
   "source": [
    "import sys\n",
    "from importlib import reload\n",
    "import socket\n",
    "sys.path.append(\n",
    "    r'C:\\Users\\stein\\OneDrive\\Documents\\_Work\\_code\\ARPES-ASTRID\\smartscan'\n",
    ")\n",
    "import smartscan.comms as scom"
   ]
  },
  {
   "cell_type": "code",
   "execution_count": null,
   "metadata": {},
   "outputs": [],
   "source": [
    "reload(scom)"
   ]
  },
  {
   "cell_type": "code",
   "execution_count": null,
   "metadata": {},
   "outputs": [],
   "source": [
    "def send_tcp_messge(host,port,msg):\n",
    "    with socket.socket(socket.AF_INET, socket.SOCK_STREAM) as s:\n",
    "        s.connect((host, port))\n",
    "        s.sendall(msg.encode())\n",
    "        data = s.recv(1024)\n",
    "    return data\n",
    "\n",
    "def recieve_tcp_message(host, port):\n",
    "    \"\"\"\n",
    "    Recieves a message through the TCP socket and verifies its checksum.\n",
    "    \"\"\"\n",
    "    with socket.socket(socket.AF_INET, socket.SOCK_STREAM) as s:\n",
    "        s.bind((host, port))\n",
    "        s.listen()\n",
    "        conn, addr = s.accept()\n",
    "        with conn:\n",
    "            print('Connected by', addr)\n",
    "            while True:\n",
    "                data = conn.recv(1024)\n",
    "                if not data:\n",
    "                    break\n",
    "                conn.sendall(data)"
   ]
  },
  {
   "cell_type": "code",
   "execution_count": null,
   "metadata": {},
   "outputs": [],
   "source": [
    "send_tcp_messge('localhost', 12345, 'hi')"
   ]
  },
  {
   "cell_type": "code",
   "execution_count": null,
   "metadata": {},
   "outputs": [],
   "source": [
    "send_tcp_messge('localhost', 12345, 'hi again')"
   ]
  },
  {
   "cell_type": "code",
   "execution_count": null,
   "metadata": {},
   "outputs": [],
   "source": []
  }
 ],
 "metadata": {
  "kernelspec": {
   "display_name": "dataloader",
   "language": "python",
   "name": "python3"
  },
  "language_info": {
   "codemirror_mode": {
    "name": "ipython",
    "version": 3
   },
   "file_extension": ".py",
   "mimetype": "text/x-python",
   "name": "python",
   "nbconvert_exporter": "python",
   "pygments_lexer": "ipython3",
   "version": "3.8.13"
  },
  "orig_nbformat": 4
 },
 "nbformat": 4,
 "nbformat_minor": 2
}
