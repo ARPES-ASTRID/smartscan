{
 "cells": [
  {
   "cell_type": "code",
   "execution_count": 1,
   "metadata": {},
   "outputs": [],
   "source": [
    "from typing import List,Tuple,Sequence,Union\n",
    "from importlib import reload\n",
    "from pathlib import Path\n",
    "import dataloader as dl\n",
    "import xarray as xr\n",
    "import sys\n",
    "sys.path.append('../')\n",
    "import smartscan.TCP as TCP\n",
    "from importlib import reload\n",
    "\n",
    "import smartscan as sc"
   ]
  },
  {
   "cell_type": "markdown",
   "metadata": {},
   "source": [
    "# create an instance of the controller, and connect it to our running server\n",
    "\n",
    "here the running server is assumed to be in the localhost at port 12345"
   ]
  },
  {
   "cell_type": "code",
   "execution_count": 42,
   "metadata": {},
   "outputs": [
    {
     "data": {
      "text/plain": [
       "<module 'smartscan' from 'd:\\\\Labview AJ\\\\pycomm\\\\smartscan\\\\notebooks\\\\..\\\\smartscan\\\\__init__.py'>"
      ]
     },
     "execution_count": 42,
     "metadata": {},
     "output_type": "execute_result"
    }
   ],
   "source": [
    "reload(sc)"
   ]
  },
  {
   "cell_type": "code",
   "execution_count": 43,
   "metadata": {},
   "outputs": [],
   "source": [
    "ctrl = sc.Controller('localhost', 54333)"
   ]
  },
  {
   "cell_type": "code",
   "execution_count": 44,
   "metadata": {},
   "outputs": [
    {
     "name": "stdout",
     "output_type": "stream",
     "text": [
      "Connecting to localhost:54333\n",
      "Sending message: NDIM\n",
      "Waiting for response\n",
      "Received: NDIM 2\n",
      "\n",
      "Connecting to localhost:54333\n",
      "Sending message: LIMITS\n",
      "Waiting for response\n",
      "Received: LIMITS 0.000000,100.000000 -100.000000,0.000000 \n",
      "\n",
      "Connecting to localhost:54333\n",
      "Sending message: FILENAME\n",
      "Waiting for response\n",
      "Received: FILENAME D:\\Data\\2023\\Testing\\Controller_9.h5\n",
      "\n",
      "Connecting to localhost:54333\n",
      "Sending message: CURRENT_POS\n",
      "Waiting for response\n",
      "Received: CURRENT_POS LoopA:93.0 LoopB:-50.0 \n",
      "\n"
     ]
    },
    {
     "ename": "ValueError",
     "evalue": "could not convert string to float: 'LoopA:93.0'",
     "output_type": "error",
     "traceback": [
      "\u001b[1;31m---------------------------------------------------------------------------\u001b[0m",
      "\u001b[1;31mValueError\u001b[0m                                Traceback (most recent call last)",
      "Cell \u001b[1;32mIn[44], line 1\u001b[0m\n\u001b[1;32m----> 1\u001b[0m ctrl\u001b[39m.\u001b[39;49mget_scan_info()\n",
      "File \u001b[1;32md:\\Labview AJ\\pycomm\\smartscan\\notebooks\\..\\smartscan\\controller.py:82\u001b[0m, in \u001b[0;36mController.get_scan_info\u001b[1;34m(self)\u001b[0m\n\u001b[0;32m     80\u001b[0m \u001b[39mself\u001b[39m\u001b[39m.\u001b[39mlimits \u001b[39m=\u001b[39m \u001b[39mself\u001b[39m\u001b[39m.\u001b[39mLIMITS()\n\u001b[0;32m     81\u001b[0m \u001b[39mself\u001b[39m\u001b[39m.\u001b[39mfilename \u001b[39m=\u001b[39m \u001b[39mself\u001b[39m\u001b[39m.\u001b[39mFILENAME()\n\u001b[1;32m---> 82\u001b[0m \u001b[39mself\u001b[39m\u001b[39m.\u001b[39mcurrent_pos \u001b[39m=\u001b[39m \u001b[39mself\u001b[39;49m\u001b[39m.\u001b[39;49mCURRENT_POS()\n",
      "File \u001b[1;32md:\\Labview AJ\\pycomm\\smartscan\\notebooks\\..\\smartscan\\controller.py:125\u001b[0m, in \u001b[0;36mController.CURRENT_POS\u001b[1;34m(self)\u001b[0m\n\u001b[0;32m    123\u001b[0m split \u001b[39m=\u001b[39m response\u001b[39m.\u001b[39msplit(\u001b[39m'\u001b[39m\u001b[39m \u001b[39m\u001b[39m'\u001b[39m)\n\u001b[0;32m    124\u001b[0m \u001b[39massert\u001b[39;00m split[\u001b[39m0\u001b[39m] \u001b[39m==\u001b[39m \u001b[39m'\u001b[39m\u001b[39mCURRENT_POS\u001b[39m\u001b[39m'\u001b[39m, \u001b[39mf\u001b[39m\u001b[39m\"\u001b[39m\u001b[39mExpected CURRENT_POS, got \u001b[39m\u001b[39m{\u001b[39;00msplit[\u001b[39m0\u001b[39m]\u001b[39m}\u001b[39;00m\u001b[39m\"\u001b[39m\n\u001b[1;32m--> 125\u001b[0m \u001b[39mreturn\u001b[39;00m [\u001b[39mfloat\u001b[39m(x) \u001b[39mfor\u001b[39;00m x \u001b[39min\u001b[39;00m split[\u001b[39m1\u001b[39m:]]\n",
      "File \u001b[1;32md:\\Labview AJ\\pycomm\\smartscan\\notebooks\\..\\smartscan\\controller.py:125\u001b[0m, in \u001b[0;36m<listcomp>\u001b[1;34m(.0)\u001b[0m\n\u001b[0;32m    123\u001b[0m split \u001b[39m=\u001b[39m response\u001b[39m.\u001b[39msplit(\u001b[39m'\u001b[39m\u001b[39m \u001b[39m\u001b[39m'\u001b[39m)\n\u001b[0;32m    124\u001b[0m \u001b[39massert\u001b[39;00m split[\u001b[39m0\u001b[39m] \u001b[39m==\u001b[39m \u001b[39m'\u001b[39m\u001b[39mCURRENT_POS\u001b[39m\u001b[39m'\u001b[39m, \u001b[39mf\u001b[39m\u001b[39m\"\u001b[39m\u001b[39mExpected CURRENT_POS, got \u001b[39m\u001b[39m{\u001b[39;00msplit[\u001b[39m0\u001b[39m]\u001b[39m}\u001b[39;00m\u001b[39m\"\u001b[39m\n\u001b[1;32m--> 125\u001b[0m \u001b[39mreturn\u001b[39;00m [\u001b[39mfloat\u001b[39;49m(x) \u001b[39mfor\u001b[39;00m x \u001b[39min\u001b[39;00m split[\u001b[39m1\u001b[39m:]]\n",
      "\u001b[1;31mValueError\u001b[0m: could not convert string to float: 'LoopA:93.0'"
     ]
    }
   ],
   "source": [
    "ctrl.get_scan_info()"
   ]
  },
  {
   "cell_type": "code",
   "execution_count": 45,
   "metadata": {},
   "outputs": [
    {
     "name": "stdout",
     "output_type": "stream",
     "text": [
      "current position: None\n",
      "limits: [('0.000000', '100.000000'), ('-100.000000', '0.000000'), ('',)]\n",
      "filename: D:\\Data\\2023\\Testing\\Controller_9.h5\n",
      "ndim: 2\n"
     ]
    }
   ],
   "source": [
    "print(f'current position: {ctrl.current_pos}')\n",
    "print(f'limits: {ctrl.limits}')\n",
    "print(f'filename: {ctrl.filename}')\n",
    "print(f'ndim: {ctrl.ndim}')"
   ]
  },
  {
   "cell_type": "code",
   "execution_count": 53,
   "metadata": {},
   "outputs": [],
   "source": [
    "import time"
   ]
  },
  {
   "cell_type": "code",
   "execution_count": 60,
   "metadata": {},
   "outputs": [
    {
     "name": "stdout",
     "output_type": "stream",
     "text": [
      "Connecting to localhost:54333\n",
      "Sending message: END\n",
      "Waiting for response\n",
      "Received: END 1\n"
     ]
    },
    {
     "data": {
      "text/plain": [
       "'END 1'"
      ]
     },
     "execution_count": 60,
     "metadata": {},
     "output_type": "execute_result"
    }
   ],
   "source": [
    "ctrl.send_command(\"END\")"
   ]
  },
  {
   "cell_type": "code",
   "execution_count": 59,
   "metadata": {},
   "outputs": [
    {
     "name": "stdout",
     "output_type": "stream",
     "text": [
      "Connecting to localhost:54333\n",
      "Sending message: ADD_POINT 42 87\n",
      "Waiting for response\n",
      "Received: ADD_POINT 42.000000 -999999999.000000 QueueLen 2\n",
      "\n",
      "Connecting to localhost:54333\n",
      "Sending message: CURRENT_POS\n",
      "Waiting for response\n",
      "Received: CURRENT_POS LoopA:42.0 LoopB:-87.0 \n",
      "\n"
     ]
    },
    {
     "ename": "ValueError",
     "evalue": "could not convert string to float: 'LoopA:42.0'",
     "output_type": "error",
     "traceback": [
      "\u001b[1;31m---------------------------------------------------------------------------\u001b[0m",
      "\u001b[1;31mValueError\u001b[0m                                Traceback (most recent call last)",
      "Cell \u001b[1;32mIn[59], line 3\u001b[0m\n\u001b[0;32m      1\u001b[0m ctrl\u001b[39m.\u001b[39mADD_POINT(\u001b[39m42\u001b[39m,\u001b[39m87\u001b[39m)\n\u001b[0;32m      2\u001b[0m time\u001b[39m.\u001b[39msleep(\u001b[39m3\u001b[39m)\n\u001b[1;32m----> 3\u001b[0m ctrl\u001b[39m.\u001b[39;49mCURRENT_POS()\n",
      "File \u001b[1;32md:\\Labview AJ\\pycomm\\smartscan\\notebooks\\..\\smartscan\\controller.py:125\u001b[0m, in \u001b[0;36mController.CURRENT_POS\u001b[1;34m(self)\u001b[0m\n\u001b[0;32m    123\u001b[0m split \u001b[39m=\u001b[39m response\u001b[39m.\u001b[39msplit(\u001b[39m'\u001b[39m\u001b[39m \u001b[39m\u001b[39m'\u001b[39m)\n\u001b[0;32m    124\u001b[0m \u001b[39massert\u001b[39;00m split[\u001b[39m0\u001b[39m] \u001b[39m==\u001b[39m \u001b[39m'\u001b[39m\u001b[39mCURRENT_POS\u001b[39m\u001b[39m'\u001b[39m, \u001b[39mf\u001b[39m\u001b[39m\"\u001b[39m\u001b[39mExpected CURRENT_POS, got \u001b[39m\u001b[39m{\u001b[39;00msplit[\u001b[39m0\u001b[39m]\u001b[39m}\u001b[39;00m\u001b[39m\"\u001b[39m\n\u001b[1;32m--> 125\u001b[0m \u001b[39mreturn\u001b[39;00m [\u001b[39mfloat\u001b[39m(x) \u001b[39mfor\u001b[39;00m x \u001b[39min\u001b[39;00m split[\u001b[39m1\u001b[39m:]]\n",
      "File \u001b[1;32md:\\Labview AJ\\pycomm\\smartscan\\notebooks\\..\\smartscan\\controller.py:125\u001b[0m, in \u001b[0;36m<listcomp>\u001b[1;34m(.0)\u001b[0m\n\u001b[0;32m    123\u001b[0m split \u001b[39m=\u001b[39m response\u001b[39m.\u001b[39msplit(\u001b[39m'\u001b[39m\u001b[39m \u001b[39m\u001b[39m'\u001b[39m)\n\u001b[0;32m    124\u001b[0m \u001b[39massert\u001b[39;00m split[\u001b[39m0\u001b[39m] \u001b[39m==\u001b[39m \u001b[39m'\u001b[39m\u001b[39mCURRENT_POS\u001b[39m\u001b[39m'\u001b[39m, \u001b[39mf\u001b[39m\u001b[39m\"\u001b[39m\u001b[39mExpected CURRENT_POS, got \u001b[39m\u001b[39m{\u001b[39;00msplit[\u001b[39m0\u001b[39m]\u001b[39m}\u001b[39;00m\u001b[39m\"\u001b[39m\n\u001b[1;32m--> 125\u001b[0m \u001b[39mreturn\u001b[39;00m [\u001b[39mfloat\u001b[39;49m(x) \u001b[39mfor\u001b[39;00m x \u001b[39min\u001b[39;00m split[\u001b[39m1\u001b[39m:]]\n",
      "\u001b[1;31mValueError\u001b[0m: could not convert string to float: 'LoopA:42.0'"
     ]
    }
   ],
   "source": [
    "ctrl.ADD_POINT(42,87)\n",
    "time.sleep(3)\n",
    "ctrl.CURRENT_POS()"
   ]
  },
  {
   "cell_type": "code",
   "execution_count": 58,
   "metadata": {},
   "outputs": [
    {
     "data": {
      "text/plain": [
       "True"
      ]
     },
     "execution_count": 58,
     "metadata": {},
     "output_type": "execute_result"
    }
   ],
   "source": [
    "float(-999999999.000000) == -999999999."
   ]
  },
  {
   "cell_type": "code",
   "execution_count": 52,
   "metadata": {},
   "outputs": [
    {
     "name": "stdout",
     "output_type": "stream",
     "text": [
      "Connecting to localhost:54333\n",
      "Sending message: CURRENT_POS\n",
      "Waiting for response\n",
      "Received: CURRENT_POS LoopA:20.0 LoopB:-51.0 \n",
      "\n"
     ]
    },
    {
     "ename": "ValueError",
     "evalue": "could not convert string to float: 'LoopA:20.0'",
     "output_type": "error",
     "traceback": [
      "\u001b[1;31m---------------------------------------------------------------------------\u001b[0m",
      "\u001b[1;31mValueError\u001b[0m                                Traceback (most recent call last)",
      "Cell \u001b[1;32mIn[52], line 1\u001b[0m\n\u001b[1;32m----> 1\u001b[0m ctrl\u001b[39m.\u001b[39;49mCURRENT_POS()\n",
      "File \u001b[1;32md:\\Labview AJ\\pycomm\\smartscan\\notebooks\\..\\smartscan\\controller.py:125\u001b[0m, in \u001b[0;36mController.CURRENT_POS\u001b[1;34m(self)\u001b[0m\n\u001b[0;32m    123\u001b[0m split \u001b[39m=\u001b[39m response\u001b[39m.\u001b[39msplit(\u001b[39m'\u001b[39m\u001b[39m \u001b[39m\u001b[39m'\u001b[39m)\n\u001b[0;32m    124\u001b[0m \u001b[39massert\u001b[39;00m split[\u001b[39m0\u001b[39m] \u001b[39m==\u001b[39m \u001b[39m'\u001b[39m\u001b[39mCURRENT_POS\u001b[39m\u001b[39m'\u001b[39m, \u001b[39mf\u001b[39m\u001b[39m\"\u001b[39m\u001b[39mExpected CURRENT_POS, got \u001b[39m\u001b[39m{\u001b[39;00msplit[\u001b[39m0\u001b[39m]\u001b[39m}\u001b[39;00m\u001b[39m\"\u001b[39m\n\u001b[1;32m--> 125\u001b[0m \u001b[39mreturn\u001b[39;00m [\u001b[39mfloat\u001b[39m(x) \u001b[39mfor\u001b[39;00m x \u001b[39min\u001b[39;00m split[\u001b[39m1\u001b[39m:]]\n",
      "File \u001b[1;32md:\\Labview AJ\\pycomm\\smartscan\\notebooks\\..\\smartscan\\controller.py:125\u001b[0m, in \u001b[0;36m<listcomp>\u001b[1;34m(.0)\u001b[0m\n\u001b[0;32m    123\u001b[0m split \u001b[39m=\u001b[39m response\u001b[39m.\u001b[39msplit(\u001b[39m'\u001b[39m\u001b[39m \u001b[39m\u001b[39m'\u001b[39m)\n\u001b[0;32m    124\u001b[0m \u001b[39massert\u001b[39;00m split[\u001b[39m0\u001b[39m] \u001b[39m==\u001b[39m \u001b[39m'\u001b[39m\u001b[39mCURRENT_POS\u001b[39m\u001b[39m'\u001b[39m, \u001b[39mf\u001b[39m\u001b[39m\"\u001b[39m\u001b[39mExpected CURRENT_POS, got \u001b[39m\u001b[39m{\u001b[39;00msplit[\u001b[39m0\u001b[39m]\u001b[39m}\u001b[39;00m\u001b[39m\"\u001b[39m\n\u001b[1;32m--> 125\u001b[0m \u001b[39mreturn\u001b[39;00m [\u001b[39mfloat\u001b[39;49m(x) \u001b[39mfor\u001b[39;00m x \u001b[39min\u001b[39;00m split[\u001b[39m1\u001b[39m:]]\n",
      "\u001b[1;31mValueError\u001b[0m: could not convert string to float: 'LoopA:20.0'"
     ]
    }
   ],
   "source": [
    "ctrl.CURRENT_POS()"
   ]
  },
  {
   "cell_type": "code",
   "execution_count": 17,
   "metadata": {},
   "outputs": [],
   "source": [
    "def add_points(*args):\n",
    "    s = \"\"\n",
    "    for arg in args:\n",
    "        s += f\"ADD_POINT {arg[0]} {arg[1]}\\n\"\n",
    "    return s\n"
   ]
  },
  {
   "cell_type": "code",
   "execution_count": 26,
   "metadata": {},
   "outputs": [
    {
     "data": {
      "text/plain": [
       "'ADD_POINT 20 -20\\nADD_POINT 30 -30\\nADD_POINT 40 -40\\n'"
      ]
     },
     "execution_count": 26,
     "metadata": {},
     "output_type": "execute_result"
    }
   ],
   "source": [
    "add_points((20,-20),(30,-30),(40,-40))"
   ]
  },
  {
   "cell_type": "code",
   "execution_count": 27,
   "metadata": {},
   "outputs": [
    {
     "name": "stdout",
     "output_type": "stream",
     "text": [
      "Connecting to localhost:54333\n",
      "Sending message: ADD_POINT 20 -20\n",
      "ADD_POINT 30 -30\n",
      "ADD_POINT 40 -40\n",
      "\n",
      "Waiting for response\n",
      "Received: ADD_POINT 20.000000 -20.000000 QueueLen 2\n",
      "\n"
     ]
    },
    {
     "data": {
      "text/plain": [
       "'ADD_POINT 20.000000 -20.000000 QueueLen 2'"
      ]
     },
     "execution_count": 27,
     "metadata": {},
     "output_type": "execute_result"
    }
   ],
   "source": [
    "ctrl.send_command(add_points((20,-20),(30,-30),(40,-40)))"
   ]
  },
  {
   "cell_type": "markdown",
   "metadata": {},
   "source": [
    "# spam new positions"
   ]
  },
  {
   "cell_type": "code",
   "execution_count": 28,
   "metadata": {},
   "outputs": [
    {
     "name": "stdout",
     "output_type": "stream",
     "text": [
      "Connecting to localhost:54333\n",
      "Sending message: ADD_POINT 20 -20\n",
      "Waiting for response\n",
      "Received: ADD_POINT 20.000000 -20.000000 QueueLen 2\n",
      "\n",
      "Connecting to localhost:54333\n",
      "Sending message: ADD_POINT 21 -21\n",
      "Waiting for response\n",
      "Received: ADD_POINT 21.000000 -21.000000 QueueLen 2\n",
      "\n",
      "Connecting to localhost:54333\n",
      "Sending message: ADD_POINT 22 -22\n",
      "Waiting for response\n",
      "Received: ADD_POINT 22.000000 -22.000000 QueueLen 2\n",
      "\n",
      "Connecting to localhost:54333\n",
      "Sending message: ADD_POINT 23 -23\n",
      "Waiting for response\n",
      "Received: ADD_POINT 23.000000 -23.000000 QueueLen 2\n",
      "\n",
      "Connecting to localhost:54333\n",
      "Sending message: ADD_POINT 24 -24\n",
      "Waiting for response\n",
      "Received: ADD_POINT 24.000000 -24.000000 QueueLen 2\n",
      "\n",
      "Connecting to localhost:54333\n",
      "Sending message: ADD_POINT 25 -25\n",
      "Waiting for response\n",
      "Received: ADD_POINT 25.000000 -25.000000 QueueLen 2\n",
      "\n",
      "Connecting to localhost:54333\n",
      "Sending message: ADD_POINT 26 -26\n",
      "Waiting for response\n",
      "Received: ADD_POINT 26.000000 -26.000000 QueueLen 2\n",
      "\n",
      "Connecting to localhost:54333\n",
      "Sending message: ADD_POINT 27 -27\n",
      "Waiting for response\n",
      "Received: ADD_POINT 27.000000 -27.000000 QueueLen 2\n",
      "\n",
      "Connecting to localhost:54333\n",
      "Sending message: ADD_POINT 28 -28\n",
      "Waiting for response\n",
      "Received: ADD_POINT 28.000000 -28.000000 QueueLen 2\n",
      "\n",
      "Connecting to localhost:54333\n",
      "Sending message: ADD_POINT 29 -29\n",
      "Waiting for response\n",
      "Received: ADD_POINT 29.000000 -29.000000 QueueLen 2\n",
      "\n"
     ]
    }
   ],
   "source": [
    "for n in range(20,30):\n",
    "    ctrl.ADD_POINT(n,-n)"
   ]
  },
  {
   "cell_type": "code",
   "execution_count": 30,
   "metadata": {},
   "outputs": [
    {
     "data": {
      "text/plain": [
       "[('0.000000', '100.000000'), ('-100.000000', '0.000000'), ('',)]"
      ]
     },
     "execution_count": 30,
     "metadata": {},
     "output_type": "execute_result"
    }
   ],
   "source": [
    "ctrl.limits"
   ]
  },
  {
   "cell_type": "code",
   "execution_count": 29,
   "metadata": {},
   "outputs": [],
   "source": [
    "import numpy as np"
   ]
  },
  {
   "cell_type": "code",
   "execution_count": 34,
   "metadata": {},
   "outputs": [
    {
     "data": {
      "text/plain": [
       "0"
      ]
     },
     "execution_count": 34,
     "metadata": {},
     "output_type": "execute_result"
    }
   ],
   "source": [
    "int(float(ctrl.limits[0][0]))"
   ]
  },
  {
   "cell_type": "code",
   "execution_count": 37,
   "metadata": {},
   "outputs": [
    {
     "name": "stdout",
     "output_type": "stream",
     "text": [
      "Connecting to localhost:54333\n",
      "Sending message: ADD_POINT 26 -67\n",
      "Waiting for response\n",
      "Received: ADD_POINT 26.000000 -67.000000 QueueLen 2\n",
      "\n",
      "Connecting to localhost:54333\n",
      "Sending message: ADD_POINT 57 -55\n",
      "Waiting for response\n",
      "Received: ADD_POINT 57.000000 -55.000000 QueueLen 2\n",
      "\n",
      "Connecting to localhost:54333\n",
      "Sending message: ADD_POINT 33 -28\n",
      "Waiting for response\n",
      "Received: ADD_POINT 33.000000 -28.000000 QueueLen 2\n",
      "\n",
      "Connecting to localhost:54333\n",
      "Sending message: ADD_POINT 25 -48\n",
      "Waiting for response\n",
      "Received: ADD_POINT 25.000000 -48.000000 QueueLen 2\n",
      "\n",
      "Connecting to localhost:54333\n",
      "Sending message: ADD_POINT 24 -1\n",
      "Waiting for response\n",
      "Received: ADD_POINT 24.000000 -1.000000 QueueLen 2\n",
      "\n",
      "Connecting to localhost:54333\n",
      "Sending message: ADD_POINT 40 -63\n",
      "Waiting for response\n",
      "Received: ADD_POINT 40.000000 -63.000000 QueueLen 2\n",
      "\n",
      "Connecting to localhost:54333\n",
      "Sending message: ADD_POINT 38 -99\n",
      "Waiting for response\n",
      "Received: ADD_POINT 38.000000 -99.000000 QueueLen 2\n",
      "\n",
      "Connecting to localhost:54333\n",
      "Sending message: ADD_POINT 63 -63\n",
      "Waiting for response\n",
      "Received: ADD_POINT 63.000000 -63.000000 QueueLen 2\n",
      "\n",
      "Connecting to localhost:54333\n",
      "Sending message: ADD_POINT 83 -2\n",
      "Waiting for response\n",
      "Received: ADD_POINT 83.000000 -2.000000 QueueLen 2\n",
      "\n",
      "Connecting to localhost:54333\n",
      "Sending message: ADD_POINT 78 -10\n",
      "Waiting for response\n",
      "Received: ADD_POINT 78.000000 -10.000000 QueueLen 2\n",
      "\n",
      "Connecting to localhost:54333\n",
      "Sending message: ADD_POINT 12 -67\n",
      "Waiting for response\n",
      "Received: ADD_POINT 12.000000 -67.000000 QueueLen 2\n",
      "\n",
      "Connecting to localhost:54333\n",
      "Sending message: ADD_POINT 4 -24\n",
      "Waiting for response\n",
      "Received: ADD_POINT 4.000000 -24.000000 QueueLen 2\n",
      "\n",
      "Connecting to localhost:54333\n",
      "Sending message: ADD_POINT 74 -33\n",
      "Waiting for response\n",
      "Received: ADD_POINT 74.000000 -33.000000 QueueLen 2\n",
      "\n",
      "Connecting to localhost:54333\n",
      "Sending message: ADD_POINT 14 -60\n",
      "Waiting for response\n",
      "Received: ADD_POINT 14.000000 -60.000000 QueueLen 2\n",
      "\n",
      "Connecting to localhost:54333\n",
      "Sending message: ADD_POINT 4 -11\n",
      "Waiting for response\n",
      "Received: ADD_POINT 4.000000 -11.000000 QueueLen 2\n",
      "\n",
      "Connecting to localhost:54333\n",
      "Sending message: ADD_POINT 13 -22\n",
      "Waiting for response\n",
      "Received: ADD_POINT 13.000000 -22.000000 QueueLen 2\n",
      "\n",
      "Connecting to localhost:54333\n",
      "Sending message: ADD_POINT 2 -57\n",
      "Waiting for response\n",
      "Received: ADD_POINT 2.000000 -57.000000 QueueLen 2\n",
      "\n",
      "Connecting to localhost:54333\n",
      "Sending message: ADD_POINT 0 -58\n",
      "Waiting for response\n",
      "Received: ADD_POINT 0.000000 -58.000000 QueueLen 2\n",
      "\n",
      "Connecting to localhost:54333\n",
      "Sending message: ADD_POINT 47 -2\n",
      "Waiting for response\n",
      "Received: ADD_POINT 47.000000 -2.000000 QueueLen 2\n",
      "\n",
      "Connecting to localhost:54333\n",
      "Sending message: ADD_POINT 63 -30\n",
      "Waiting for response\n",
      "Received: ADD_POINT 63.000000 -30.000000 QueueLen 2\n",
      "\n",
      "Connecting to localhost:54333\n",
      "Sending message: ADD_POINT 13 -33\n",
      "Waiting for response\n",
      "Received: ADD_POINT 13.000000 -33.000000 QueueLen 2\n",
      "\n",
      "Connecting to localhost:54333\n",
      "Sending message: ADD_POINT 24 -98\n",
      "Waiting for response\n",
      "Received: ADD_POINT 24.000000 -98.000000 QueueLen 2\n",
      "\n",
      "Connecting to localhost:54333\n",
      "Sending message: ADD_POINT 76 -18\n",
      "Waiting for response\n",
      "Received: ADD_POINT 76.000000 -18.000000 QueueLen 2\n",
      "\n",
      "Connecting to localhost:54333\n",
      "Sending message: ADD_POINT 0 -57\n",
      "Waiting for response\n",
      "Received: ADD_POINT 0.000000 -57.000000 QueueLen 2\n",
      "\n",
      "Connecting to localhost:54333\n",
      "Sending message: ADD_POINT 78 -88\n",
      "Waiting for response\n",
      "Received: ADD_POINT 78.000000 -88.000000 QueueLen 2\n",
      "\n",
      "Connecting to localhost:54333\n",
      "Sending message: ADD_POINT 10 -1\n",
      "Waiting for response\n",
      "Received: ADD_POINT 10.000000 -1.000000 QueueLen 2\n",
      "\n",
      "Connecting to localhost:54333\n",
      "Sending message: ADD_POINT 62 -40\n",
      "Waiting for response\n",
      "Received: ADD_POINT 62.000000 -40.000000 QueueLen 2\n",
      "\n",
      "Connecting to localhost:54333\n",
      "Sending message: ADD_POINT 36 -51\n",
      "Waiting for response\n",
      "Received: ADD_POINT 36.000000 -51.000000 QueueLen 2\n",
      "\n",
      "Connecting to localhost:54333\n",
      "Sending message: ADD_POINT 14 -95\n",
      "Waiting for response\n",
      "Received: ADD_POINT 14.000000 -95.000000 QueueLen 2\n",
      "\n",
      "Connecting to localhost:54333\n",
      "Sending message: ADD_POINT 84 -57\n",
      "Waiting for response\n",
      "Received: ADD_POINT 84.000000 -57.000000 QueueLen 2\n",
      "\n",
      "Connecting to localhost:54333\n",
      "Sending message: ADD_POINT 78 -28\n",
      "Waiting for response\n",
      "Received: ADD_POINT 78.000000 -28.000000 QueueLen 2\n",
      "\n",
      "Connecting to localhost:54333\n",
      "Sending message: ADD_POINT 94 -78\n",
      "Waiting for response\n",
      "Received: ADD_POINT 94.000000 -78.000000 QueueLen 2\n",
      "\n",
      "Connecting to localhost:54333\n",
      "Sending message: ADD_POINT 3 -42\n",
      "Waiting for response\n",
      "Received: ADD_POINT 3.000000 -42.000000 QueueLen 2\n",
      "\n",
      "Connecting to localhost:54333\n",
      "Sending message: ADD_POINT 30 -92\n",
      "Waiting for response\n",
      "Received: ADD_POINT 30.000000 -92.000000 QueueLen 2\n",
      "\n",
      "Connecting to localhost:54333\n",
      "Sending message: ADD_POINT 44 -82\n",
      "Waiting for response\n",
      "Received: ADD_POINT 44.000000 -82.000000 QueueLen 2\n",
      "\n",
      "Connecting to localhost:54333\n",
      "Sending message: ADD_POINT 97 -38\n",
      "Waiting for response\n",
      "Received: ADD_POINT 97.000000 -38.000000 QueueLen 2\n",
      "\n",
      "Connecting to localhost:54333\n",
      "Sending message: ADD_POINT 98 -55\n",
      "Waiting for response\n",
      "Received: ADD_POINT 98.000000 -55.000000 QueueLen 2\n",
      "\n",
      "Connecting to localhost:54333\n",
      "Sending message: ADD_POINT 23 -9\n",
      "Waiting for response\n",
      "Received: ADD_POINT 23.000000 -9.000000 QueueLen 2\n",
      "\n",
      "Connecting to localhost:54333\n",
      "Sending message: ADD_POINT 37 -95\n",
      "Waiting for response\n",
      "Received: ADD_POINT 37.000000 -95.000000 QueueLen 2\n",
      "\n",
      "Connecting to localhost:54333\n",
      "Sending message: ADD_POINT 94 -73\n",
      "Waiting for response\n",
      "Received: ADD_POINT 94.000000 -73.000000 QueueLen 2\n",
      "\n",
      "Connecting to localhost:54333\n",
      "Sending message: ADD_POINT 66 -75\n",
      "Waiting for response\n",
      "Received: ADD_POINT 66.000000 -75.000000 QueueLen 2\n",
      "\n",
      "Connecting to localhost:54333\n",
      "Sending message: ADD_POINT 42 -2\n",
      "Waiting for response\n",
      "Received: ADD_POINT 42.000000 -2.000000 QueueLen 2\n",
      "\n",
      "Connecting to localhost:54333\n",
      "Sending message: ADD_POINT 86 -74\n",
      "Waiting for response\n",
      "Received: ADD_POINT 86.000000 -74.000000 QueueLen 2\n",
      "\n",
      "Connecting to localhost:54333\n",
      "Sending message: ADD_POINT 63 -72\n",
      "Waiting for response\n",
      "Received: ADD_POINT 63.000000 -72.000000 QueueLen 2\n",
      "\n",
      "Connecting to localhost:54333\n",
      "Sending message: ADD_POINT 21 -68\n",
      "Waiting for response\n",
      "Received: ADD_POINT 21.000000 -68.000000 QueueLen 2\n",
      "\n",
      "Connecting to localhost:54333\n",
      "Sending message: ADD_POINT 74 -15\n",
      "Waiting for response\n",
      "Received: ADD_POINT 74.000000 -15.000000 QueueLen 2\n",
      "\n",
      "Connecting to localhost:54333\n",
      "Sending message: ADD_POINT 6 -77\n",
      "Waiting for response\n",
      "Received: ADD_POINT 6.000000 -77.000000 QueueLen 2\n",
      "\n",
      "Connecting to localhost:54333\n",
      "Sending message: ADD_POINT 60 -74\n",
      "Waiting for response\n",
      "Received: ADD_POINT 60.000000 -74.000000 QueueLen 2\n",
      "\n",
      "Connecting to localhost:54333\n",
      "Sending message: ADD_POINT 28 -22\n",
      "Waiting for response\n",
      "Received: ADD_POINT 28.000000 -22.000000 QueueLen 2\n",
      "\n",
      "Connecting to localhost:54333\n",
      "Sending message: ADD_POINT 89 -19\n",
      "Waiting for response\n",
      "Received: ADD_POINT 89.000000 -19.000000 QueueLen 2\n",
      "\n",
      "Connecting to localhost:54333\n",
      "Sending message: ADD_POINT 44 -69\n",
      "Waiting for response\n",
      "Received: ADD_POINT 44.000000 -69.000000 QueueLen 2\n",
      "\n",
      "Connecting to localhost:54333\n",
      "Sending message: ADD_POINT 19 -40\n",
      "Waiting for response\n",
      "Received: ADD_POINT 19.000000 -40.000000 QueueLen 2\n",
      "\n",
      "Connecting to localhost:54333\n",
      "Sending message: ADD_POINT 22 -23\n",
      "Waiting for response\n",
      "Received: ADD_POINT 22.000000 -23.000000 QueueLen 2\n",
      "\n",
      "Connecting to localhost:54333\n",
      "Sending message: ADD_POINT 65 -29\n",
      "Waiting for response\n",
      "Received: ADD_POINT 65.000000 -29.000000 QueueLen 2\n",
      "\n",
      "Connecting to localhost:54333\n",
      "Sending message: ADD_POINT 31 -14\n",
      "Waiting for response\n",
      "Received: ADD_POINT 31.000000 -14.000000 QueueLen 2\n",
      "\n",
      "Connecting to localhost:54333\n",
      "Sending message: ADD_POINT 56 -97\n",
      "Waiting for response\n",
      "Received: ADD_POINT 56.000000 -97.000000 QueueLen 2\n",
      "\n",
      "Connecting to localhost:54333\n",
      "Sending message: ADD_POINT 91 -96\n",
      "Waiting for response\n",
      "Received: ADD_POINT 91.000000 -96.000000 QueueLen 2\n",
      "\n",
      "Connecting to localhost:54333\n",
      "Sending message: ADD_POINT 83 -57\n",
      "Waiting for response\n",
      "Received: ADD_POINT 83.000000 -57.000000 QueueLen 2\n",
      "\n",
      "Connecting to localhost:54333\n",
      "Sending message: ADD_POINT 97 -71\n",
      "Waiting for response\n",
      "Received: ADD_POINT 97.000000 -71.000000 QueueLen 2\n",
      "\n",
      "Connecting to localhost:54333\n",
      "Sending message: ADD_POINT 15 -44\n",
      "Waiting for response\n",
      "Received: ADD_POINT 15.000000 -44.000000 QueueLen 2\n",
      "\n",
      "Connecting to localhost:54333\n",
      "Sending message: ADD_POINT 54 -32\n",
      "Waiting for response\n",
      "Received: ADD_POINT 54.000000 -32.000000 QueueLen 2\n",
      "\n",
      "Connecting to localhost:54333\n",
      "Sending message: ADD_POINT 98 -55\n",
      "Waiting for response\n",
      "Received: ADD_POINT 98.000000 -55.000000 QueueLen 2\n",
      "\n",
      "Connecting to localhost:54333\n",
      "Sending message: ADD_POINT 77 -21\n",
      "Waiting for response\n",
      "Received: ADD_POINT 77.000000 -21.000000 QueueLen 2\n",
      "\n",
      "Connecting to localhost:54333\n",
      "Sending message: ADD_POINT 32 -60\n",
      "Waiting for response\n",
      "Received: ADD_POINT 32.000000 -60.000000 QueueLen 2\n",
      "\n",
      "Connecting to localhost:54333\n",
      "Sending message: ADD_POINT 28 -55\n",
      "Waiting for response\n",
      "Received: ADD_POINT 28.000000 -55.000000 QueueLen 2\n",
      "\n",
      "Connecting to localhost:54333\n",
      "Sending message: ADD_POINT 85 -81\n",
      "Waiting for response\n",
      "Received: ADD_POINT 85.000000 -81.000000 QueueLen 2\n",
      "\n",
      "Connecting to localhost:54333\n",
      "Sending message: ADD_POINT 89 -59\n",
      "Waiting for response\n",
      "Received: ADD_POINT 89.000000 -59.000000 QueueLen 2\n",
      "\n",
      "Connecting to localhost:54333\n",
      "Sending message: ADD_POINT 83 -34\n",
      "Waiting for response\n",
      "Received: ADD_POINT 83.000000 -34.000000 QueueLen 2\n",
      "\n",
      "Connecting to localhost:54333\n",
      "Sending message: ADD_POINT 93 -22\n",
      "Waiting for response\n",
      "Received: ADD_POINT 93.000000 -22.000000 QueueLen 2\n",
      "\n",
      "Connecting to localhost:54333\n",
      "Sending message: ADD_POINT 47 -91\n",
      "Waiting for response\n",
      "Received: ADD_POINT 47.000000 -91.000000 QueueLen 2\n",
      "\n",
      "Connecting to localhost:54333\n",
      "Sending message: ADD_POINT 16 -9\n",
      "Waiting for response\n",
      "Received: ADD_POINT 16.000000 -9.000000 QueueLen 2\n",
      "\n",
      "Connecting to localhost:54333\n",
      "Sending message: ADD_POINT 52 -50\n",
      "Waiting for response\n",
      "Received: ADD_POINT 52.000000 -50.000000 QueueLen 2\n",
      "\n",
      "Connecting to localhost:54333\n",
      "Sending message: ADD_POINT 31 -26\n",
      "Waiting for response\n",
      "Received: ADD_POINT 31.000000 -26.000000 QueueLen 2\n",
      "\n",
      "Connecting to localhost:54333\n",
      "Sending message: ADD_POINT 21 -49\n",
      "Waiting for response\n",
      "Received: ADD_POINT 21.000000 -49.000000 QueueLen 2\n",
      "\n",
      "Connecting to localhost:54333\n",
      "Sending message: ADD_POINT 61 -20\n",
      "Waiting for response\n",
      "Received: ADD_POINT 61.000000 -20.000000 QueueLen 2\n",
      "\n",
      "Connecting to localhost:54333\n",
      "Sending message: ADD_POINT 0 -76\n",
      "Waiting for response\n",
      "Received: ADD_POINT 0.000000 -76.000000 QueueLen 2\n",
      "\n",
      "Connecting to localhost:54333\n",
      "Sending message: ADD_POINT 94 -42\n",
      "Waiting for response\n",
      "Received: ADD_POINT 94.000000 -42.000000 QueueLen 2\n",
      "\n",
      "Connecting to localhost:54333\n",
      "Sending message: ADD_POINT 11 -38\n",
      "Waiting for response\n",
      "Received: ADD_POINT 11.000000 -38.000000 QueueLen 2\n",
      "\n",
      "Connecting to localhost:54333\n",
      "Sending message: ADD_POINT 97 -86\n",
      "Waiting for response\n",
      "Received: ADD_POINT 97.000000 -86.000000 QueueLen 2\n",
      "\n",
      "Connecting to localhost:54333\n",
      "Sending message: ADD_POINT 8 -36\n",
      "Waiting for response\n",
      "Received: ADD_POINT 8.000000 -36.000000 QueueLen 2\n",
      "\n",
      "Connecting to localhost:54333\n",
      "Sending message: ADD_POINT 95 -27\n",
      "Waiting for response\n",
      "Received: ADD_POINT 95.000000 -27.000000 QueueLen 2\n",
      "\n",
      "Connecting to localhost:54333\n",
      "Sending message: ADD_POINT 11 -11\n",
      "Waiting for response\n",
      "Received: ADD_POINT 11.000000 -11.000000 QueueLen 2\n",
      "\n",
      "Connecting to localhost:54333\n",
      "Sending message: ADD_POINT 66 -4\n",
      "Waiting for response\n",
      "Received: ADD_POINT 66.000000 -4.000000 QueueLen 2\n",
      "\n",
      "Connecting to localhost:54333\n",
      "Sending message: ADD_POINT 92 -74\n",
      "Waiting for response\n",
      "Received: ADD_POINT 92.000000 -74.000000 QueueLen 2\n",
      "\n",
      "Connecting to localhost:54333\n",
      "Sending message: ADD_POINT 71 -90\n",
      "Waiting for response\n",
      "Received: ADD_POINT 71.000000 -90.000000 QueueLen 2\n",
      "\n",
      "Connecting to localhost:54333\n",
      "Sending message: ADD_POINT 71 -30\n",
      "Waiting for response\n",
      "Received: ADD_POINT 71.000000 -30.000000 QueueLen 2\n",
      "\n",
      "Connecting to localhost:54333\n",
      "Sending message: ADD_POINT 75 -72\n",
      "Waiting for response\n",
      "Received: ADD_POINT 75.000000 -72.000000 QueueLen 2\n",
      "\n",
      "Connecting to localhost:54333\n",
      "Sending message: ADD_POINT 45 -24\n",
      "Waiting for response\n",
      "Received: ADD_POINT 45.000000 -24.000000 QueueLen 2\n",
      "\n",
      "Connecting to localhost:54333\n",
      "Sending message: ADD_POINT 56 -79\n",
      "Waiting for response\n",
      "Received: ADD_POINT 56.000000 -79.000000 QueueLen 2\n",
      "\n",
      "Connecting to localhost:54333\n",
      "Sending message: ADD_POINT 85 -62\n",
      "Waiting for response\n",
      "Received: ADD_POINT 85.000000 -62.000000 QueueLen 2\n",
      "\n",
      "Connecting to localhost:54333\n",
      "Sending message: ADD_POINT 79 -15\n",
      "Waiting for response\n",
      "Received: ADD_POINT 79.000000 -15.000000 QueueLen 2\n",
      "\n",
      "Connecting to localhost:54333\n",
      "Sending message: ADD_POINT 82 -40\n",
      "Waiting for response\n",
      "Received: ADD_POINT 82.000000 -40.000000 QueueLen 2\n",
      "\n",
      "Connecting to localhost:54333\n",
      "Sending message: ADD_POINT 61 -95\n",
      "Waiting for response\n",
      "Received: ADD_POINT 61.000000 -95.000000 QueueLen 2\n",
      "\n",
      "Connecting to localhost:54333\n",
      "Sending message: ADD_POINT 0 -17\n",
      "Waiting for response\n",
      "Received: ADD_POINT 0.000000 -17.000000 QueueLen 2\n",
      "\n",
      "Connecting to localhost:54333\n",
      "Sending message: ADD_POINT 0 -74\n",
      "Waiting for response\n",
      "Received: ADD_POINT 0.000000 -74.000000 QueueLen 2\n",
      "\n",
      "Connecting to localhost:54333\n",
      "Sending message: ADD_POINT 71 -14\n",
      "Waiting for response\n",
      "Received: ADD_POINT 71.000000 -14.000000 QueueLen 2\n",
      "\n",
      "Connecting to localhost:54333\n",
      "Sending message: ADD_POINT 6 -64\n",
      "Waiting for response\n",
      "Received: ADD_POINT 6.000000 -64.000000 QueueLen 2\n",
      "\n",
      "Connecting to localhost:54333\n",
      "Sending message: ADD_POINT 29 -30\n",
      "Waiting for response\n",
      "Received: ADD_POINT 29.000000 -30.000000 QueueLen 2\n",
      "\n",
      "Connecting to localhost:54333\n",
      "Sending message: ADD_POINT 39 -66\n",
      "Waiting for response\n",
      "Received: ADD_POINT 39.000000 -66.000000 QueueLen 2\n",
      "\n",
      "Connecting to localhost:54333\n",
      "Sending message: ADD_POINT 93 -49\n",
      "Waiting for response\n",
      "Received: ADD_POINT 93.000000 -49.000000 QueueLen 2\n",
      "\n"
     ]
    }
   ],
   "source": [
    "xinit = np.random.randint(int(float(ctrl.limits[0][0])),int(float(ctrl.limits[0][1])),100)\n",
    "yinit = np.random.randint(int(float(ctrl.limits[1][0])),int(float(ctrl.limits[1][1])),100)\n",
    "for x,y in zip(xinit,yinit):\n",
    "    ctrl.ADD_POINT(x,y)\n"
   ]
  },
  {
   "cell_type": "code",
   "execution_count": 38,
   "metadata": {},
   "outputs": [
    {
     "data": {
      "text/plain": [
       "<matplotlib.collections.PathCollection at 0x274917d6890>"
      ]
     },
     "execution_count": 38,
     "metadata": {},
     "output_type": "execute_result"
    },
    {
     "data": {
      "image/png": "[encoded data removed]",
      "text/plain": [
       "<Figure size 640x480 with 1 Axes>"
      ]
     },
     "metadata": {},
     "output_type": "display_data"
    }
   ],
   "source": [
    "import matplotlib.pyplot as plt\n",
    "plt.scatter(xinit,yinit)"
   ]
  },
  {
   "cell_type": "code",
   "execution_count": 41,
   "metadata": {},
   "outputs": [
    {
     "ename": "ValueError",
     "evalue": "could not convert string to float: 'a'",
     "output_type": "error",
     "traceback": [
      "\u001b[1;31m---------------------------------------------------------------------------\u001b[0m",
      "\u001b[1;31mValueError\u001b[0m                                Traceback (most recent call last)",
      "Cell \u001b[1;32mIn[41], line 1\u001b[0m\n\u001b[1;32m----> 1\u001b[0m \u001b[39mfloat\u001b[39;49m(\u001b[39m\"\u001b[39;49m\u001b[39ma\u001b[39;49m\u001b[39m\"\u001b[39;49m)\n",
      "\u001b[1;31mValueError\u001b[0m: could not convert string to float: 'a'"
     ]
    }
   ],
   "source": [
    "float(\"a\")"
   ]
  },
  {
   "cell_type": "code",
   "execution_count": 40,
   "metadata": {},
   "outputs": [
    {
     "name": "stdout",
     "output_type": "stream",
     "text": [
      "Connecting to localhost:54333\n",
      "Sending message: ADD_POINT 101 -50\n",
      "Waiting for response\n",
      "Received: ADD_POINT -999999999.000000 -50.000000 QueueLen 2\n",
      "\n"
     ]
    }
   ],
   "source": [
    "ctrl.ADD_POINT(101,-50)"
   ]
  },
  {
   "cell_type": "code",
   "execution_count": 16,
   "metadata": {},
   "outputs": [
    {
     "data": {
      "text/plain": [
       "['Loop', '20']"
      ]
     },
     "execution_count": 16,
     "metadata": {},
     "output_type": "execute_result"
    }
   ],
   "source": [
    "out = \"CURRENT_POS Loop:20 Loop:-20\"\n",
    "ax, val = out.split(\" \")[1].split(\":\")"
   ]
  },
  {
   "cell_type": "code",
   "execution_count": 11,
   "metadata": {},
   "outputs": [
    {
     "name": "stdout",
     "output_type": "stream",
     "text": [
      "Connecting to localhost:54333\n",
      "Sending message: PAUSE\n",
      "Waiting for response\n",
      "Received: PAUSE unpaused\n",
      "\n"
     ]
    },
    {
     "data": {
      "text/plain": [
       "'PAUSE unpaused\\r\\n'"
      ]
     },
     "execution_count": 11,
     "metadata": {},
     "output_type": "execute_result"
    }
   ],
   "source": [
    "ctrl.send_command(\"pause\")"
   ]
  },
  {
   "cell_type": "code",
   "execution_count": 12,
   "metadata": {},
   "outputs": [
    {
     "name": "stdout",
     "output_type": "stream",
     "text": [
      "Connecting to localhost:54333\n",
      "Sending message: END\n",
      "Waiting for response\n",
      "Received: END 1\n"
     ]
    },
    {
     "data": {
      "text/plain": [
       "'END 1'"
      ]
     },
     "execution_count": 12,
     "metadata": {},
     "output_type": "execute_result"
    }
   ],
   "source": [
    "ctrl.send_command(\"End\")"
   ]
  },
  {
   "cell_type": "code",
   "execution_count": 18,
   "metadata": {},
   "outputs": [
    {
     "name": "stdout",
     "output_type": "stream",
     "text": [
      "Connecting to localhost:54333\n",
      "Sending message: FILENAME\n",
      "Waiting for response\n",
      "Received: FILENAME D:\\Data\\2023\\Testing\\Controller_2.h5\n",
      "\n"
     ]
    }
   ],
   "source": [
    "fname = ctrl.FILENAME()"
   ]
  },
  {
   "cell_type": "code",
   "execution_count": 23,
   "metadata": {},
   "outputs": [
    {
     "data": {
      "text/plain": [
       "'D:\\\\Data\\\\2023\\\\Testing\\\\Controller_2.h5'"
      ]
     },
     "execution_count": 23,
     "metadata": {},
     "output_type": "execute_result"
    }
   ],
   "source": [
    "fname.strip(\"\\r\\n\")"
   ]
  },
  {
   "cell_type": "code",
   "execution_count": 25,
   "metadata": {},
   "outputs": [
    {
     "data": {
      "text/plain": [
       "True"
      ]
     },
     "execution_count": 25,
     "metadata": {},
     "output_type": "execute_result"
    }
   ],
   "source": [
    "Path(fname.strip(\"\\r\\n\")).exists()"
   ]
  },
  {
   "cell_type": "code",
   "execution_count": 26,
   "metadata": {},
   "outputs": [
    {
     "name": "stdout",
     "output_type": "stream",
     "text": [
      "Connecting to localhost:54333\n",
      "Sending message: END\n",
      "Waiting for response\n",
      "Received: END 1\n"
     ]
    },
    {
     "data": {
      "text/plain": [
       "'END 1'"
      ]
     },
     "execution_count": 26,
     "metadata": {},
     "output_type": "execute_result"
    }
   ],
   "source": [
    "ctrl.send_command(\"END\")"
   ]
  }
 ],
 "metadata": {
  "kernelspec": {
   "display_name": "knano",
   "language": "python",
   "name": "python3"
  },
  "language_info": {
   "codemirror_mode": {
    "name": "ipython",
    "version": 3
   },
   "file_extension": ".py",
   "mimetype": "text/x-python",
   "name": "python",
   "nbconvert_exporter": "python",
   "pygments_lexer": "ipython3",
   "version": "3.10.11"
  },
  "orig_nbformat": 4
 },
 "nbformat": 4,
 "nbformat_minor": 2
}
