{
 "cells": [
  {
   "cell_type": "code",
   "execution_count": null,
   "metadata": {},
   "outputs": [],
   "source": [
    "import numpy as np\n",
    "from gpcam.gp_optimizer import GPOptimizer\n",
    "import matplotlib.pyplot as plt\n",
    "from numpy.random import default_rng\n",
    "\n",
    "import plotly.graph_objects as go\n",
    "import numpy as np"
   ]
  },
  {
   "cell_type": "code",
   "execution_count": null,
   "metadata": {},
   "outputs": [],
   "source": [
    "def plot(x,y,z,data = None):\n",
    "    fig = go.Figure()\n",
    "    fig.add_trace(go.Surface(x = x, y = y,z=z))\n",
    "    if data is not None: \n",
    "        fig.add_trace(go.Scatter3d(x=data[:,0], y=data[:,1], z=data[:,2],\n",
    "                                   mode='markers'))\n",
    "\n",
    "    fig.update_layout(title='Posterior Mean', autosize=True,\n",
    "                  width=800, height=800,\n",
    "                  margin=dict(l=65, r=50, b=65, t=90))\n",
    "\n",
    "    fig.show()\n"
   ]
  },
  {
   "cell_type": "code",
   "execution_count": null,
   "metadata": {},
   "outputs": [],
   "source": [
    "a = np.load(\"/Users/davide/Downloads/us_topo.npy\")\n",
    "rng = default_rng()\n",
    "ind = rng.choice(len(a)-1, size=50, replace=False)\n",
    "points = a[ind,0:2]\n",
    "values = a[ind,2:3]\n",
    "print(\"x_min \", np.min(points[:,0]),\" x_max \",np.max(points[:,0]))\n",
    "print(\"y_min \", np.min(points[:,1]),\" y_max \",np.max(points[:,1]))\n",
    "print(\"length of data set: \", len(points))\n",
    "\n",
    "index_set_bounds = np.array([[0,99],[0,248]])\n",
    "hyperparameter_bounds = np.array([[0.001,1e9],[1,1000],[1,1000]])\n",
    "hps_guess = np.array([4.71907062e+06, 4.07439017e+02, 3.59068120e+02])"
   ]
  },
  {
   "cell_type": "code",
   "execution_count": null,
   "metadata": {},
   "outputs": [],
   "source": [
    "plt.figure()\n",
    "plt.imshow(a[:,2].reshape(100,250))\n"
   ]
  },
  {
   "cell_type": "code",
   "execution_count": null,
   "metadata": {},
   "outputs": [],
   "source": [
    "gp = GPOptimizer(2, index_set_bounds)\n",
    "gp.tell(points,values)\n",
    "gp.init_gp(hps_guess)\n",
    "gp.train_gp(hyperparameter_bounds,pop_size = 20,tolerance = 1e-6,max_iter = 2)"
   ]
  },
  {
   "cell_type": "code",
   "execution_count": null,
   "metadata": {},
   "outputs": [],
   "source": [
    "x_pred = np.empty((10000,2))\n",
    "counter = 0\n",
    "x = np.linspace(0,99,100)\n",
    "y = np.linspace(0,248,100)\n",
    "\n",
    "for i in x:\n",
    " for j in y:\n",
    "   x_pred[counter] = np.array([i,j])\n",
    "   counter += 1\n"
   ]
  },
  {
   "cell_type": "code",
   "execution_count": null,
   "metadata": {},
   "outputs": [],
   "source": [
    "res1 = gp.posterior_mean(x_pred)"
   ]
  },
  {
   "cell_type": "code",
   "execution_count": null,
   "metadata": {},
   "outputs": [],
   "source": [
    "res2 = gp.posterior_covariance(x_pred)\n",
    "# #res3 = gp.gp.shannon_information_gain(x_pred)\n",
    "# X,Y = np.meshgrid(x,y)\n",
    "\n",
    "# PM = np.reshape(res1[\"f(x)\"],(100,250))\n",
    "# PV = np.reshape(res2[\"v(x)\"],(100,250))\n",
    "# # plot(X,Y,PM)\n",
    "# # plot(X,Y,PV)\n"
   ]
  },
  {
   "cell_type": "code",
   "execution_count": null,
   "metadata": {},
   "outputs": [],
   "source": [
    "X,Y = np.meshgrid(x,y)\n",
    "\n",
    "PM = np.reshape(res1[\"f(x)\"],(100,100))\n",
    "PV = np.reshape(res2[\"v(x)\"],(100,100))\n",
    "# plot(X,Y,PM)\n",
    "# plot(X,Y,PV)\n"
   ]
  },
  {
   "cell_type": "code",
   "execution_count": null,
   "metadata": {},
   "outputs": [],
   "source": [
    "plot(X,Y,PM)\n",
    "plot(X,Y,PV)"
   ]
  },
  {
   "cell_type": "code",
   "execution_count": null,
   "metadata": {},
   "outputs": [],
   "source": [
    "from dask.distributed import Client, LocalCluster\n",
    "cluster = LocalCluster()  # Launches a scheduler and workers locally\n",
    "client = Client(cluster)  #"
   ]
  },
  {
   "cell_type": "code",
   "execution_count": null,
   "metadata": {},
   "outputs": [],
   "source": [
    "# cluster.close()"
   ]
  },
  {
   "cell_type": "code",
   "execution_count": null,
   "metadata": {},
   "outputs": [],
   "source": [
    "\n",
    "next = gp.ask(position = None, n = 5, acquisition_function = \"variance\", bounds = None,\n",
    "             method = \"hgdl\", pop_size = 50, max_iter = 20,\n",
    "             tol = 10e-6, dask_client = client)\n",
    "print(next)"
   ]
  },
  {
   "cell_type": "code",
   "execution_count": null,
   "metadata": {},
   "outputs": [],
   "source": [
    "next['x'][:,1]"
   ]
  },
  {
   "cell_type": "code",
   "execution_count": null,
   "metadata": {},
   "outputs": [],
   "source": [
    "fig,ax=plt.subplots(2,1,figsize=(8,4))\n",
    "ax[0].imshow(PM)\n",
    "ax[1].imshow(a[:,2].reshape(100,250))\n",
    "\n",
    "# plt.scatter(next['x'][:,1]/2.48,next['x'][:,0]/.99)"
   ]
  },
  {
   "cell_type": "code",
   "execution_count": null,
   "metadata": {},
   "outputs": [],
   "source": []
  },
  {
   "cell_type": "code",
   "execution_count": null,
   "metadata": {},
   "outputs": [],
   "source": [
    "res2"
   ]
  },
  {
   "cell_type": "code",
   "execution_count": null,
   "metadata": {},
   "outputs": [],
   "source": [
    "res1['x'][199]"
   ]
  },
  {
   "cell_type": "code",
   "execution_count": null,
   "metadata": {},
   "outputs": [],
   "source": []
  },
  {
   "attachments": {},
   "cell_type": "markdown",
   "metadata": {},
   "source": [
    "# Trying to predict experiment point"
   ]
  },
  {
   "attachments": {},
   "cell_type": "markdown",
   "metadata": {},
   "source": []
  },
  {
   "cell_type": "code",
   "execution_count": null,
   "metadata": {},
   "outputs": [],
   "source": [
    "import numpy as np\n",
    "from gpcam.gp_optimizer import GPOptimizer\n",
    "import matplotlib.pyplot as plt\n",
    "from numpy.random import default_rng\n",
    "\n",
    "import plotly.graph_objects as go\n",
    "import numpy as np"
   ]
  },
  {
   "cell_type": "code",
   "execution_count": null,
   "metadata": {},
   "outputs": [],
   "source": [
    "newpoint = find_next(points,values,gp)\n",
    "newval = measure_next(a,newpoint)\n",
    "values = np.append(values,newval)\n",
    "points = np.append(points,np.array(newpoint)[None,:],axis=0)\n",
    "\n",
    "print(values.shape,points.shape)\n",
    "print(newpoint,newval)\n",
    "\n",
    "def init_gp(points,values,index_set_bounds,hyperparameter_bounds,hps_guess):\n",
    "    gp = GPOptimizer(2, index_set_bounds)\n",
    "    gp.tell(points,values)\n",
    "    gp.init_gp(hps_guess)\n",
    "    gp.train_gp(hyperparameter_bounds,pop_size = 20,tolerance = 1e-6,max_iter = 2)\n",
    "    return gp\n",
    "\n",
    "\n",
    "def find_next(points,values,gp):\n",
    "    gp.tell(points,values)\n",
    "    gp.train_gp(hyperparameter_bounds,pop_size = 20,tolerance = 1e-6,max_iter = 2)\n",
    "    new = gp.ask(position = None, n = 1, acquisition_function = \"shannon_ig\", bounds = None,\n",
    "        method = \"global\", pop_size = 20, max_iter = 20, tol = 10e-6, x0 = None, dask_client = False)\n",
    "    x,y = np.round(new['x'][0]).astype(int)\n",
    "    return x,y\n",
    "\n",
    "def measure_next(a,new):\n",
    "    newval = a[new[0]*250+new[1]]\n",
    "    assert np.allclose(new,newval[:2]),\"coordinates don't match\"\n",
    "    # points.append(new)\n",
    "    # values.append(a[new[0]*250+new[1]])\n",
    "    return newval[2]\n",
    "    # new,a[new[0]*250+new[1]][2]\n",
    "\n"
   ]
  },
  {
   "cell_type": "code",
   "execution_count": null,
   "metadata": {},
   "outputs": [],
   "source": [
    "%%time\n",
    "a = np.load(\"/Users/davide/Downloads/us_topo.npy\")\n",
    "rng = default_rng()\n",
    "ind = rng.choice(len(a)-1, size=5, replace=False)\n",
    "points = a[ind,0:2]\n",
    "values = a[ind,2:3]\n",
    "print(\"x_min \", np.min(points[:,0]),\" x_max \",np.max(points[:,0]))\n",
    "print(\"y_min \", np.min(points[:,1]),\" y_max \",np.max(points[:,1]))\n",
    "print(\"length of data set: \", len(points))\n",
    "\n",
    "index_set_bounds = np.array([[0,99],[0,248]])\n",
    "hyperparameter_bounds = np.array([[0.001,1e9],[1,1000],[1,1000]])\n",
    "hps_guess = np.array([4.71907062e+06, 4.07439017e+02, 3.59068120e+02])\n",
    "\n",
    "gp = init_gp(points,values,index_set_bounds,hyperparameter_bounds,hps_guess)\n",
    "# gp = GPOptimizer(2, index_set_bounds)\n",
    "# gp.tell(points,values)\n",
    "# gp.init_gp(hps_guess)\n",
    "# gp.train_gp(hyperparameter_bounds,pop_size = 20,tolerance = 1e-6,max_iter = 2)\n",
    "\n",
    "\n",
    "# new = gp.ask(position = None, n = 1, acquisition_function = \"covariance\", bounds = None,\n",
    "#      method = \"global\", pop_size = 20, max_iter = 20, tol = 10e-6, x0 = None, dask_client = False)"
   ]
  },
  {
   "cell_type": "code",
   "execution_count": null,
   "metadata": {},
   "outputs": [],
   "source": [
    "x_pred = np.empty((25000,2))\n",
    "counter = 0\n",
    "x = np.linspace(0,99,100)\n",
    "y = np.linspace(0,248,250)\n",
    "\n",
    "for i in x:\n",
    " for j in y:\n",
    "   x_pred[counter] = np.array([i,j])\n",
    "   counter += 1\n",
    "\n",
    "res1 = gp.posterior_mean(x_pred)\n",
    "res2 = gp.posterior_covariance(x_pred)\n",
    "\n",
    "\n",
    "X,Y = np.meshgrid(x,y)\n",
    "\n",
    "PM = np.reshape(res1[\"f(x)\"],(100,250))\n",
    "PV = np.reshape(res2[\"v(x)\"],(100,250))\n",
    "\n",
    "\n",
    "fig,ax=plt.subplots(3,1,figsize=(8,6))\n",
    "ax[0].imshow(PV)\n",
    "ax[1].imshow(PM)\n",
    "ax[2].imshow(a[:,2].reshape(100,250))\n",
    "for aa in ax:\n",
    "    aa.scatter(points[:-1,1],points[:-1,0],s=1,color='orange')\n",
    "    aa.scatter(points[-1,1],points[-1,0],s=2,color='red')\n",
    "    "
   ]
  },
  {
   "cell_type": "code",
   "execution_count": null,
   "metadata": {},
   "outputs": [],
   "source": [
    "newpoint = find_next(points,values,gp)\n",
    "newval = measure_next(a,newpoint)\n",
    "values = np.append(values,newval)\n",
    "points = np.append(points,np.array(newpoint)[None,:],axis=0)\n",
    "\n",
    "print(values.shape,points.shape)\n",
    "print(newpoint,newval)\n",
    "\n"
   ]
  },
  {
   "cell_type": "code",
   "execution_count": null,
   "metadata": {},
   "outputs": [],
   "source": [
    "from tqdm.auto import tqdm\n",
    "for i in tqdm(range(100)):\n",
    "    newpoint = find_next(points,values,gp)\n",
    "    newval = measure_next(a,newpoint)\n",
    "    values = np.append(values,newval)\n",
    "    points = np.append(points,np.array(newpoint)[None,:],axis=0)\n",
    "\n",
    "    # print(values.shape,points.shape)\n",
    "    # print(newpoint,newval)\n",
    "\n"
   ]
  },
  {
   "cell_type": "code",
   "execution_count": null,
   "metadata": {},
   "outputs": [],
   "source": [
    "x_pred = np.empty((25000,2))\n",
    "counter = 0\n",
    "x = np.linspace(0,99,100)\n",
    "y = np.linspace(0,248,250)\n",
    "\n",
    "for i in x:\n",
    " for j in y:\n",
    "   x_pred[counter] = np.array([i,j])\n",
    "   counter += 1\n",
    "\n",
    "res1 = gp.posterior_mean(x_pred)\n",
    "res2 = gp.posterior_covariance(x_pred)\n",
    "\n",
    "\n",
    "X,Y = np.meshgrid(x,y)\n",
    "\n",
    "PM = np.reshape(res1[\"f(x)\"],(100,250))\n",
    "PV = np.reshape(res2[\"v(x)\"],(100,250))\n",
    "\n",
    "\n",
    "fig,ax=plt.subplots(3,1,figsize=(8,6))\n",
    "ax[0].imshow(PV)\n",
    "ax[1].imshow(PM)\n",
    "ax[2].imshow(a[:,2].reshape(100,250))\n",
    "for aa in ax:\n",
    "    aa.scatter(points[:-1,1],points[:-1,0],s=1,color='orange')\n",
    "    aa.scatter(points[-1,1],points[-1,0],s=2,color='red')\n",
    "    "
   ]
  },
  {
   "cell_type": "code",
   "execution_count": null,
   "metadata": {},
   "outputs": [],
   "source": []
  }
 ],
 "metadata": {
  "kernelspec": {
   "display_name": "gpcam",
   "language": "python",
   "name": "python3"
  },
  "language_info": {
   "codemirror_mode": {
    "name": "ipython",
    "version": 3
   },
   "file_extension": ".py",
   "mimetype": "text/x-python",
   "name": "python",
   "nbconvert_exporter": "python",
   "pygments_lexer": "ipython3",
   "version": "3.10.11"
  },
  "orig_nbformat": 4,
  "vscode": {
   "interpreter": {
    "hash": "1b103d9a4a0a9779608a01a7f8f762634b880851de7fc86f07d58debf004e234"
   }
  }
 },
 "nbformat": 4,
 "nbformat_minor": 2
}
