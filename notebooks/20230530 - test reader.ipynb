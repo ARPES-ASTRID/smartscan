{
 "cells": [
  {
   "cell_type": "markdown",
   "metadata": {},
   "source": []
  },
  {
   "cell_type": "code",
   "execution_count": 1,
   "metadata": {},
   "outputs": [],
   "source": [
    "from pathlib import Path\n",
    "import smartscan as ss"
   ]
  },
  {
   "cell_type": "code",
   "execution_count": 2,
   "metadata": {},
   "outputs": [],
   "source": [
    "example_map_file = Path(r\"D:\\data\\SGM4\\testing\\controller_9.h5\")\n",
    "assert example_map_file.is_file()\n",
    "# example_map_file = Path(r\"\\\\uni.au.dk\\dfs\\Nat_ISA-SGM4\\AU-SGM4\\Data\\2023\\Testing\\Controller_11.h5\")\n"
   ]
  },
  {
   "cell_type": "code",
   "execution_count": 3,
   "metadata": {},
   "outputs": [
    {
     "name": "stdout",
     "output_type": "stream",
     "text": [
      "(1231, 640, 400) (1231, 2)\n"
     ]
    }
   ],
   "source": [
    "with ss.SGM4Reader(example_map_file,swmr=True) as file:\n",
    "    print(file.raw_data.shape,file.positions.shape)"
   ]
  },
  {
   "cell_type": "code",
   "execution_count": 4,
   "metadata": {},
   "outputs": [],
   "source": [
    "import numpy as np"
   ]
  },
  {
   "cell_type": "code",
   "execution_count": 6,
   "metadata": {},
   "outputs": [
    {
     "name": "stdout",
     "output_type": "stream",
     "text": [
      "[-9.99999999e+08 -9.99999999e+08]\n",
      "(640, 400)\n"
     ]
    }
   ],
   "source": [
    "with ss.SGM4Reader(example_map_file,swmr=True) as file:\n",
    "    print(file.get_positions(-1))\n",
    "    print(file.get_data(-1).shape)"
   ]
  },
  {
   "cell_type": "code",
   "execution_count": 7,
   "metadata": {},
   "outputs": [
    {
     "data": {
      "application/vnd.jupyter.widget-view+json": {
       "model_id": "b8bbc6af05664fb6951faa2a5463ebe8",
       "version_major": 2,
       "version_minor": 0
      },
      "text/plain": [
       "Reducing spectra:   0%|          | 0/1231 [00:00<?, ?it/s]"
      ]
     },
     "metadata": {},
     "output_type": "display_data"
    },
    {
     "ename": "ValueError",
     "evalue": "could not broadcast input array from shape (2463,) into shape (3,)",
     "output_type": "error",
     "traceback": [
      "\u001b[1;31m---------------------------------------------------------------------------\u001b[0m",
      "\u001b[1;31mValueError\u001b[0m                                Traceback (most recent call last)",
      "Cell \u001b[1;32mIn[7], line 7\u001b[0m\n\u001b[0;32m      1\u001b[0m \u001b[39mwith\u001b[39;00m ss\u001b[39m.\u001b[39mSGM4Reader(example_map_file,swmr\u001b[39m=\u001b[39m\u001b[39mTrue\u001b[39;00m) \u001b[39mas\u001b[39;00m file:\n\u001b[0;32m      2\u001b[0m     \u001b[39m# spectrum = file.raw_data[0]\u001b[39;00m\n\u001b[0;32m      3\u001b[0m     \u001b[39m# reduced = np.sum(spectrum)\u001b[39;00m\n\u001b[0;32m      4\u001b[0m     \u001b[39m# pos = file.positions[0]\u001b[39;00m\n\u001b[0;32m      5\u001b[0m     \u001b[39m# print(spectrum.shape,reduced.shape,pos.shape)\u001b[39;00m\n\u001b[0;32m      6\u001b[0m     \u001b[39m# stack = tuple(pos) + tuple([reduced,])\u001b[39;00m\n\u001b[1;32m----> 7\u001b[0m     stack \u001b[39m=\u001b[39m file\u001b[39m.\u001b[39;49mreduce(func\u001b[39m=\u001b[39;49m\u001b[39m'\u001b[39;49m\u001b[39msum\u001b[39;49m\u001b[39m'\u001b[39;49m)\n",
      "File \u001b[1;32m~\\OneDrive\\Documents\\_Work\\_code\\ARPES-ASTRID\\smartscan\\smartscan\\reader.py:154\u001b[0m, in \u001b[0;36mSGM4Reader.reduce\u001b[1;34m(self, func)\u001b[0m\n\u001b[0;32m    151\u001b[0m     \u001b[39melif\u001b[39;00m pos\u001b[39m.\u001b[39mndim \u001b[39m>\u001b[39m\u001b[39m=\u001b[39m \u001b[39m2\u001b[39m:\n\u001b[0;32m    152\u001b[0m         pos \u001b[39m=\u001b[39m pos\u001b[39m.\u001b[39mflatten()\n\u001b[1;32m--> 154\u001b[0m     \u001b[39mself\u001b[39;49m\u001b[39m.\u001b[39;49m_stack[i,\u001b[39m.\u001b[39;49m\u001b[39m.\u001b[39;49m\u001b[39m.\u001b[39;49m] \u001b[39m=\u001b[39m np\u001b[39m.\u001b[39mconcatenate([pos,reduced])\n\u001b[0;32m    156\u001b[0m \u001b[39mreturn\u001b[39;00m \u001b[39mself\u001b[39m\u001b[39m.\u001b[39m_stack\n",
      "\u001b[1;31mValueError\u001b[0m: could not broadcast input array from shape (2463,) into shape (3,)"
     ]
    }
   ],
   "source": [
    "with ss.SGM4Reader(example_map_file,swmr=True) as file:\n",
    "    # spectrum = file.raw_data[0]\n",
    "    # reduced = np.sum(spectrum)\n",
    "    # pos = file.positions[0]\n",
    "    # print(spectrum.shape,reduced.shape,pos.shape)\n",
    "    # stack = tuple(pos) + tuple([reduced,])\n",
    "    stack = file.reduce(func='sum')"
   ]
  }
 ],
 "metadata": {
  "kernelspec": {
   "display_name": "smartscan",
   "language": "python",
   "name": "python3"
  },
  "language_info": {
   "codemirror_mode": {
    "name": "ipython",
    "version": 3
   },
   "file_extension": ".py",
   "mimetype": "text/x-python",
   "name": "python",
   "nbconvert_exporter": "python",
   "pygments_lexer": "ipython3",
   "version": "3.10.11"
  },
  "orig_nbformat": 4
 },
 "nbformat": 4,
 "nbformat_minor": 2
}
