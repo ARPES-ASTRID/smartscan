{
 "cells": [
  {
   "attachments": {},
   "cell_type": "markdown",
   "metadata": {},
   "source": []
  },
  {
   "cell_type": "code",
   "execution_count": 1,
   "metadata": {},
   "outputs": [],
   "source": [
    "from pathlib import Path\n",
    "import smartscan as ss\n",
    "from importlib import reload"
   ]
  },
  {
   "cell_type": "code",
   "execution_count": 12,
   "metadata": {},
   "outputs": [],
   "source": [
    "ctrl = ss.commander.RandomController('localhost', 54333,sleep_time=0.2)"
   ]
  },
  {
   "cell_type": "code",
   "execution_count": 13,
   "metadata": {},
   "outputs": [
    {
     "name": "stdout",
     "output_type": "stream",
     "text": [
      "Connecting to localhost:54333\n",
      "Sending message: NDIM\n",
      "Waiting for response\n",
      "Received: NDIM 2\n",
      "\n",
      "Connecting to localhost:54333\n",
      "Sending message: LIMITS\n",
      "Waiting for response\n",
      "Received: LIMITS 1.000000,10.000000 -111.000000,-100.000000\n",
      "\n",
      "Connecting to localhost:54333\n",
      "Sending message: CURRENT_POS\n",
      "Waiting for response\n",
      "Received: CURRENT_POS LoopA:5.5 LoopB:-105.5\n",
      "\n",
      "Connecting to localhost:54333\n",
      "Sending message: FILENAME\n",
      "Waiting for response\n",
      "Received: FILENAME D:\\Data\\2023\\Testing\\TestRS_24.h5\n",
      "\n"
     ]
    }
   ],
   "source": [
    "ctrl.get_scan_info()\n",
    "# ctrl.parse_file(example_map_file)\n",
    "ctrl.parse_file()"
   ]
  },
  {
   "cell_type": "code",
   "execution_count": 8,
   "metadata": {},
   "outputs": [
    {
     "name": "stdout",
     "output_type": "stream",
     "text": [
      "Measuring (7.0, -104.0)\n",
      "Connecting to localhost:54333\n",
      "Sending message: ADD_POINT 7.0 -104.0\n",
      "Waiting for response\n",
      "Received: ADD_POINT 7.000000 -104.000000\n",
      "\n",
      "Measuring (9.0, -101.0)\n",
      "Connecting to localhost:54333\n",
      "Sending message: ADD_POINT 9.0 -101.0\n",
      "Waiting for response\n",
      "Received: ADD_POINT 9.000000 -101.000000\n",
      "\n",
      "\n",
      "\n",
      " Starting the measurement loop \n",
      "\n",
      "\n"
     ]
    },
    {
     "data": {
      "application/vnd.jupyter.widget-view+json": {
       "model_id": "509ebb09a31a45a5b8deea712d5850df",
       "version_major": 2,
       "version_minor": 0
      },
      "text/plain": [
       "Updating stack:   0%|          | 0/8 [00:00<?, ?it/s]"
      ]
     },
     "metadata": {},
     "output_type": "display_data"
    },
    {
     "name": "stdout",
     "output_type": "stream",
     "text": [
      "Added 8 points to the stack\n",
      "Connecting to localhost:54333\n",
      "Sending message: ADD_POINT 8.0 -107.0\n",
      "Waiting for response\n",
      "Received: ADD_POINT 8.000000 -107.000000\n",
      "\n"
     ]
    },
    {
     "data": {
      "application/vnd.jupyter.widget-view+json": {
       "model_id": "882195c3c86d48e198e3cec7245db332",
       "version_major": 2,
       "version_minor": 0
      },
      "text/plain": [
       "Updating stack:   0%|          | 0/1 [00:00<?, ?it/s]"
      ]
     },
     "metadata": {},
     "output_type": "display_data"
    },
    {
     "name": "stdout",
     "output_type": "stream",
     "text": [
      "Added 1 points to the stack\n",
      "Connecting to localhost:54333\n",
      "Sending message: ADD_POINT 3.0 -105.0\n",
      "Waiting for response\n",
      "Received: ADD_POINT 3.000000 -105.000000\n",
      "\n"
     ]
    },
    {
     "data": {
      "application/vnd.jupyter.widget-view+json": {
       "model_id": "57f2d5579b044bc195730c2277524dff",
       "version_major": 2,
       "version_minor": 0
      },
      "text/plain": [
       "Updating stack:   0%|          | 0/1 [00:00<?, ?it/s]"
      ]
     },
     "metadata": {},
     "output_type": "display_data"
    },
    {
     "name": "stdout",
     "output_type": "stream",
     "text": [
      "Added 1 points to the stack\n",
      "Connecting to localhost:54333\n",
      "Sending message: ADD_POINT 3.0 -107.0\n",
      "Waiting for response\n",
      "Received: ADD_POINT 3.000000 -107.000000\n",
      "\n"
     ]
    },
    {
     "data": {
      "application/vnd.jupyter.widget-view+json": {
       "model_id": "bb49be2572bd4241afa19dca3053b255",
       "version_major": 2,
       "version_minor": 0
      },
      "text/plain": [
       "Updating stack:   0%|          | 0/1 [00:00<?, ?it/s]"
      ]
     },
     "metadata": {},
     "output_type": "display_data"
    },
    {
     "name": "stdout",
     "output_type": "stream",
     "text": [
      "Added 1 points to the stack\n",
      "Connecting to localhost:54333\n",
      "Sending message: ADD_POINT 2.0 -110.0\n",
      "Waiting for response\n",
      "Received: ADD_POINT 2.000000 -110.000000\n",
      "\n"
     ]
    },
    {
     "data": {
      "application/vnd.jupyter.widget-view+json": {
       "model_id": "03693dadfa3643feb211e89270d12ef3",
       "version_major": 2,
       "version_minor": 0
      },
      "text/plain": [
       "Updating stack:   0%|          | 0/1 [00:00<?, ?it/s]"
      ]
     },
     "metadata": {},
     "output_type": "display_data"
    },
    {
     "name": "stdout",
     "output_type": "stream",
     "text": [
      "Added 1 points to the stack\n",
      "Connecting to localhost:54333\n",
      "Sending message: ADD_POINT 7.0 -103.0\n",
      "Waiting for response\n",
      "Received: ADD_POINT 7.000000 -103.000000\n",
      "\n"
     ]
    },
    {
     "data": {
      "application/vnd.jupyter.widget-view+json": {
       "model_id": "2ececd12fa274a2c878f560aedc85a59",
       "version_major": 2,
       "version_minor": 0
      },
      "text/plain": [
       "Updating stack:   0%|          | 0/1 [00:00<?, ?it/s]"
      ]
     },
     "metadata": {},
     "output_type": "display_data"
    },
    {
     "name": "stdout",
     "output_type": "stream",
     "text": [
      "Added 1 points to the stack\n",
      "Connecting to localhost:54333\n",
      "Sending message: ADD_POINT 9.0 -105.0\n",
      "Waiting for response\n",
      "Received: ADD_POINT 9.000000 -105.000000\n",
      "\n",
      "Connecting to localhost:54333\n",
      "Sending message: ADD_POINT 4.0 -105.0\n",
      "Waiting for response\n",
      "Received: ADD_POINT 4.000000 -105.000000\n",
      "\n"
     ]
    },
    {
     "data": {
      "application/vnd.jupyter.widget-view+json": {
       "model_id": "a9847995d77b427ea89844418baf827a",
       "version_major": 2,
       "version_minor": 0
      },
      "text/plain": [
       "Updating stack:   0%|          | 0/2 [00:00<?, ?it/s]"
      ]
     },
     "metadata": {},
     "output_type": "display_data"
    },
    {
     "name": "stdout",
     "output_type": "stream",
     "text": [
      "Added 2 points to the stack\n",
      "Connecting to localhost:54333\n",
      "Sending message: ADD_POINT 6.0 -104.0\n",
      "Waiting for response\n",
      "Received: ADD_POINT 6.000000 -104.000000\n",
      "\n"
     ]
    },
    {
     "data": {
      "application/vnd.jupyter.widget-view+json": {
       "model_id": "02a100e94f6e438981a7c398d1e18d82",
       "version_major": 2,
       "version_minor": 0
      },
      "text/plain": [
       "Updating stack:   0%|          | 0/1 [00:00<?, ?it/s]"
      ]
     },
     "metadata": {},
     "output_type": "display_data"
    },
    {
     "name": "stdout",
     "output_type": "stream",
     "text": [
      "Added 1 points to the stack\n",
      "Connecting to localhost:54333\n",
      "Sending message: ADD_POINT 4.0 -102.0\n",
      "Waiting for response\n",
      "Received: ADD_POINT 4.000000 -102.000000\n",
      "\n"
     ]
    },
    {
     "data": {
      "application/vnd.jupyter.widget-view+json": {
       "model_id": "df6c0c2149044708adbb31ed6754ed47",
       "version_major": 2,
       "version_minor": 0
      },
      "text/plain": [
       "Updating stack:   0%|          | 0/1 [00:00<?, ?it/s]"
      ]
     },
     "metadata": {},
     "output_type": "display_data"
    },
    {
     "name": "stdout",
     "output_type": "stream",
     "text": [
      "Added 1 points to the stack\n",
      "Connecting to localhost:54333\n",
      "Sending message: ADD_POINT 2.0 -107.0\n",
      "Waiting for response\n",
      "Received: ADD_POINT 2.000000 -107.000000\n",
      "\n"
     ]
    },
    {
     "data": {
      "application/vnd.jupyter.widget-view+json": {
       "model_id": "2b561cccd63e4a7999c6d685dcd203bd",
       "version_major": 2,
       "version_minor": 0
      },
      "text/plain": [
       "Updating stack:   0%|          | 0/1 [00:00<?, ?it/s]"
      ]
     },
     "metadata": {},
     "output_type": "display_data"
    },
    {
     "name": "stdout",
     "output_type": "stream",
     "text": [
      "Added 1 points to the stack\n",
      "Connecting to localhost:54333\n",
      "Sending message: ADD_POINT 3.0 -103.0\n",
      "Waiting for response\n",
      "Received: ADD_POINT 3.000000 -103.000000\n",
      "\n"
     ]
    },
    {
     "data": {
      "application/vnd.jupyter.widget-view+json": {
       "model_id": "88c8b98c08c54642bf6ecf6510aa9012",
       "version_major": 2,
       "version_minor": 0
      },
      "text/plain": [
       "Updating stack:   0%|          | 0/1 [00:00<?, ?it/s]"
      ]
     },
     "metadata": {},
     "output_type": "display_data"
    },
    {
     "name": "stdout",
     "output_type": "stream",
     "text": [
      "Added 1 points to the stack\n",
      "Connecting to localhost:54333\n",
      "Sending message: ADD_POINT 8.0 -105.0\n",
      "Waiting for response\n",
      "Received: ADD_POINT 8.000000 -105.000000\n",
      "\n"
     ]
    },
    {
     "data": {
      "application/vnd.jupyter.widget-view+json": {
       "model_id": "d9b784c0736849768d64fa10372b6a8e",
       "version_major": 2,
       "version_minor": 0
      },
      "text/plain": [
       "Updating stack:   0%|          | 0/1 [00:00<?, ?it/s]"
      ]
     },
     "metadata": {},
     "output_type": "display_data"
    },
    {
     "name": "stdout",
     "output_type": "stream",
     "text": [
      "Added 1 points to the stack\n",
      "Connecting to localhost:54333\n",
      "Sending message: ADD_POINT 2.0 -100.0\n",
      "Waiting for response\n",
      "Received: ADD_POINT 2.000000 -100.000000\n",
      "\n"
     ]
    },
    {
     "data": {
      "application/vnd.jupyter.widget-view+json": {
       "model_id": "159b76ca2e784627a9709b70cf4f4677",
       "version_major": 2,
       "version_minor": 0
      },
      "text/plain": [
       "Updating stack:   0%|          | 0/1 [00:00<?, ?it/s]"
      ]
     },
     "metadata": {},
     "output_type": "display_data"
    },
    {
     "name": "stdout",
     "output_type": "stream",
     "text": [
      "Added 1 points to the stack\n",
      "Connecting to localhost:54333\n",
      "Sending message: ADD_POINT 6.0 -108.0\n",
      "Waiting for response\n",
      "Received: ADD_POINT 6.000000 -108.000000\n",
      "\n"
     ]
    },
    {
     "data": {
      "application/vnd.jupyter.widget-view+json": {
       "model_id": "d7cf5eafbe7444e6b6edb84f852c1814",
       "version_major": 2,
       "version_minor": 0
      },
      "text/plain": [
       "Updating stack:   0%|          | 0/1 [00:00<?, ?it/s]"
      ]
     },
     "metadata": {},
     "output_type": "display_data"
    },
    {
     "name": "stdout",
     "output_type": "stream",
     "text": [
      "Added 1 points to the stack\n",
      "Connecting to localhost:54333\n",
      "Sending message: ADD_POINT 2.0 -100.0\n",
      "Waiting for response\n",
      "Received: ADD_POINT 2.000000 -100.000000\n",
      "\n"
     ]
    },
    {
     "data": {
      "application/vnd.jupyter.widget-view+json": {
       "model_id": "29853223be5f4f738fad1e12380fd11b",
       "version_major": 2,
       "version_minor": 0
      },
      "text/plain": [
       "Updating stack:   0%|          | 0/1 [00:00<?, ?it/s]"
      ]
     },
     "metadata": {},
     "output_type": "display_data"
    },
    {
     "name": "stdout",
     "output_type": "stream",
     "text": [
      "Added 1 points to the stack\n",
      "Connecting to localhost:54333\n",
      "Sending message: ADD_POINT 6.0 -100.0\n",
      "Waiting for response\n",
      "Received: ADD_POINT 6.000000 -100.000000\n",
      "\n"
     ]
    },
    {
     "data": {
      "application/vnd.jupyter.widget-view+json": {
       "model_id": "516028c26e6e4c038c6f5a93a98eaee0",
       "version_major": 2,
       "version_minor": 0
      },
      "text/plain": [
       "Updating stack:   0%|          | 0/1 [00:00<?, ?it/s]"
      ]
     },
     "metadata": {},
     "output_type": "display_data"
    },
    {
     "name": "stdout",
     "output_type": "stream",
     "text": [
      "Added 1 points to the stack\n",
      "Connecting to localhost:54333\n",
      "Sending message: ADD_POINT 3.0 -108.0\n",
      "Waiting for response\n",
      "Received: ADD_POINT 3.000000 -108.000000\n",
      "\n"
     ]
    },
    {
     "data": {
      "application/vnd.jupyter.widget-view+json": {
       "model_id": "3cc72a6f2e4441cbacc465fcd0a7bf78",
       "version_major": 2,
       "version_minor": 0
      },
      "text/plain": [
       "Updating stack:   0%|          | 0/1 [00:00<?, ?it/s]"
      ]
     },
     "metadata": {},
     "output_type": "display_data"
    },
    {
     "name": "stdout",
     "output_type": "stream",
     "text": [
      "Added 1 points to the stack\n",
      "Connecting to localhost:54333\n",
      "Sending message: ADD_POINT 7.0 -106.0\n",
      "Waiting for response\n",
      "Received: ADD_POINT 7.000000 -106.000000\n",
      "\n"
     ]
    },
    {
     "data": {
      "application/vnd.jupyter.widget-view+json": {
       "model_id": "7cf9cc7c0b2f44d5a28338d10ffa26d1",
       "version_major": 2,
       "version_minor": 0
      },
      "text/plain": [
       "Updating stack:   0%|          | 0/1 [00:00<?, ?it/s]"
      ]
     },
     "metadata": {},
     "output_type": "display_data"
    },
    {
     "name": "stdout",
     "output_type": "stream",
     "text": [
      "Added 1 points to the stack\n",
      "Connecting to localhost:54333\n",
      "Sending message: ADD_POINT 1.0 -107.0\n",
      "Waiting for response\n",
      "Received: ADD_POINT 1.000000 -107.000000\n",
      "\n"
     ]
    },
    {
     "data": {
      "application/vnd.jupyter.widget-view+json": {
       "model_id": "42932855c59a45bb88cc631e00f56b8f",
       "version_major": 2,
       "version_minor": 0
      },
      "text/plain": [
       "Updating stack:   0%|          | 0/1 [00:00<?, ?it/s]"
      ]
     },
     "metadata": {},
     "output_type": "display_data"
    },
    {
     "name": "stdout",
     "output_type": "stream",
     "text": [
      "Added 1 points to the stack\n",
      "Connecting to localhost:54333\n",
      "Sending message: ADD_POINT 3.0 -109.0\n",
      "Waiting for response\n",
      "Received: ADD_POINT 3.000000 -109.000000\n",
      "\n"
     ]
    },
    {
     "data": {
      "application/vnd.jupyter.widget-view+json": {
       "model_id": "6c46b3a50b1f42e781c9e5200a7504f7",
       "version_major": 2,
       "version_minor": 0
      },
      "text/plain": [
       "Updating stack:   0%|          | 0/1 [00:00<?, ?it/s]"
      ]
     },
     "metadata": {},
     "output_type": "display_data"
    },
    {
     "name": "stdout",
     "output_type": "stream",
     "text": [
      "Added 1 points to the stack\n",
      "Connecting to localhost:54333\n",
      "Sending message: ADD_POINT 8.0 -101.0\n",
      "Waiting for response\n",
      "Received: ADD_POINT 8.000000 -101.000000\n",
      "\n"
     ]
    },
    {
     "data": {
      "application/vnd.jupyter.widget-view+json": {
       "model_id": "d223ba2195d44c2dbcc7891014c983d5",
       "version_major": 2,
       "version_minor": 0
      },
      "text/plain": [
       "Updating stack:   0%|          | 0/1 [00:00<?, ?it/s]"
      ]
     },
     "metadata": {},
     "output_type": "display_data"
    },
    {
     "name": "stdout",
     "output_type": "stream",
     "text": [
      "Added 1 points to the stack\n",
      "Connecting to localhost:54333\n",
      "Sending message: ADD_POINT 10.0 -103.0\n",
      "Waiting for response\n",
      "Received: ADD_POINT 10.000000 -103.000000\n",
      "\n"
     ]
    },
    {
     "data": {
      "application/vnd.jupyter.widget-view+json": {
       "model_id": "819263de23344a0388e9de5b5ae5d889",
       "version_major": 2,
       "version_minor": 0
      },
      "text/plain": [
       "Updating stack:   0%|          | 0/1 [00:00<?, ?it/s]"
      ]
     },
     "metadata": {},
     "output_type": "display_data"
    },
    {
     "name": "stdout",
     "output_type": "stream",
     "text": [
      "Added 1 points to the stack\n",
      "Connecting to localhost:54333\n",
      "Sending message: ADD_POINT 10.0 -105.0\n",
      "Waiting for response\n",
      "Received: ADD_POINT 10.000000 -105.000000\n",
      "\n"
     ]
    },
    {
     "data": {
      "application/vnd.jupyter.widget-view+json": {
       "model_id": "e3186e18649e4f479772afa791b58064",
       "version_major": 2,
       "version_minor": 0
      },
      "text/plain": [
       "Updating stack:   0%|          | 0/1 [00:00<?, ?it/s]"
      ]
     },
     "metadata": {},
     "output_type": "display_data"
    },
    {
     "name": "stdout",
     "output_type": "stream",
     "text": [
      "Added 1 points to the stack\n",
      "Connecting to localhost:54333\n",
      "Sending message: ADD_POINT 8.0 -110.0\n",
      "Waiting for response\n",
      "Received: ADD_POINT 8.000000 -110.000000\n",
      "\n"
     ]
    },
    {
     "data": {
      "application/vnd.jupyter.widget-view+json": {
       "model_id": "957217c6c8b24c0cb1875f7d3f7d9fcb",
       "version_major": 2,
       "version_minor": 0
      },
      "text/plain": [
       "Updating stack:   0%|          | 0/1 [00:00<?, ?it/s]"
      ]
     },
     "metadata": {},
     "output_type": "display_data"
    },
    {
     "name": "stdout",
     "output_type": "stream",
     "text": [
      "Added 1 points to the stack\n",
      "Connecting to localhost:54333\n",
      "Sending message: ADD_POINT 10.0 -107.0\n",
      "Waiting for response\n",
      "Received: ADD_POINT 10.000000 -107.000000\n",
      "\n"
     ]
    },
    {
     "data": {
      "application/vnd.jupyter.widget-view+json": {
       "model_id": "7c2b11d19ed7431aa1dff7a4b29cdfdd",
       "version_major": 2,
       "version_minor": 0
      },
      "text/plain": [
       "Updating stack:   0%|          | 0/1 [00:00<?, ?it/s]"
      ]
     },
     "metadata": {},
     "output_type": "display_data"
    },
    {
     "name": "stdout",
     "output_type": "stream",
     "text": [
      "Added 1 points to the stack\n",
      "Connecting to localhost:54333\n",
      "Sending message: ADD_POINT 4.0 -103.0\n",
      "Waiting for response\n",
      "Received: ADD_POINT 4.000000 -103.000000\n",
      "\n"
     ]
    },
    {
     "data": {
      "application/vnd.jupyter.widget-view+json": {
       "model_id": "d9b441b1867145e3b77096ae4abed239",
       "version_major": 2,
       "version_minor": 0
      },
      "text/plain": [
       "Updating stack:   0%|          | 0/1 [00:00<?, ?it/s]"
      ]
     },
     "metadata": {},
     "output_type": "display_data"
    },
    {
     "name": "stdout",
     "output_type": "stream",
     "text": [
      "Added 1 points to the stack\n",
      "Connecting to localhost:54333\n",
      "Sending message: ADD_POINT 1.0 -100.0\n",
      "Waiting for response\n",
      "Received: ADD_POINT 1.000000 -100.000000\n",
      "\n"
     ]
    },
    {
     "data": {
      "application/vnd.jupyter.widget-view+json": {
       "model_id": "e4161374ed2c4b58b2768639e36f9266",
       "version_major": 2,
       "version_minor": 0
      },
      "text/plain": [
       "Updating stack:   0%|          | 0/1 [00:00<?, ?it/s]"
      ]
     },
     "metadata": {},
     "output_type": "display_data"
    },
    {
     "name": "stdout",
     "output_type": "stream",
     "text": [
      "Added 1 points to the stack\n",
      "Connecting to localhost:54333\n",
      "Sending message: ADD_POINT 5.0 -103.0\n",
      "Waiting for response\n",
      "Received: ADD_POINT 5.000000 -103.000000\n",
      "\n"
     ]
    },
    {
     "data": {
      "application/vnd.jupyter.widget-view+json": {
       "model_id": "66ad7302c3ba48ae888b2d8d69b4a2a6",
       "version_major": 2,
       "version_minor": 0
      },
      "text/plain": [
       "Updating stack:   0%|          | 0/1 [00:00<?, ?it/s]"
      ]
     },
     "metadata": {},
     "output_type": "display_data"
    },
    {
     "name": "stdout",
     "output_type": "stream",
     "text": [
      "Added 1 points to the stack\n",
      "Connecting to localhost:54333\n",
      "Sending message: ADD_POINT 7.0 -109.0\n",
      "Waiting for response\n",
      "Received: ADD_POINT 7.000000 -109.000000\n",
      "\n"
     ]
    },
    {
     "data": {
      "application/vnd.jupyter.widget-view+json": {
       "model_id": "d8bf3b569cb645e7b9535b2802badeca",
       "version_major": 2,
       "version_minor": 0
      },
      "text/plain": [
       "Updating stack:   0%|          | 0/1 [00:00<?, ?it/s]"
      ]
     },
     "metadata": {},
     "output_type": "display_data"
    },
    {
     "name": "stdout",
     "output_type": "stream",
     "text": [
      "Added 1 points to the stack\n",
      "Connecting to localhost:54333\n",
      "Sending message: ADD_POINT 3.0 -106.0\n",
      "Waiting for response\n",
      "Received: ADD_POINT 3.000000 -106.000000\n",
      "\n"
     ]
    },
    {
     "data": {
      "application/vnd.jupyter.widget-view+json": {
       "model_id": "9a5413c4a8ae4771b0f1eb1c6319efc9",
       "version_major": 2,
       "version_minor": 0
      },
      "text/plain": [
       "Updating stack:   0%|          | 0/1 [00:00<?, ?it/s]"
      ]
     },
     "metadata": {},
     "output_type": "display_data"
    },
    {
     "name": "stdout",
     "output_type": "stream",
     "text": [
      "Added 1 points to the stack\n",
      "Connecting to localhost:54333\n",
      "Sending message: ADD_POINT 9.0 -102.0\n",
      "Waiting for response\n",
      "Received: ADD_POINT 9.000000 -102.000000\n",
      "\n"
     ]
    },
    {
     "data": {
      "application/vnd.jupyter.widget-view+json": {
       "model_id": "0aa2b6e6ef044f63ab7fbe90be2342a5",
       "version_major": 2,
       "version_minor": 0
      },
      "text/plain": [
       "Updating stack:   0%|          | 0/1 [00:00<?, ?it/s]"
      ]
     },
     "metadata": {},
     "output_type": "display_data"
    },
    {
     "name": "stdout",
     "output_type": "stream",
     "text": [
      "Added 1 points to the stack\n",
      "Connecting to localhost:54333\n",
      "Sending message: ADD_POINT 8.0 -104.0\n",
      "Waiting for response\n",
      "Received: ADD_POINT 8.000000 -104.000000\n",
      "\n"
     ]
    },
    {
     "data": {
      "application/vnd.jupyter.widget-view+json": {
       "model_id": "0e8bd26772f042e3b5174717f6287215",
       "version_major": 2,
       "version_minor": 0
      },
      "text/plain": [
       "Updating stack:   0%|          | 0/1 [00:00<?, ?it/s]"
      ]
     },
     "metadata": {},
     "output_type": "display_data"
    },
    {
     "name": "stdout",
     "output_type": "stream",
     "text": [
      "Added 1 points to the stack\n",
      "Connecting to localhost:54333\n",
      "Sending message: ADD_POINT 6.0 -105.0\n",
      "Waiting for response\n",
      "Received: ADD_POINT 6.000000 -105.000000\n",
      "\n"
     ]
    },
    {
     "data": {
      "application/vnd.jupyter.widget-view+json": {
       "model_id": "6d8729761e894fa3ba28b7611eecf9d0",
       "version_major": 2,
       "version_minor": 0
      },
      "text/plain": [
       "Updating stack:   0%|          | 0/1 [00:00<?, ?it/s]"
      ]
     },
     "metadata": {},
     "output_type": "display_data"
    },
    {
     "name": "stdout",
     "output_type": "stream",
     "text": [
      "Added 1 points to the stack\n",
      "Connecting to localhost:54333\n",
      "Sending message: ADD_POINT 10.0 -110.0\n",
      "Waiting for response\n",
      "Received: ADD_POINT 10.000000 -110.000000\n",
      "\n"
     ]
    },
    {
     "data": {
      "application/vnd.jupyter.widget-view+json": {
       "model_id": "a7a5e39023694869bf8ef1786474d5c3",
       "version_major": 2,
       "version_minor": 0
      },
      "text/plain": [
       "Updating stack:   0%|          | 0/1 [00:00<?, ?it/s]"
      ]
     },
     "metadata": {},
     "output_type": "display_data"
    },
    {
     "name": "stdout",
     "output_type": "stream",
     "text": [
      "Added 1 points to the stack\n",
      "Connecting to localhost:54333\n",
      "Sending message: ADD_POINT 1.0 -110.0\n",
      "Waiting for response\n",
      "Received: ADD_POINT 1.000000 -110.000000\n",
      "\n"
     ]
    },
    {
     "data": {
      "application/vnd.jupyter.widget-view+json": {
       "model_id": "568e9a7a3c34496bb293e3621df52cd6",
       "version_major": 2,
       "version_minor": 0
      },
      "text/plain": [
       "Updating stack:   0%|          | 0/1 [00:00<?, ?it/s]"
      ]
     },
     "metadata": {},
     "output_type": "display_data"
    },
    {
     "name": "stdout",
     "output_type": "stream",
     "text": [
      "Added 1 points to the stack\n",
      "Connecting to localhost:54333\n",
      "Sending message: ADD_POINT 5.0 -110.0\n",
      "Waiting for response\n",
      "Received: ADD_POINT 5.000000 -110.000000\n",
      "\n"
     ]
    },
    {
     "data": {
      "application/vnd.jupyter.widget-view+json": {
       "model_id": "5651f4c461764ba3a07266b0c60d12db",
       "version_major": 2,
       "version_minor": 0
      },
      "text/plain": [
       "Updating stack:   0%|          | 0/1 [00:00<?, ?it/s]"
      ]
     },
     "metadata": {},
     "output_type": "display_data"
    },
    {
     "name": "stdout",
     "output_type": "stream",
     "text": [
      "Added 1 points to the stack\n",
      "Connecting to localhost:54333\n",
      "Sending message: ADD_POINT 1.0 -108.0\n",
      "Waiting for response\n",
      "Received: ADD_POINT 1.000000 -108.000000\n",
      "\n"
     ]
    },
    {
     "data": {
      "application/vnd.jupyter.widget-view+json": {
       "model_id": "cce6cb25f3df4b7fb33e44c586c7545a",
       "version_major": 2,
       "version_minor": 0
      },
      "text/plain": [
       "Updating stack:   0%|          | 0/1 [00:00<?, ?it/s]"
      ]
     },
     "metadata": {},
     "output_type": "display_data"
    },
    {
     "name": "stdout",
     "output_type": "stream",
     "text": [
      "Added 1 points to the stack\n",
      "Connecting to localhost:54333\n",
      "Sending message: ADD_POINT 3.0 -110.0\n",
      "Waiting for response\n",
      "Received: ADD_POINT 3.000000 -110.000000\n",
      "\n"
     ]
    },
    {
     "data": {
      "application/vnd.jupyter.widget-view+json": {
       "model_id": "fd9e7f51e6b9414391664b66b243492f",
       "version_major": 2,
       "version_minor": 0
      },
      "text/plain": [
       "Updating stack:   0%|          | 0/1 [00:00<?, ?it/s]"
      ]
     },
     "metadata": {},
     "output_type": "display_data"
    },
    {
     "name": "stdout",
     "output_type": "stream",
     "text": [
      "Added 1 points to the stack\n",
      "Connecting to localhost:54333\n",
      "Sending message: ADD_POINT 3.0 -110.0\n",
      "Waiting for response\n",
      "Received: ADD_POINT 3.000000 -110.000000\n",
      "\n"
     ]
    },
    {
     "data": {
      "application/vnd.jupyter.widget-view+json": {
       "model_id": "1164d1c1ab9c4c28abde68fcd2dd7b6f",
       "version_major": 2,
       "version_minor": 0
      },
      "text/plain": [
       "Updating stack:   0%|          | 0/1 [00:00<?, ?it/s]"
      ]
     },
     "metadata": {},
     "output_type": "display_data"
    },
    {
     "name": "stdout",
     "output_type": "stream",
     "text": [
      "Added 1 points to the stack\n",
      "Connecting to localhost:54333\n",
      "Sending message: ADD_POINT 8.0 -111.0\n",
      "Waiting for response\n",
      "Received: ADD_POINT 8.000000 -111.000000\n",
      "\n"
     ]
    },
    {
     "data": {
      "application/vnd.jupyter.widget-view+json": {
       "model_id": "e13d0dd581ca40549c4aa2d1cb072929",
       "version_major": 2,
       "version_minor": 0
      },
      "text/plain": [
       "Updating stack:   0%|          | 0/1 [00:00<?, ?it/s]"
      ]
     },
     "metadata": {},
     "output_type": "display_data"
    },
    {
     "name": "stdout",
     "output_type": "stream",
     "text": [
      "Added 1 points to the stack\n",
      "Connecting to localhost:54333\n",
      "Sending message: ADD_POINT 8.0 -103.0\n",
      "Waiting for response\n",
      "Received: ADD_POINT 8.000000 -103.000000\n",
      "\n"
     ]
    },
    {
     "data": {
      "application/vnd.jupyter.widget-view+json": {
       "model_id": "1b79c695d62248a49f170837c99d9b86",
       "version_major": 2,
       "version_minor": 0
      },
      "text/plain": [
       "Updating stack:   0%|          | 0/1 [00:00<?, ?it/s]"
      ]
     },
     "metadata": {},
     "output_type": "display_data"
    },
    {
     "name": "stdout",
     "output_type": "stream",
     "text": [
      "Added 1 points to the stack\n",
      "Connecting to localhost:54333\n",
      "Sending message: ADD_POINT 10.0 -108.0\n",
      "Waiting for response\n",
      "Received: ADD_POINT 10.000000 -108.000000\n",
      "\n"
     ]
    },
    {
     "data": {
      "application/vnd.jupyter.widget-view+json": {
       "model_id": "d67612ab421845338e22e6e9bf67c067",
       "version_major": 2,
       "version_minor": 0
      },
      "text/plain": [
       "Updating stack:   0%|          | 0/1 [00:00<?, ?it/s]"
      ]
     },
     "metadata": {},
     "output_type": "display_data"
    },
    {
     "name": "stdout",
     "output_type": "stream",
     "text": [
      "Added 1 points to the stack\n",
      "Connecting to localhost:54333\n",
      "Sending message: ADD_POINT 4.0 -110.0\n",
      "Waiting for response\n",
      "Received: ADD_POINT 4.000000 -110.000000\n",
      "\n"
     ]
    },
    {
     "data": {
      "application/vnd.jupyter.widget-view+json": {
       "model_id": "d00530558c2740f2a178d269505ddadd",
       "version_major": 2,
       "version_minor": 0
      },
      "text/plain": [
       "Updating stack:   0%|          | 0/1 [00:00<?, ?it/s]"
      ]
     },
     "metadata": {},
     "output_type": "display_data"
    },
    {
     "name": "stdout",
     "output_type": "stream",
     "text": [
      "Added 1 points to the stack\n",
      "Connecting to localhost:54333\n",
      "Sending message: ADD_POINT 9.0 -104.0\n",
      "Waiting for response\n",
      "Received: ADD_POINT 9.000000 -104.000000\n",
      "\n"
     ]
    },
    {
     "data": {
      "application/vnd.jupyter.widget-view+json": {
       "model_id": "16431cfcf3c84583944da3433f4a0c86",
       "version_major": 2,
       "version_minor": 0
      },
      "text/plain": [
       "Updating stack:   0%|          | 0/1 [00:00<?, ?it/s]"
      ]
     },
     "metadata": {},
     "output_type": "display_data"
    },
    {
     "name": "stdout",
     "output_type": "stream",
     "text": [
      "Added 1 points to the stack\n",
      "Connecting to localhost:54333\n",
      "Sending message: ADD_POINT 5.0 -104.0\n",
      "Waiting for response\n",
      "Received: ADD_POINT 5.000000 -104.000000\n",
      "\n"
     ]
    },
    {
     "data": {
      "application/vnd.jupyter.widget-view+json": {
       "model_id": "85ac37fc82bb4d6e9880f72f43399f6c",
       "version_major": 2,
       "version_minor": 0
      },
      "text/plain": [
       "Updating stack:   0%|          | 0/1 [00:00<?, ?it/s]"
      ]
     },
     "metadata": {},
     "output_type": "display_data"
    },
    {
     "name": "stdout",
     "output_type": "stream",
     "text": [
      "Added 1 points to the stack\n",
      "Connecting to localhost:54333\n",
      "Sending message: ADD_POINT 4.0 -109.0\n",
      "Waiting for response\n",
      "Received: ADD_POINT 4.000000 -109.000000\n",
      "\n"
     ]
    },
    {
     "data": {
      "application/vnd.jupyter.widget-view+json": {
       "model_id": "cf9b1490a1af49c2823e226653c3e4d7",
       "version_major": 2,
       "version_minor": 0
      },
      "text/plain": [
       "Updating stack:   0%|          | 0/1 [00:00<?, ?it/s]"
      ]
     },
     "metadata": {},
     "output_type": "display_data"
    },
    {
     "name": "stdout",
     "output_type": "stream",
     "text": [
      "Added 1 points to the stack\n",
      "Connecting to localhost:54333\n",
      "Sending message: ADD_POINT 9.0 -111.0\n",
      "Waiting for response\n",
      "Received: ADD_POINT 9.000000 -111.000000\n",
      "\n"
     ]
    },
    {
     "data": {
      "application/vnd.jupyter.widget-view+json": {
       "model_id": "85097aceee7c4616baacb9b9255a1fe5",
       "version_major": 2,
       "version_minor": 0
      },
      "text/plain": [
       "Updating stack:   0%|          | 0/1 [00:00<?, ?it/s]"
      ]
     },
     "metadata": {},
     "output_type": "display_data"
    },
    {
     "name": "stdout",
     "output_type": "stream",
     "text": [
      "Added 1 points to the stack\n",
      "Connecting to localhost:54333\n",
      "Sending message: ADD_POINT 5.0 -100.0\n",
      "Waiting for response\n",
      "Received: ADD_POINT 5.000000 -100.000000\n",
      "\n",
      "Connecting to localhost:54333\n",
      "Sending message: END\n",
      "Waiting for response\n",
      "Received: END 1\n"
     ]
    }
   ],
   "source": [
    "ctrl.start_scan(n_init=2, max_iter=500)"
   ]
  },
  {
   "cell_type": "code",
   "execution_count": 9,
   "metadata": {},
   "outputs": [
    {
     "data": {
      "text/plain": [
       "{(5.5, -105.5): [array([2.13719936e+00, 8.34843499e-06, 2.13116192e-03]),\n",
       "  array([0., 0., 0.]),\n",
       "  array([9.65273112e-01, 3.77059809e-06, 1.56804299e-03]),\n",
       "  array([0., 0., 0.]),\n",
       "  array([2.22238003e+00, 8.68117200e-06, 2.70127460e-03]),\n",
       "  array([0., 0., 0.]),\n",
       "  array([0., 0., 0.])],\n",
       " (7.0, -104.0): [array([1.11047453e+00, 4.33779112e-06, 1.97993532e-03])],\n",
       " (9.0, -101.0): [array([9.75803629e-01, 3.81173292e-06, 1.67325850e-03]),\n",
       "  array([3.00522211e+00, 1.17391489e-05, 2.71242008e-03])],\n",
       " (8.0, -107.0): [array([0., 0., 0.])],\n",
       " (3.0, -105.0): [array([1.05337192e+00, 4.11473405e-06, 1.32590000e-03])],\n",
       " (3.0, -107.0): [array([9.69756007e-01, 3.78810940e-06, 1.91664485e-03])],\n",
       " (2.0, -110.0): [array([2.28056875e+00, 8.90847167e-06, 2.63065016e-03])],\n",
       " (7.0, -103.0): [array([0., 0., 0.])],\n",
       " (9.0, -105.0): [array([0., 0., 0.])],\n",
       " (4.0, -105.0): [array([0., 0., 0.])],\n",
       " (6.0, -104.0): [array([0., 0., 0.])],\n",
       " (4.0, -102.0): [array([0., 0., 0.])],\n",
       " (2.0, -107.0): [array([2.12297778e+00, 8.29288196e-06, 2.50816834e-03])],\n",
       " (3.0, -103.0): [array([0., 0., 0.])],\n",
       " (8.0, -105.0): [array([0., 0., 0.])],\n",
       " (2.0, -100.0): [array([9.32600290e-01, 3.64296988e-06, 1.35221088e-03]),\n",
       "  array([0., 0., 0.])],\n",
       " (6.0, -108.0): [array([1.06802073e+00, 4.17195597e-06, 1.69245553e-03])],\n",
       " (6.0, -100.0): [array([0., 0., 0.])],\n",
       " (3.0, -108.0): [array([0., 0., 0.])],\n",
       " (7.0, -106.0): [array([9.63048428e-01, 3.76190792e-06, 1.48386896e-03])],\n",
       " (1.0, -107.0): [array([1.01545529e+00, 3.96662223e-06, 1.81595169e-03])],\n",
       " (3.0, -109.0): [array([0., 0., 0.])],\n",
       " (8.0, -101.0): [array([0., 0., 0.])],\n",
       " (10.0, -103.0): [array([0., 0., 0.])],\n",
       " (10.0, -105.0): [array([1.01935187e+00, 3.98184324e-06, 1.69571308e-03])],\n",
       " (8.0, -110.0): [array([9.25198706e-01, 3.61405745e-06, 1.61030212e-03])],\n",
       " (10.0, -107.0): [array([2.84903308e+00, 1.11290355e-05, 2.44002993e-03])],\n",
       " (4.0, -103.0): [array([0., 0., 0.])],\n",
       " (1.0, -100.0): [array([0., 0., 0.])],\n",
       " (5.0, -103.0): [array([0., 0., 0.])],\n",
       " (7.0, -109.0): [array([0., 0., 0.])],\n",
       " (3.0, -106.0): [array([1.04060793e+00, 4.06487472e-06, 1.66879650e-03])],\n",
       " (9.0, -102.0): [array([9.25159838e-01, 3.61390562e-06, 1.18931603e-03])],\n",
       " (8.0, -104.0): [array([1.24925376e+00, 4.87989752e-06, 2.08152402e-03])],\n",
       " (6.0, -105.0): [array([0., 0., 0.])],\n",
       " (10.0, -110.0): [array([0., 0., 0.])],\n",
       " (1.0, -110.0): [array([0., 0., 0.])],\n",
       " (5.0, -110.0): [array([0., 0., 0.])],\n",
       " (1.0, -108.0): [array([0., 0., 0.])],\n",
       " (3.0, -110.0): [array([0., 0., 0.]), array([0., 0., 0.])],\n",
       " (8.0, -111.0): [array([1.08295424e+00, 4.23029002e-06, 1.56826419e-03])],\n",
       " (8.0, -103.0): [array([9.15059123e-01, 3.57444970e-06, 1.31204413e-03])],\n",
       " (10.0, -108.0): [array([1.93662308e+00, 7.56493391e-06, 2.25320513e-03])],\n",
       " (4.0, -110.0): [array([0., 0., 0.])],\n",
       " (9.0, -104.0): [array([0., 0., 0.])],\n",
       " (5.0, -104.0): [array([3.69023967e+00, 1.44149987e-05, 3.46214831e-03])]}"
      ]
     },
     "execution_count": 9,
     "metadata": {},
     "output_type": "execute_result"
    }
   ],
   "source": [
    "ctrl.data_by_position"
   ]
  }
 ],
 "metadata": {
  "kernelspec": {
   "display_name": "smartscan",
   "language": "python",
   "name": "python3"
  },
  "language_info": {
   "codemirror_mode": {
    "name": "ipython",
    "version": 3
   },
   "file_extension": ".py",
   "mimetype": "text/x-python",
   "name": "python",
   "nbconvert_exporter": "python",
   "pygments_lexer": "ipython3",
   "version": "3.10.11"
  },
  "orig_nbformat": 4
 },
 "nbformat": 4,
 "nbformat_minor": 2
}
