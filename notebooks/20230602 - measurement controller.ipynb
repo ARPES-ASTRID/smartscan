{
 "cells": [
  {
   "cell_type": "code",
   "execution_count": null,
   "metadata": {},
   "outputs": [],
   "source": [
    "import numpy as np\n",
    "import random\n",
    "import matplotlib.pyplot as plt\n",
    "import smartscan as ss"
   ]
  },
  {
   "cell_type": "code",
   "execution_count": null,
   "metadata": {},
   "outputs": [],
   "source": [
    "vm = ss.VirtualSGM4('localhost',12345)"
   ]
  },
  {
   "cell_type": "code",
   "execution_count": null,
   "metadata": {},
   "outputs": [],
   "source": [
    "vm.init_scan_from_file(\n",
    "    filename=\"D:\\data\\SGM4 - 2022 - CrSBr\\data\\Kiss05_15_1.h5\"\n",
    ")\n"
   ]
  },
  {
   "cell_type": "code",
   "execution_count": null,
   "metadata": {},
   "outputs": [],
   "source": [
    "vm.positions[:,0].min(), vm.positions[:,0].max(), vm.positions[:,1].min(), vm.positions[:,1].max()"
   ]
  },
  {
   "cell_type": "code",
   "execution_count": null,
   "metadata": {},
   "outputs": [],
   "source": [
    "vm.limits"
   ]
  },
  {
   "cell_type": "code",
   "execution_count": null,
   "metadata": {},
   "outputs": [],
   "source": [
    "# %%timeit\n",
    "random_point = np.array([\n",
    "    random.uniform(vm.limits[0][0], vm.limits[0][1]),\n",
    "    random.uniform(vm.limits[1][0], vm.limits[1][1])\n",
    "])\n",
    "vm.read_data(random_point)"
   ]
  },
  {
   "cell_type": "code",
   "execution_count": null,
   "metadata": {},
   "outputs": [],
   "source": [
    "random_point = np.array([\n",
    "    random.uniform(vm.limits[0][0], vm.limits[0][1]),\n",
    "    random.uniform(vm.limits[1][0], vm.limits[1][1])\n",
    "])\n",
    "pos, data = vm.read_data(random_point)\n",
    "fig,ax = plt.subplots(1,1,figsize=(4,4))\n",
    "ax.imshow(data, cmap='terrain', origin='lower',clim=np.percentile(data, [5, 95]))\n",
    "ax.set_title(f\"({random_point[0]:.2f}, {random_point[1]:.2f})\\n({pos[0]:.2f}, {pos[1]:.2f})\")"
   ]
  },
  {
   "cell_type": "code",
   "execution_count": null,
   "metadata": {},
   "outputs": [],
   "source": [
    "import time\n",
    "import os"
   ]
  },
  {
   "cell_type": "code",
   "execution_count": null,
   "metadata": {},
   "outputs": [],
   "source": [
    "if vm.target_file_name.exists():\n",
    "    print(f\"Removing {vm.target_file_name}...\")\n",
    "    os.remove(f'../data/{vm.target_file_name}')\n",
    "time.sleep(1)"
   ]
  },
  {
   "cell_type": "code",
   "execution_count": null,
   "metadata": {},
   "outputs": [],
   "source": [
    "vm.create_file(mode='x')\n"
   ]
  },
  {
   "cell_type": "code",
   "execution_count": null,
   "metadata": {},
   "outputs": [],
   "source": [
    "read_file = ss.SGM4FileReader(vm.target_file_name)\n",
    "read_file.open()"
   ]
  },
  {
   "cell_type": "code",
   "execution_count": null,
   "metadata": {},
   "outputs": [],
   "source": []
  },
  {
   "cell_type": "code",
   "execution_count": null,
   "metadata": {},
   "outputs": [],
   "source": [
    "read_file.limits"
   ]
  },
  {
   "cell_type": "code",
   "execution_count": null,
   "metadata": {},
   "outputs": [],
   "source": [
    "vm.measure()"
   ]
  },
  {
   "cell_type": "code",
   "execution_count": null,
   "metadata": {},
   "outputs": [],
   "source": [
    "vm.current_pos = random_point = np.array([\n",
    "    random.uniform(vm.limits[0][0], vm.limits[0][1]),\n",
    "    random.uniform(vm.limits[1][0], vm.limits[1][1])\n",
    "])\n",
    "vm.measure()"
   ]
  },
  {
   "cell_type": "code",
   "execution_count": null,
   "metadata": {},
   "outputs": [],
   "source": [
    "a = read_file.get_new_data(0)\n",
    "a"
   ]
  },
  {
   "cell_type": "code",
   "execution_count": null,
   "metadata": {},
   "outputs": [],
   "source": [
    "vm.close_file()"
   ]
  },
  {
   "cell_type": "code",
   "execution_count": null,
   "metadata": {},
   "outputs": [],
   "source": [
    "with read_file as f:\n",
    "    f.positions"
   ]
  },
  {
   "cell_type": "code",
   "execution_count": null,
   "metadata": {},
   "outputs": [],
   "source": [
    "self = vm"
   ]
  },
  {
   "cell_type": "code",
   "execution_count": null,
   "metadata": {},
   "outputs": [],
   "source": [
    "pos,data = self.read_data(self.current_pos)\n",
    "print(data.shape)\n"
   ]
  },
  {
   "cell_type": "code",
   "execution_count": null,
   "metadata": {},
   "outputs": [],
   "source": []
  },
  {
   "cell_type": "markdown",
   "metadata": {},
   "source": []
  }
 ],
 "metadata": {
  "kernelspec": {
   "display_name": "smartscan",
   "language": "python",
   "name": "python3"
  },
  "language_info": {
   "codemirror_mode": {
    "name": "ipython",
    "version": 3
   },
   "file_extension": ".py",
   "mimetype": "text/x-python",
   "name": "python",
   "nbconvert_exporter": "python",
   "pygments_lexer": "ipython3",
   "version": "3.10.11"
  },
  "orig_nbformat": 4
 },
 "nbformat": 4,
 "nbformat_minor": 2
}
