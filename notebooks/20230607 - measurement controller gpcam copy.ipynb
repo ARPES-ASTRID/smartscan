{
 "cells": [
  {
   "cell_type": "code",
   "execution_count": null,
   "metadata": {},
   "outputs": [],
   "source": [
    "import numpy as np\n",
    "import random\n",
    "import matplotlib.pyplot as plt\n",
    "import smartscan as ss"
   ]
  },
  {
   "cell_type": "code",
   "execution_count": null,
   "metadata": {},
   "outputs": [],
   "source": [
    "sm = ss.SmartScan('localhost', 12345)"
   ]
  },
  {
   "cell_type": "code",
   "execution_count": null,
   "metadata": {},
   "outputs": [],
   "source": [
    "sm.sgm4.get_scan_info()"
   ]
  },
  {
   "cell_type": "code",
   "execution_count": null,
   "metadata": {},
   "outputs": [],
   "source": [
    "vm.init_scan_from_file(\n",
    "    filename=\"D:\\data\\SGM4 - 2022 - CrSBr\\data\\Kiss05_15_1.h5\"\n",
    ")\n"
   ]
  },
  {
   "cell_type": "code",
   "execution_count": null,
   "metadata": {},
   "outputs": [],
   "source": [
    "vm.create_file(mode='x',)"
   ]
  },
  {
   "cell_type": "code",
   "execution_count": null,
   "metadata": {},
   "outputs": [],
   "source": [
    "scanner = ss.SGM4FileReader(vm.target_file_name)\n",
    "scanner.open()"
   ]
  },
  {
   "cell_type": "code",
   "execution_count": null,
   "metadata": {},
   "outputs": [],
   "source": [
    "# # %%timeit\n",
    "# for i in range(5):\n",
    "#     vm.current_pos = random_point = np.array([\n",
    "#         random.uniform(vm.limits[0][0], vm.limits[0][1]),\n",
    "#         random.uniform(vm.limits[1][0], vm.limits[1][1])\n",
    "#     ])\n",
    "#     vm.measure()"
   ]
  },
  {
   "cell_type": "code",
   "execution_count": null,
   "metadata": {},
   "outputs": [],
   "source": [
    "scanner.positions"
   ]
  },
  {
   "cell_type": "code",
   "execution_count": null,
   "metadata": {},
   "outputs": [],
   "source": [
    "i=1\n",
    "f'Kiss05_15_1_virtual_{i:03.0f}.h5'"
   ]
  },
  {
   "cell_type": "code",
   "execution_count": null,
   "metadata": {},
   "outputs": [],
   "source": [
    "scanner.get_data(slice(None,None,None)).shape"
   ]
  },
  {
   "cell_type": "markdown",
   "metadata": {},
   "source": [
    "# GPcam"
   ]
  },
  {
   "cell_type": "code",
   "execution_count": null,
   "metadata": {},
   "outputs": [],
   "source": [
    "from gpcam.gp_optimizer import GPOptimizer\n",
    "from numpy.random import default_rng\n",
    "\n",
    "import plotly.graph_objects as go\n",
    "import numpy as np"
   ]
  },
  {
   "attachments": {},
   "cell_type": "markdown",
   "metadata": {},
   "source": [
    "# initialize scan with center point"
   ]
  },
  {
   "cell_type": "code",
   "execution_count": null,
   "metadata": {},
   "outputs": [],
   "source": [
    "scanner.limits"
   ]
  },
  {
   "cell_type": "code",
   "execution_count": null,
   "metadata": {},
   "outputs": [],
   "source": [
    "vm.current_pos = vm.nearest_position_on_grid(\n",
    "    [np.mean(l) for l in scanner.limits]\n",
    ")\n",
    "print(vm.current_pos)\n"
   ]
  },
  {
   "cell_type": "code",
   "execution_count": null,
   "metadata": {},
   "outputs": [],
   "source": [
    "vm.measure()"
   ]
  },
  {
   "cell_type": "code",
   "execution_count": null,
   "metadata": {},
   "outputs": [],
   "source": [
    "def find_next(n,points,values,gp):\n",
    "    gp.tell(points,values)\n",
    "    gp.train_gp(\n",
    "        hyperparameter_bounds=np.array([[0.001,1e9],[1,1000],[1,1000]]),\n",
    "        pop_size = 20,\n",
    "        tolerance = 1e-6,\n",
    "        max_iter = 2\n",
    "    )\n",
    "    new = gp.ask(\n",
    "        position = None, \n",
    "        n = n, \n",
    "        acquisition_function = \"shannon_ig\", \n",
    "        bounds = None,\n",
    "        method = \"global\", \n",
    "        pop_size = 20, \n",
    "        max_iter = 20, \n",
    "        tol = 10e-6, \n",
    "        x0 = None, \n",
    "        dask_client = False\n",
    "    )\n",
    "    return new\n"
   ]
  },
  {
   "cell_type": "markdown",
   "metadata": {},
   "source": [
    "# initialize"
   ]
  },
  {
   "cell_type": "code",
   "execution_count": null,
   "metadata": {},
   "outputs": [],
   "source": [
    "\n",
    "points = scanner.positions\n",
    "values= np.array([v.sum() for v in scanner.get_data(slice(None,None,None))])\n",
    "assert len(points) == len(values),\"points and values don't match\"\n",
    "print(points.shape,values.shape)\n"
   ]
  },
  {
   "cell_type": "code",
   "execution_count": null,
   "metadata": {},
   "outputs": [],
   "source": [
    "gp = GPOptimizer(\n",
    "    input_space_dimension=2, \n",
    "    input_space_bounds = scanner.limits\n",
    ")\n",
    "gp.tell(points,values)\n",
    "gp.init_gp(np.array([4.71907062e+06, 4.07439017e+02, 3.59068120e+02]))\n",
    "gp.train_gp(\n",
    "    hyperparameter_bounds=np.array([[0.001,1e9],[1,1000],[1,1000]]),\n",
    "    pop_size = 20,\n",
    "    tolerance = 1e-6,\n",
    "    max_iter = 2\n",
    ")\n"
   ]
  },
  {
   "cell_type": "code",
   "execution_count": null,
   "metadata": {},
   "outputs": [],
   "source": [
    "points = scanner.positions\n",
    "values = np.array([v.sum() for v in scanner.get_data(slice(None,None,None))])\n",
    "next = find_next(4,points,values,gp)\n",
    "print(next)"
   ]
  },
  {
   "cell_type": "code",
   "execution_count": null,
   "metadata": {},
   "outputs": [],
   "source": [
    "scanner.limits"
   ]
  },
  {
   "cell_type": "markdown",
   "metadata": {},
   "source": []
  }
 ],
 "metadata": {
  "kernelspec": {
   "display_name": "smartscan",
   "language": "python",
   "name": "python3"
  },
  "language_info": {
   "codemirror_mode": {
    "name": "ipython",
    "version": 3
   },
   "file_extension": ".py",
   "mimetype": "text/x-python",
   "name": "python",
   "nbconvert_exporter": "python",
   "pygments_lexer": "ipython3",
   "version": "3.10.11"
  },
  "orig_nbformat": 4
 },
 "nbformat": 4,
 "nbformat_minor": 2
}
