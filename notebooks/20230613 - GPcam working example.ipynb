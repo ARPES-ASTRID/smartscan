{
 "cells": [
  {
   "attachments": {},
   "cell_type": "markdown",
   "metadata": {},
   "source": [
    "# Trying R2->R examples"
   ]
  },
  {
   "cell_type": "code",
   "execution_count": null,
   "metadata": {},
   "outputs": [],
   "source": [
    "import numpy as np\n",
    "from gpcam.gp_optimizer import GPOptimizer\n",
    "import matplotlib.pyplot as plt\n",
    "from numpy.random import default_rng\n",
    "\n",
    "import plotly.graph_objects as go\n",
    "import numpy as np"
   ]
  },
  {
   "cell_type": "code",
   "execution_count": null,
   "metadata": {},
   "outputs": [],
   "source": [
    "plt.figure()\n",
    "plt.imshow(np.random.randn(100,100))"
   ]
  },
  {
   "cell_type": "code",
   "execution_count": null,
   "metadata": {},
   "outputs": [],
   "source": [
    "def plot(x,y,z,data = None):\n",
    "    fig = go.Figure()\n",
    "    fig.add_trace(go.Surface(x = x, y = y,z=z))\n",
    "    if data is not None: \n",
    "        fig.add_trace(go.Scatter3d(x=data[:,0], y=data[:,1], z=data[:,2],\n",
    "                                   mode='markers'))\n",
    "\n",
    "    fig.update_layout(title='Posterior Mean', autosize=True,\n",
    "                  width=800, height=800,\n",
    "                  margin=dict(l=65, r=50, b=65, t=90))\n",
    "\n",
    "    fig.show()\n"
   ]
  },
  {
   "cell_type": "code",
   "execution_count": null,
   "metadata": {},
   "outputs": [],
   "source": [
    "a = np.load(r\"D:\\data\\us_topo.npy\")\n",
    "rng = default_rng()\n",
    "ind = rng.choice(len(a)-1, size=50, replace=False)\n",
    "points = a[ind,0:2]\n",
    "values = a[ind,2:3]\n",
    "print(\"x_min \", np.min(points[:,0]),\" x_max \",np.max(points[:,0]))\n",
    "print(\"y_min \", np.min(points[:,1]),\" y_max \",np.max(points[:,1]))\n",
    "print(\"length of data set: \", len(points))\n",
    "\n",
    "index_set_bounds = np.array([[0,99],[0,248]])\n",
    "hyperparameter_bounds = np.array([[0.001,1e9],[1,1000],[1,1000]])\n",
    "hps_guess = np.array([4.71907062e+06, 4.07439017e+02, 3.59068120e+02])"
   ]
  },
  {
   "cell_type": "code",
   "execution_count": null,
   "metadata": {},
   "outputs": [],
   "source": [
    "plt.figure()\n",
    "plt.imshow(a[:,2].reshape(100,250))\n"
   ]
  },
  {
   "cell_type": "code",
   "execution_count": null,
   "metadata": {},
   "outputs": [],
   "source": [
    "gp = GPOptimizer(2, index_set_bounds)\n",
    "gp.tell(points,values)\n",
    "gp.init_gp(hps_guess)\n",
    "gp.train_gp(hyperparameter_bounds,pop_size = 20,tolerance = 1e-6,max_iter = 2)"
   ]
  },
  {
   "cell_type": "code",
   "execution_count": null,
   "metadata": {},
   "outputs": [],
   "source": [
    "x_pred = np.empty((10000,2))\n",
    "counter = 0\n",
    "x = np.linspace(0,99,100)\n",
    "y = np.linspace(0,248,100)\n",
    "\n",
    "for i in x:\n",
    " for j in y:\n",
    "   x_pred[counter] = np.array([i,j])\n",
    "   counter += 1\n"
   ]
  },
  {
   "cell_type": "code",
   "execution_count": null,
   "metadata": {},
   "outputs": [],
   "source": [
    "res1 = gp.posterior_mean(x_pred)"
   ]
  },
  {
   "cell_type": "code",
   "execution_count": null,
   "metadata": {},
   "outputs": [],
   "source": [
    "res2 = gp.posterior_covariance(x_pred)\n",
    "# #res3 = gp.gp.shannon_information_gain(x_pred)\n",
    "# X,Y = np.meshgrid(x,y)\n",
    "\n",
    "# PM = np.reshape(res1[\"f(x)\"],(100,250))\n",
    "# PV = np.reshape(res2[\"v(x)\"],(100,250))\n",
    "# # plot(X,Y,PM)\n",
    "# # plot(X,Y,PV)\n"
   ]
  },
  {
   "cell_type": "code",
   "execution_count": null,
   "metadata": {},
   "outputs": [],
   "source": [
    "X,Y = np.meshgrid(x,y)\n",
    "\n",
    "PM = np.reshape(res1[\"f(x)\"],(100,100))\n",
    "PV = np.reshape(res2[\"v(x)\"],(100,100))\n",
    "# plot(X,Y,PM)\n",
    "# plot(X,Y,PV)\n"
   ]
  },
  {
   "cell_type": "code",
   "execution_count": null,
   "metadata": {},
   "outputs": [],
   "source": [
    "plot(X,Y,PM)\n",
    "plot(X,Y,PV)"
   ]
  },
  {
   "cell_type": "code",
   "execution_count": null,
   "metadata": {},
   "outputs": [],
   "source": [
    "from dask.distributed import Client, LocalCluster\n",
    "cluster = LocalCluster(n_workers=10)  # Launches a scheduler and workers locally\n",
    "client = Client(cluster)  #"
   ]
  },
  {
   "cell_type": "code",
   "execution_count": null,
   "metadata": {},
   "outputs": [],
   "source": [
    "# cluster.close()"
   ]
  },
  {
   "cell_type": "code",
   "execution_count": null,
   "metadata": {},
   "outputs": [],
   "source": [
    "\n",
    "next = gp.ask(position = None, n = 5, acquisition_function = \"variance\", bounds = None,\n",
    "             method = \"hgdl\", pop_size = 50, max_iter = 20,\n",
    "             tol = 10e-6, dask_client = client)\n",
    "print(next)"
   ]
  },
  {
   "cell_type": "code",
   "execution_count": null,
   "metadata": {},
   "outputs": [],
   "source": [
    "next['x'][:,1]"
   ]
  },
  {
   "cell_type": "code",
   "execution_count": null,
   "metadata": {},
   "outputs": [],
   "source": [
    "fig,ax=plt.subplots(2,1,figsize=(8,4))\n",
    "ax[0].imshow(PM)\n",
    "ax[1].imshow(a[:,2].reshape(100,250))\n",
    "\n",
    "# plt.scatter(next['x'][:,1]/2.48,next['x'][:,0]/.99)"
   ]
  },
  {
   "cell_type": "code",
   "execution_count": null,
   "metadata": {},
   "outputs": [],
   "source": []
  },
  {
   "cell_type": "code",
   "execution_count": null,
   "metadata": {},
   "outputs": [],
   "source": [
    "res2"
   ]
  },
  {
   "cell_type": "code",
   "execution_count": null,
   "metadata": {},
   "outputs": [],
   "source": [
    "res1['x'][199]"
   ]
  },
  {
   "cell_type": "code",
   "execution_count": null,
   "metadata": {},
   "outputs": [],
   "source": []
  },
  {
   "attachments": {},
   "cell_type": "markdown",
   "metadata": {},
   "source": [
    "# Trying to predict experiment point"
   ]
  },
  {
   "attachments": {},
   "cell_type": "markdown",
   "metadata": {},
   "source": []
  },
  {
   "cell_type": "code",
   "execution_count": null,
   "metadata": {},
   "outputs": [],
   "source": [
    "from dask.distributed import Client, LocalCluster\n",
    "cluster = LocalCluster(n_workers=10)  # Launches a scheduler and workers locally\n",
    "client = Client(cluster)  #"
   ]
  },
  {
   "cell_type": "code",
   "execution_count": null,
   "metadata": {},
   "outputs": [],
   "source": [
    "import numpy as np\n",
    "from gpcam.gp_optimizer import GPOptimizer\n",
    "import matplotlib.pyplot as plt\n",
    "from numpy.random import default_rng\n",
    "\n",
    "import plotly.graph_objects as go\n",
    "import numpy as np"
   ]
  },
  {
   "cell_type": "code",
   "execution_count": null,
   "metadata": {},
   "outputs": [],
   "source": [
    "def init_gp(points,values,index_set_bounds,hyperparameter_bounds,hps_guess):\n",
    "    gp = GPOptimizer(2, index_set_bounds)\n",
    "    gp.tell(points,values)\n",
    "    gp.init_gp(hps_guess, compute_device='cpu', gp_kernel_function=None,\n",
    "               gp_mean_function=None, gp_kernel_function_grad=None,\n",
    "               gp_mean_function_grad=None, normalize_y=False, use_inv=True,\n",
    "               ram_economy=False)\n",
    "    # gp.init_gp(hps_guess)\n",
    "    gp.train_gp(hyperparameter_bounds,pop_size = 20,tolerance = 1e-6,max_iter = 2)\n",
    "    return gp\n",
    "\n",
    "\n",
    "def find_next(points,values,gp):\n",
    "    gp.tell(points,values)\n",
    "    gp.train_gp(hyperparameter_bounds,pop_size = 20,tolerance = 1e-6,max_iter = 2,dask_client = None)\n",
    "    # gp.train_gp_async(hyperparameter_bounds, max_iter = 10000, dask_client = None)\n",
    "\n",
    "    new = gp.ask(position = None, n = 1, acquisition_function = \"shannon_ig\", bounds = None,\n",
    "        method = \"global\", pop_size = 20, max_iter = 20, tol = 10e-6, x0 = None, dask_client = None)\n",
    "    \n",
    "    x,y = np.round(new['x'][0]).astype(int)\n",
    "    return x,y\n",
    "\n",
    "def measure_next(a,new):\n",
    "    newval = a[new[0]*250+new[1]]\n",
    "    assert np.allclose(new,newval[:2]),\"coordinates don't match\"\n",
    "    # points.append(new)\n",
    "    # values.append(a[new[0]*250+new[1]])\n",
    "    return newval[2]\n",
    "    # new,a[new[0]*250+new[1]][2]\n",
    "\n"
   ]
  },
  {
   "cell_type": "code",
   "execution_count": null,
   "metadata": {},
   "outputs": [],
   "source": [
    "%%time\n",
    "a = np.load(\"/Users/davide/Downloads/us_topo.npy\")\n",
    "rng = default_rng()\n",
    "ind = rng.choice(len(a)-1, size=5, replace=False)\n",
    "points = a[ind,0:2]\n",
    "values = a[ind,2:3]\n",
    "print(\"x_min \", np.min(points[:,0]),\" x_max \",np.max(points[:,0]))\n",
    "print(\"y_min \", np.min(points[:,1]),\" y_max \",np.max(points[:,1]))\n",
    "print(\"length of data set: \", len(points))\n",
    "\n",
    "index_set_bounds = np.array([[0,99],[0,249]])\n",
    "hyperparameter_bounds = np.array([[0.001,1e9],[1,1000],[1,1000]])\n",
    "hps_guess = np.array([4.71907062e+06, 4.07439017e+02, 3.59068120e+02])\n",
    "\n",
    "gp = init_gp(points,values,index_set_bounds,hyperparameter_bounds,hps_guess)"
   ]
  },
  {
   "cell_type": "code",
   "execution_count": null,
   "metadata": {},
   "outputs": [],
   "source": [
    "x_pred = np.empty((50*125,2))\n",
    "counter = 0\n",
    "x = np.linspace(0,99,50)\n",
    "y = np.linspace(0,248,125)\n",
    "\n",
    "for i in x:\n",
    " for j in y:\n",
    "   x_pred[counter] = np.array([i,j])\n",
    "   counter += 1\n",
    "\n",
    "res1 = gp.posterior_mean(x_pred)\n",
    "res2 = gp.posterior_covariance(x_pred)\n",
    "\n",
    "\n",
    "X,Y = np.meshgrid(x,y)\n",
    "\n",
    "PM = np.reshape(res1[\"f(x)\"],(50,125))\n",
    "PV = np.reshape(res2[\"v(x)\"],(50,125))\n",
    "\n",
    "\n",
    "fig,ax=plt.subplots(3,1,figsize=(8,6))\n",
    "ax[0].imshow(PV,extent=[0,250,100,0])\n",
    "ax[1].imshow(PM,extent=[0,250,100,0])\n",
    "ax[2].imshow(a[:,2].reshape(100,250))\n",
    "for aa in ax:\n",
    "    aa.scatter(points[:-1,1],points[:-1,0],s=1,color='orange')\n",
    "    aa.scatter(points[-1,1],points[-1,0],s=2,color='red')\n",
    "    "
   ]
  },
  {
   "cell_type": "code",
   "execution_count": null,
   "metadata": {},
   "outputs": [],
   "source": [
    "newpoint = find_next(points,values,gp)\n",
    "newval = measure_next(a,newpoint)\n",
    "values = np.append(values,newval)\n",
    "points = np.append(points,np.array(newpoint)[None,:],axis=0)\n",
    "\n",
    "print(values.shape,points.shape)\n",
    "print(newpoint,newval)\n",
    "\n"
   ]
  },
  {
   "cell_type": "code",
   "execution_count": null,
   "metadata": {},
   "outputs": [],
   "source": [
    "from tqdm.auto import tqdm\n",
    "for i in tqdm(range(50)):\n",
    "    newpoint = find_next(points,values,gp)\n",
    "    newval = measure_next(a,newpoint)\n",
    "    values = np.append(values,newval)\n",
    "    points = np.append(points,np.array(newpoint)[None,:],axis=0)\n",
    "\n",
    "    # print(values.shape,points.shape)\n",
    "    # print(newpoint,newval)\n",
    "\n"
   ]
  },
  {
   "cell_type": "code",
   "execution_count": null,
   "metadata": {},
   "outputs": [],
   "source": [
    "%%time\n",
    "# gp.tell(points,values)\n",
    "gp.train_gp_async(hyperparameter_bounds, max_iter=10000, dask_client=client, deflation_radius=None, constraints=(), local_method='L-BFGS-B', global_method='genetic')\n",
    "# new = gp.ask(position = None, n = 1, acquisition_function = \"variance\", bounds = None, method = \"global\", pop_size = 20, max_iter = 20, tol = 10e-6, x0 = None, dask_client = client)\n",
    "\n"
   ]
  },
  {
   "cell_type": "code",
   "execution_count": null,
   "metadata": {},
   "outputs": [],
   "source": [
    "x_pred = np.empty((100*250,2))\n",
    "counter = 0\n",
    "x = np.linspace(0,99,100)\n",
    "y = np.linspace(0,249,250)\n",
    "\n",
    "for i in x:\n",
    " for j in y:\n",
    "   x_pred[counter] = np.array([i,j])\n",
    "   counter += 1\n",
    "\n",
    "res1 = gp.posterior_mean(x_pred)\n",
    "res2 = gp.posterior_covariance(x_pred)\n",
    "\n",
    "\n",
    "X,Y = np.meshgrid(x,y)\n",
    "\n",
    "PM = np.reshape(res1[\"f(x)\"],(100,250))\n",
    "PV = np.reshape(res2[\"v(x)\"],(100,250))\n",
    "\n",
    "\n",
    "fig,ax=plt.subplots(3,1,figsize=(8,6))\n",
    "ax[0].imshow(PV,extent=[0,250,100,0])\n",
    "ax[1].imshow(PM,extent=[0,250,100,0])\n",
    "ax[2].imshow(a[:,2].reshape(100,250))\n",
    "for aa in ax:\n",
    "    aa.scatter(points[:-1,1],points[:-1,0],s=1,color='orange')\n",
    "    aa.scatter(points[-1,1],points[-1,0],s=2,color='red')\n",
    "    "
   ]
  },
  {
   "cell_type": "code",
   "execution_count": null,
   "metadata": {},
   "outputs": [],
   "source": []
  },
  {
   "attachments": {},
   "cell_type": "markdown",
   "metadata": {},
   "source": [
    "# Trying 1D test case"
   ]
  },
  {
   "attachments": {},
   "cell_type": "markdown",
   "metadata": {},
   "source": [
    "just to understand if variance depends on data"
   ]
  },
  {
   "cell_type": "code",
   "execution_count": null,
   "metadata": {},
   "outputs": [],
   "source": [
    "import numpy as np\n",
    "from gpcam.gp_optimizer import GPOptimizer\n",
    "import matplotlib.pyplot as plt\n",
    "from numpy.random import default_rng\n",
    "\n",
    "import plotly.graph_objects as go\n",
    "import numpy as np"
   ]
  },
  {
   "cell_type": "code",
   "execution_count": null,
   "metadata": {},
   "outputs": [],
   "source": [
    "def ff(xx):\n",
    "    return np.sin((xx - 2.5) ** 2)"
   ]
  },
  {
   "cell_type": "code",
   "execution_count": null,
   "metadata": {},
   "outputs": [],
   "source": [
    "def init_gp(points,values,index_set_bounds,hyperparameter_bounds,hps_guess):\n",
    "    gp = GPOptimizer(1, index_set_bounds)\n",
    "    gp.tell(points,values)\n",
    "    gp.init_gp(hps_guess, compute_device='cpu', gp_kernel_function=None,\n",
    "               gp_mean_function=None, gp_kernel_function_grad=None,\n",
    "               gp_mean_function_grad=None, normalize_y=False, use_inv=True,\n",
    "               ram_economy=False)\n",
    "    # gp.init_gp(hps_guess)\n",
    "    gp.train_gp(hyperparameter_bounds,pop_size = 20,tolerance = 1e-6,max_iter = 2)\n",
    "    return gp\n",
    "\n",
    "\n",
    "def find_next(points,values,gp):\n",
    "    gp.tell(points,values)\n",
    "    gp.train_gp(hyperparameter_bounds,pop_size = 20,tolerance = 1e-6,max_iter = 2,dask_client = None)\n",
    "    # gp.train_gp_async(hyperparameter_bounds, max_iter = 10000, dask_client = None)\n",
    "\n",
    "    new = gp.ask(position = None, n = 1, acquisition_function = \"shannon_ig\", bounds = None,\n",
    "        method = \"global\", pop_size = 20, max_iter = 20, tol = 10e-6, x0 = None, dask_client = None)\n",
    "    \n",
    "    x,y = np.round(new['x'][0]).astype(int)\n",
    "    return x,y\n",
    "\n",
    "def measure_next(a,new):\n",
    "    newval = a[new[0]*250+new[1]]\n",
    "    assert np.allclose(new,newval[:2]),\"coordinates don't match\"\n",
    "    # points.append(new)\n",
    "    # values.append(a[new[0]*250+new[1]])\n",
    "    return newval[2]\n",
    "    # new,a[new[0]*250+new[1]][2]\n",
    "\n"
   ]
  },
  {
   "cell_type": "code",
   "execution_count": null,
   "metadata": {},
   "outputs": [],
   "source": [
    "a = np.array(np.arange(0,5,0.001))\n",
    "rng = default_rng()\n",
    "ind = rng.choice(len(a)-1, size=5, replace=False)"
   ]
  },
  {
   "cell_type": "code",
   "execution_count": null,
   "metadata": {},
   "outputs": [],
   "source": [
    "a = np.array(np.arange(0,5,0.001))\n",
    "a = np.c_[a,np.sin(-ff(a))]\n",
    "\n",
    "points = a[ind,0:1]\n",
    "values = a[ind,1:2]\n",
    "print(\"x_min \", np.min(points[:]),\" x_max \",np.max(points[:]))\n",
    "print(\"length of data set: \", len(points))\n",
    "\n",
    "\n",
    "hps_guess = np.array([1,1,1])\n",
    "hyperparameter_bounds =  np.array([[0.01,100],[0.01,100.0],[0.01,100]])\n",
    "index_set_bounds = np.array([0,5])\n",
    "# # hyperparameter_bounds = np.array([[0.001,1e9],[1,1000]])\n",
    "# hps_guess = np.array([4.71907062e+06, 4.07439017e+02])"
   ]
  },
  {
   "cell_type": "code",
   "execution_count": null,
   "metadata": {},
   "outputs": [],
   "source": [
    "gp = init_gp(points,values,index_set_bounds,hyperparameter_bounds,hps_guess)"
   ]
  },
  {
   "cell_type": "code",
   "execution_count": null,
   "metadata": {},
   "outputs": [],
   "source": [
    "x_pred = np.array(np.linspace(0,5,100))\n",
    "\n",
    "res1 = gp.posterior_mean(x_pred)\n",
    "res2 = gp.posterior_covariance(x_pred)\n",
    "\n",
    "\n",
    "PM0 = res1[\"f(x)\"]\n",
    "PV0 = res2[\"v(x)\"].reshape(100)\n",
    "\n",
    "\n",
    "fig,ax=plt.subplots(2,1,figsize=(8,6))\n",
    "ax[0].plot(x_pred,PV0)\n",
    "ax[0].plot(x_pred,PV)\n",
    "ax[1].plot(x_pred,PM0)\n",
    "ax[1].plot(a[:,0],a[:,1])\n",
    "ax[1].plot(points,values,'.')\n",
    "\n",
    "ax[1].fill_between(\n",
    "        x_pred,\n",
    "        PM0 - PV0,\n",
    "        PM0 + PV0,\n",
    "        alpha=0.1,\n",
    "        color=\"black\",\n",
    "        label=r\"$\\pm$ 1 std. dev.\",\n",
    "    )\n",
    "    "
   ]
  },
  {
   "attachments": {},
   "cell_type": "markdown",
   "metadata": {},
   "source": [
    "# Trying multi-output GP"
   ]
  },
  {
   "attachments": {},
   "cell_type": "markdown",
   "metadata": {},
   "source": [
    "using fvGPOptimizer"
   ]
  },
  {
   "cell_type": "code",
   "execution_count": null,
   "metadata": {},
   "outputs": [],
   "source": [
    "import numpy as np\n",
    "import copy as cp\n",
    "from gpcam.gp_optimizer import fvGPOptimizer\n",
    "import matplotlib.pyplot as plt\n",
    "from numpy.random import default_rng\n",
    "import time"
   ]
  },
  {
   "cell_type": "code",
   "execution_count": null,
   "metadata": {},
   "outputs": [],
   "source": [
    "# shannon_information_gain\n",
    "# def aqf_multid(x,gp):\n",
    "\n",
    "#     ret = None\n",
    "#     for i in range(gp.input_dim-1):\n",
    "#         x_pred=np.c_[x,np.zeros(x.shape[0])+i].reshape(-1,gp.input_dim)\n",
    "#         if ret is None:\n",
    "#             ret = gp.shannon_information_gain_vec(x_pred)['sig(x)']\n",
    "#         else:\n",
    "#             ret += gp.shannon_information_gain_vec(x_pred)['sig(x)']\n",
    "#     return ret\n",
    "\n",
    "# upper_confidence_bounds\n",
    "def aqf_multid(x, gp):\n",
    "    a = 2.0  #####change here, 3.0 for 95 percent confidence interval\n",
    "    norm = 1.0\n",
    "    ret = None\n",
    "    for i in range(gp.input_dim-1):\n",
    "        x_pred=np.c_[x,np.zeros(x.shape[0])+i].reshape(-1,gp.input_dim)\n",
    "        cov = gp.posterior_covariance(x_pred)[\"v(x)\"]\n",
    "        if ret is None:\n",
    "            ret = cov\n",
    "        else:\n",
    "            ret += cov\n",
    "            \n",
    "    ret=a * np.sqrt(ret)\n",
    "\n",
    "    for i in range(gp.input_dim-1):\n",
    "        x_pred=np.c_[x,np.zeros(x.shape[0])+i].reshape(-1,gp.input_dim)\n",
    "        mean = gp.posterior_mean(x_pred)[\"f(x)\"]\n",
    "        ret += norm * mean\n",
    "\n",
    "    return ret"
   ]
  },
  {
   "cell_type": "code",
   "execution_count": null,
   "metadata": {},
   "outputs": [],
   "source": [
    "def init_gp(points,values,index_set_bounds,hyperparameter_bounds,hps_guess,vp,device='cpu'):\n",
    "    gp = fvGPOptimizer(input_space_dimension=2, output_space_dimension=1, output_number=2, input_space_bounds=index_set_bounds, )\n",
    "    gp.tell(points,values,value_positions=vp)\n",
    "    gp.init_fvgp(hps_guess,compute_device=device)\n",
    "    gp.train_gp(hyperparameter_bounds,pop_size = 20,tolerance = 1e-6,max_iter = 2)\n",
    "    return gp\n",
    "\n",
    "\n",
    "def find_next(points,values,gp,maxnum=None,device='cpu',dask_client=None):\n",
    "    if maxnum is None:\n",
    "        gp.tell(points,values)\n",
    "    else:\n",
    "        gp.tell(points[-maxnum:],values[-maxnum:])\n",
    "    gp.train_gp(\n",
    "        hyperparameter_bounds,\n",
    "        pop_size = 20,\n",
    "        method='global',\n",
    "        tolerance = 1e-6,\n",
    "        max_iter = 2,\n",
    "        dask_client = dask_client,\n",
    "        # device=device,\n",
    "    )\n",
    "        # gp.train_gp_async(hyperparameter_bounds, max_iter = 10000, dask_client = None)\n",
    "\n",
    "    new = gp.ask(\n",
    "        position = None, \n",
    "        n = 1, \n",
    "        acquisition_function = aqf_multid, \n",
    "        bounds = None,\n",
    "        method='global', \n",
    "        pop_size = 20, \n",
    "        max_iter = 20, \n",
    "        tol = 10e-6, \n",
    "        x0 = None, \n",
    "        dask_client = dask_client,\n",
    "        # device=device,\n",
    "    )\n",
    "    \n",
    "    x,y = np.round(new['x'][0]).astype(int)\n",
    "    return x,y\n",
    "\n",
    "def measure_next(a,new):\n",
    "    newval = a[new[0]*750+new[1]]\n",
    "    assert np.allclose(new,newval[:2]),\"coordinates don't match\"\n",
    "    # points.append(new)\n",
    "    # values.append(a[new[0]*250+new[1]])\n",
    "    return newval[2:]\n",
    "    # new,a[new[0]*250+new[1]][2]\n",
    "\n"
   ]
  },
  {
   "cell_type": "code",
   "execution_count": null,
   "metadata": {},
   "outputs": [],
   "source": [
    "# a = np.load(\"/Users/davide/Downloads/us_topo.npy\")\n",
    "a = np.load(r\"D:\\data\\us_topo.npy\")\n",
    "# a = np.c_[a,3733.5*np.sin(np.flip(a[:,2])/1000)]"
   ]
  },
  {
   "cell_type": "code",
   "execution_count": null,
   "metadata": {},
   "outputs": [],
   "source": [
    "b=cp.deepcopy(a*np.array([1,1,0]))\n",
    "b=np.append(b,(a+np.array([100,0,0]))*np.array([1,1,0]),axis=0)\n",
    "b=np.append(b,(a+np.array([200,0,0]))*np.array([1,1,0]),axis=0)\n",
    "b=np.append(b,(a+np.array([000,250,0]))*np.array([1,1,0]),axis=0)\n",
    "b=np.append(b,(a+np.array([100,250,0]))*np.array([1,1,1]),axis=0)\n",
    "b=np.append(b,(a+np.array([200,250,0]))*np.array([1,1,0]),axis=0)\n",
    "b=np.append(b,(a+np.array([000,500,0]))*np.array([1,1,0]),axis=0)\n",
    "b=np.append(b,(a+np.array([100,500,0]))*np.array([1,1,0]),axis=0)\n",
    "b=np.append(b,(a+np.array([200,500,0]))*np.array([1,1,0]),axis=0)\n",
    "\n",
    "b=b[np.lexsort(np.transpose(b)[::-1])]\n",
    "a=b\n",
    "a = np.c_[a,3733.5*np.sin(np.flip(a[:,2])/1000)]"
   ]
  },
  {
   "cell_type": "code",
   "execution_count": null,
   "metadata": {},
   "outputs": [],
   "source": [
    "fig,ax=plt.subplots(1,2,figsize=(8,2))\n",
    "ax[0].imshow(a[:,2].reshape(100*3,250*3))\n",
    "ax[1].imshow(a[:,3].reshape(100*3,250*3))\n",
    "# cc=(a+np.array([000,250,0]))*np.array([1,1,1])\n",
    "# ax[1].scatter(a[:,0],a[:,1],c=a[:,2],marker='.',linewidth=0)\n"
   ]
  },
  {
   "cell_type": "code",
   "execution_count": null,
   "metadata": {},
   "outputs": [],
   "source": [
    "\n",
    "rng = default_rng()\n",
    "ind = rng.choice(len(a)-1, size=5, replace=False)\n",
    "points = a[ind,0:2]\n",
    "values = a[ind,2:4]\n",
    "print(\"x_min \", np.min(points[:,0]),\" x_max \",np.max(points[:,0]))\n",
    "print(\"y_min \", np.min(points[:,1]),\" y_max \",np.max(points[:,1]))\n",
    "print(\"val_min \", np.min(values[:,1]),\" val_max \",np.max(values[:,1]))\n",
    "print(\"length of data set: \", len(points))\n",
    "\n",
    "index_set_bounds = np.array([[0,299],[0,749]])\n",
    "hyperparameter_bounds = np.array([[0.001,1e9],[1,1000],[1,1000],[1,1000],[1,1000]])\n",
    "hps_guess = np.array([4.71907062e+06, 4.07439017e+02, 3.59068120e+02,4e2,4e2])\n",
    "\n",
    "z=[[[0],[1]]]\n",
    "vp = np.array(z*len(ind))\n",
    "\n",
    "gp = init_gp(points,values,index_set_bounds,hyperparameter_bounds,hps_guess,vp,device='gpu')"
   ]
  },
  {
   "cell_type": "code",
   "execution_count": null,
   "metadata": {},
   "outputs": [],
   "source": [
    "x = np.linspace(0,299,50)\n",
    "y = np.linspace(0,749,125)\n",
    "\n",
    "# for fvGP, the third input for posteriors is the output coordinate\n",
    "x_pred = np.empty((50*125,3))\n",
    "counter = 0\n",
    "for i in x:\n",
    " for j in y:\n",
    "   x_pred[counter] = np.array([i,j,0])\n",
    "   counter += 1\n",
    "\n",
    "res10 = gp.posterior_mean(x_pred)\n",
    "res20 = gp.posterior_covariance(x_pred)\n",
    "\n",
    "x_pred = np.empty((50*125,3))\n",
    "counter = 0\n",
    "for i in x:\n",
    " for j in y:\n",
    "   x_pred[counter] = np.array([i,j,1])\n",
    "   counter += 1\n",
    "\n",
    "res11 = gp.posterior_mean(x_pred)\n",
    "res21 = gp.posterior_covariance(x_pred)\n",
    "\n",
    "\n",
    "X,Y = np.meshgrid(x,y)\n",
    "\n",
    "PM0 = np.reshape(res10[\"f(x)\"],(50,125))\n",
    "PV0 = np.reshape(res20[\"v(x)\"],(50,125))\n",
    "PM1 = np.reshape(res11[\"f(x)\"],(50,125))\n",
    "PV1 = np.reshape(res21[\"v(x)\"],(50,125))\n",
    "\n",
    "\n",
    "fig,ax=plt.subplots(2,3,figsize=(8,2))\n",
    "ax[0,0].imshow(PV0,extent=[0,750,300,0])\n",
    "ax[0,1].imshow(PM0,extent=[0,750,300,0])\n",
    "ax[1,0].imshow(PV1,extent=[0,750,300,0])\n",
    "ax[1,1].imshow(PM1,extent=[0,750,300,0])\n",
    "ax[0,2].imshow(a[:,2].reshape(300,750))\n",
    "ax[1,2].imshow(a[:,3].reshape(300,750))\n",
    "for aa in ax.ravel():\n",
    "    aa.scatter(points[:-1,1],points[:-1,0],s=1,color='orange')\n",
    "    aa.scatter(points[-1,1],points[-1,0],s=2,color='red')\n",
    "    "
   ]
  },
  {
   "cell_type": "code",
   "execution_count": null,
   "metadata": {},
   "outputs": [],
   "source": [
    "plt.figure()\n",
    "plt.imshow(PV0-PV1)\n",
    "plt.colorbar()"
   ]
  },
  {
   "cell_type": "code",
   "execution_count": null,
   "metadata": {},
   "outputs": [],
   "source": [
    "# x = np.linspace(0,299,50)\n",
    "# y = np.linspace(0,749,125)\n",
    "\n",
    "# x_pred = np.empty((50*125,2))\n",
    "# counter = 0\n",
    "# for i in x:\n",
    "#  for j in y:\n",
    "#    x_pred[counter] = np.array([i,j])\n",
    "#    counter += 1\n",
    "\n",
    "# res = np.reshape(aqf_multid(x_pred,gp),(50,125))\n",
    "\n",
    "\n",
    "\n",
    "# plt.figure()\n",
    "# plt.imshow(res,extent=[0,750,300,0])\n",
    "# plt.colorbar()\n",
    "# ax = plt.gca()\n",
    "# ax.scatter(points[:-1,1],points[:-1,0],s=1,color='orange')\n",
    "# ax.scatter(points[-1,1],points[-1,0],s=2,color='red')\n",
    "    "
   ]
  },
  {
   "cell_type": "code",
   "execution_count": null,
   "metadata": {},
   "outputs": [],
   "source": [
    "# gp.tell(points,values)\n",
    "# gp.train_gp(hyperparameter_bounds,pop_size = 20,tolerance = 1e-6,max_iter = 2,dask_client = None)\n",
    "\n",
    "# gp.ask(position = None, n = 1, acquisition_function = aqf_multid, bounds = None,\n",
    "#     method = \"global\", pop_size = 20, max_iter = 20, tol = 10e-6, x0 = np.array([0,0]), dask_client = None)\n",
    "\n",
    "# # x,y = np.round(new['x'][0]).astype(int)\n"
   ]
  },
  {
   "cell_type": "code",
   "execution_count": null,
   "metadata": {},
   "outputs": [],
   "source": [
    "# import time\n",
    "\n",
    "# t0 = time.time()\n",
    "\n",
    "# gp.tell(points,values)\n",
    "# # gp.train_gp(hyperparameter_bounds,pop_size = 20,tolerance = 1e-6,max_iter = 2,dask_client = None)\n",
    "# gp.train_gp(hyperparameter_bounds, method='mcmc', pop_size=20, tolerance=1e-06, max_iter=2, constraints=(), deflation_radius=None, dask_client=None)\n",
    "# # gp.train_gp_async(hyperparameter_bounds, max_iter = 10000, dask_client = None)\n",
    "\n",
    "# # new = gp.ask(position = None, n = 1, acquisition_function = aqf_multid, bounds = None,\n",
    "#     # method = \"global\", pop_size = 20, max_iter = 20, tol = 10e-6, x0 = None, dask_client = None)\n",
    "\n",
    "# # x,y = np.round(new['x'][0]).astype(int)\n",
    "# # newpoint = (x,y)\n",
    "# t1 = time.time()\n",
    "\n",
    "# t1-t0\n"
   ]
  },
  {
   "cell_type": "code",
   "execution_count": null,
   "metadata": {},
   "outputs": [],
   "source": [
    "from tqdm.auto import tqdm\n",
    "information=[]\n",
    "times = []\n",
    "for i in tqdm(range(500)):\n",
    "    try:\n",
    "        t0 = time.time()\n",
    "        newpoint = find_next(points,values,gp,device='gpu')\n",
    "        newval = measure_next(a,newpoint)\n",
    "        values = np.append(values,np.array(newval)[None,:],axis=0)\n",
    "        points = np.append(points,np.array(newpoint)[None,:],axis=0)\n",
    "        times.append(time.time()-t0)\n",
    "    except KeyboardInterrupt:\n",
    "        break\n",
    "    # ig = gp.shannon_information_gain(np.append(points[-1],np.array([0])))['prior entropy']\n",
    "    # ig += gp.shannon_information_gain(np.append(points[-1],np.array([1])))['prior entropy']\n",
    "    # information.append(ig)\n",
    "\n",
    "\n",
    "    # print(values.shape,points.shape)\n",
    "    # print(newpoint,newval)\n",
    "\n"
   ]
  },
  {
   "cell_type": "code",
   "execution_count": null,
   "metadata": {},
   "outputs": [],
   "source": [
    "plt.figure()\n",
    "plt.plot(times)"
   ]
  },
  {
   "cell_type": "code",
   "execution_count": null,
   "metadata": {},
   "outputs": [],
   "source": [
    "plt.figure()\n",
    "ax = plt.gca()\n",
    "\n",
    "ax.plot(np.array(information[1:])-np.array(information[:-1]))\n",
    "# ax.set_ylim(25,30)\n",
    "\n"
   ]
  },
  {
   "cell_type": "code",
   "execution_count": null,
   "metadata": {},
   "outputs": [],
   "source": [
    "x_pred = np.empty((50*125,2))\n",
    "counter = 0\n",
    "x = np.linspace(0,299,50)\n",
    "y = np.linspace(0,749,125)\n",
    "\n",
    "for i in x:\n",
    " for j in y:\n",
    "   x_pred[counter] = np.array([i,j])\n",
    "   counter += 1\n",
    "\n",
    "\n",
    "\n",
    "fig,ax=plt.subplots(3,2,figsize=(8,6))\n",
    "\n",
    "res1 = np.reshape(aqf_multid(x_pred,gp),(50,125))\n",
    "res2 = np.reshape(gp.posterior_mean(np.c_[x_pred,np.zeros(x_pred.shape[0])]+0)['f(x)'],(50,125))\n",
    "ax[0,0].imshow(res1,extent=[0,750,300,0],clim=(np.quantile(res1,(0.02,0.98))))\n",
    "ax[1,0].imshow(res2,extent=[0,750,300,0])\n",
    "ax[2,0].imshow(a[:,2].reshape(300,750))\n",
    "\n",
    "res1 = np.reshape(aqf_multid(x_pred,gp),(50,125))\n",
    "res2 = np.reshape(gp.posterior_mean(np.c_[x_pred,np.zeros(x_pred.shape[0])+1])['f(x)'],(50,125))\n",
    "ax[0,1].imshow(res1,extent=[0,750,300,0],clim=(np.quantile(res1,(0.02,0.98))))\n",
    "ax[1,1].imshow(res2,extent=[0,750,300,0],clim=(np.quantile(a[:,3],(0,1))))\n",
    "ax[2,1].imshow(a[:,3].reshape(300,750))\n",
    "\n",
    "for aa in ax.flatten():\n",
    "    aa.scatter(points[:-1,1],points[:-1,0],s=1,color='orange')\n",
    "    aa.scatter(points[-1,1],points[-1,0],s=2,color='red')\n",
    "    "
   ]
  },
  {
   "cell_type": "code",
   "execution_count": null,
   "metadata": {},
   "outputs": [],
   "source": [
    "x_pred = np.empty((50*125,2))\n",
    "counter = 0\n",
    "x = np.linspace(0,99,50)\n",
    "y = np.linspace(0,249,125)\n",
    "\n",
    "for i in x:\n",
    " for j in y:\n",
    "   x_pred[counter] = np.array([i,j])\n",
    "   counter += 1\n",
    "\n",
    "\n",
    "\n",
    "fig,ax=plt.subplots(3,2,figsize=(8,6))\n",
    "\n",
    "res1 = np.reshape(aqf_multid(x_pred,gp),(50,125))\n",
    "res2 = np.reshape(gp.posterior_mean(np.c_[x_pred,np.zeros(x_pred.shape[0])]+0)['f(x)'],(50,125))\n",
    "ax[0,0].imshow(res1,extent=[0,250,100,0],clim=(np.quantile(res1,(0.02,0.98))))\n",
    "ax[1,0].imshow(res2,extent=[0,250,100,0])\n",
    "ax[2,0].imshow(a[:,2].reshape(100,250))\n",
    "\n",
    "res1 = np.reshape(aqf_multid(x_pred,gp),(50,125))\n",
    "res2 = np.reshape(gp.posterior_mean(np.c_[x_pred,np.zeros(x_pred.shape[0])+1])['f(x)'],(50,125))\n",
    "ax[0,1].imshow(res1,extent=[0,250,100,0],clim=(np.quantile(res1,(0.02,0.98))))\n",
    "ax[1,1].imshow(res2,extent=[0,250,100,0],clim=(np.quantile(a[:,3],(0,1))))\n",
    "ax[2,1].imshow(a[:,3].reshape(100,250))\n",
    "\n",
    "for aa in ax.flatten():\n",
    "    aa.scatter(points[:-1,1],points[:-1,0],s=1,color='orange')\n",
    "    aa.scatter(points[-1,1],points[-1,0],s=2,color='red')\n",
    "    "
   ]
  },
  {
   "cell_type": "code",
   "execution_count": null,
   "metadata": {},
   "outputs": [],
   "source": []
  },
  {
   "cell_type": "code",
   "execution_count": null,
   "metadata": {},
   "outputs": [],
   "source": []
  },
  {
   "cell_type": "code",
   "execution_count": null,
   "metadata": {},
   "outputs": [],
   "source": [
    "\n",
    "gp = fvGPOptimizer(input_space_dimension=2, output_space_dimension=1, output_number=2, input_space_bounds=index_set_bounds)\n",
    "vp = np.array([[[0.],[1.]],[[0.],[1.]],[[0.],[1.]],[[0.],[1.]],[[0.],[1.]]])\n",
    "gp.tell(points,values,value_positions=vp)\n",
    "gp.init_fvgp(hps_guess)\n",
    "# gp.train_gp(hyperparameter_bounds,pop_size = 20,tolerance = 1e-6,max_iter = 2)\n",
    "\n"
   ]
  },
  {
   "cell_type": "code",
   "execution_count": null,
   "metadata": {},
   "outputs": [],
   "source": []
  },
  {
   "attachments": {},
   "cell_type": "markdown",
   "metadata": {},
   "source": [
    "# Basic GPCam example"
   ]
  },
  {
   "cell_type": "code",
   "execution_count": null,
   "metadata": {},
   "outputs": [],
   "source": [
    "from gpcam.autonomous_experimenter import AutonomousExperimenterGP\n",
    "import numpy as np\n",
    "\n",
    "def instrument(data):\n",
    "    for entry in data:\n",
    "        entry[\"value\"] = np.sin(np.linalg.norm(entry[\"position\"]))\n",
    "    return data\n",
    "\n",
    "##set up your parameter space\n",
    "parameters = np.array([[3.0,45.8],\n",
    "                       [4.0,47.0]])\n",
    "\n",
    "##set up some hyperparameters, if you have no idea, set them to 1 and make the training bounds large\n",
    "init_hyperparameters = np.array([1,1,1])\n",
    "hyperparameter_bounds =  np.array([[0.01,100],[0.01,100.0],[0.01,100]])\n",
    "\n",
    "##let's initialize the autonomous experimenter ...\n",
    "my_ae = AutonomousExperimenterGP(parameters, init_hyperparameters,\n",
    "                                 hyperparameter_bounds,instrument_func = instrument,  \n",
    "                                 init_dataset_size=10)\n",
    "#...train...\n",
    "my_ae.train()\n",
    "\n",
    "#...and run. That's it. You successfully executed an autonomous experiment.\n",
    "my_ae.go(N = 100)"
   ]
  },
  {
   "attachments": {},
   "cell_type": "markdown",
   "metadata": {},
   "source": []
  }
 ],
 "metadata": {
  "kernelspec": {
   "display_name": "gpcam",
   "language": "python",
   "name": "python3"
  },
  "language_info": {
   "codemirror_mode": {
    "name": "ipython",
    "version": 3
   },
   "file_extension": ".py",
   "mimetype": "text/x-python",
   "name": "python",
   "nbconvert_exporter": "python",
   "pygments_lexer": "ipython3",
   "version": "3.10.11"
  },
  "orig_nbformat": 4,
  "vscode": {
   "interpreter": {
    "hash": "1b103d9a4a0a9779608a01a7f8f762634b880851de7fc86f07d58debf004e234"
   }
  }
 },
 "nbformat": 4,
 "nbformat_minor": 2
}
