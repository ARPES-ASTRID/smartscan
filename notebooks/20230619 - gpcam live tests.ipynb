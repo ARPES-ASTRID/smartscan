{
 "cells": [
  {
   "cell_type": "markdown",
   "metadata": {},
   "source": []
  },
  {
   "cell_type": "code",
   "execution_count": 1,
   "metadata": {},
   "outputs": [],
   "source": [
    "import numpy as np\n",
    "import random\n",
    "import matplotlib.pyplot as plt\n",
    "import smartscan as ss\n",
    "from pathlib import Path"
   ]
  },
  {
   "cell_type": "markdown",
   "metadata": {},
   "source": []
  },
  {
   "cell_type": "code",
   "execution_count": 2,
   "metadata": {},
   "outputs": [],
   "source": [
    "sm = ss.SmartScanGP('localhost', 54333)"
   ]
  },
  {
   "cell_type": "code",
   "execution_count": 3,
   "metadata": {},
   "outputs": [
    {
     "name": "stdout",
     "output_type": "stream",
     "text": [
      "Connecting to localhost:54333\n",
      "Sending message: NDIM\n",
      "Waiting for response\n",
      "Received: NDIM 2\n",
      "\n",
      "Connecting to localhost:54333\n",
      "Sending message: LIMITS\n",
      "Waiting for response\n",
      "Received: LIMITS 0.000000,100.000000 -100.000000,0.000000\n",
      "\n",
      "LIMITS 0.000000,100.000000 -100.000000,0.000000\n",
      "Connecting to localhost:54333\n",
      "Sending message: CURRENT_POS\n",
      "Waiting for response\n",
      "Received: CURRENT_POS LoopA:50.0 LoopB:-50.0\n",
      "\n",
      "Connecting to localhost:54333\n",
      "Sending message: FILENAME\n",
      "Waiting for response\n",
      "Received: FILENAME D:\\Data\\2023\\06June\\CS008\\Test1_6.h5\n",
      "\n"
     ]
    }
   ],
   "source": [
    "sm.sgm4.connect()"
   ]
  },
  {
   "cell_type": "code",
   "execution_count": 4,
   "metadata": {},
   "outputs": [
    {
     "name": "stdout",
     "output_type": "stream",
     "text": [
      "Connecting to localhost:54333\n",
      "Sending message: FILENAME\n",
      "Waiting for response\n",
      "Received: FILENAME D:\\Data\\2023\\06June\\CS008\\Test1_6.h5\n",
      "\n"
     ]
    },
    {
     "name": "stderr",
     "output_type": "stream",
     "text": [
      "D:\\Labview AJ\\pycomm\\smartscan\\smartscan\\file.py:55: UserWarning: swmr=True only affects read ('r') mode. For swmr write mode, set f.swmr_mode = True after opening the file.\n",
      "  with h5py.File(self.filename, 'a', swmr=self.swmr) as f:\n"
     ]
    }
   ],
   "source": [
    "sm.open()"
   ]
  },
  {
   "cell_type": "code",
   "execution_count": 5,
   "metadata": {},
   "outputs": [
    {
     "data": {
      "text/plain": [
       "[0.0, 100.0, -100.0, 0.0]"
      ]
     },
     "execution_count": 5,
     "metadata": {},
     "output_type": "execute_result"
    }
   ],
   "source": [
    "sm.file.limits"
   ]
  },
  {
   "cell_type": "code",
   "execution_count": 6,
   "metadata": {},
   "outputs": [
    {
     "name": "stdout",
     "output_type": "stream",
     "text": [
      "Connecting to localhost:54333\n",
      "Sending message: LIMITS\n",
      "Waiting for response\n",
      "Received: LIMITS 0.000000,100.000000 -100.000000,0.000000\n",
      "\n",
      "LIMITS 0.000000,100.000000 -100.000000,0.000000\n"
     ]
    },
    {
     "data": {
      "text/plain": [
       "[(0.0, 100.0), (-100.0, 0.0)]"
      ]
     },
     "execution_count": 6,
     "metadata": {},
     "output_type": "execute_result"
    }
   ],
   "source": [
    "sm.sgm4._limits = None\n",
    "sm.sgm4.limits"
   ]
  },
  {
   "cell_type": "code",
   "execution_count": 7,
   "metadata": {},
   "outputs": [
    {
     "data": {
      "application/vnd.jupyter.widget-view+json": {
       "model_id": "cd815aa10c6148e7930113380a3a3a0d",
       "version_major": 2,
       "version_minor": 0
      },
      "text/plain": [
       "Combining same position data: 0it [00:00, ?it/s]"
      ]
     },
     "metadata": {},
     "output_type": "display_data"
    }
   ],
   "source": [
    "sm.update_data()"
   ]
  },
  {
   "cell_type": "code",
   "execution_count": 8,
   "metadata": {},
   "outputs": [
    {
     "data": {
      "text/plain": [
       "array([[[0., 0., 0., ..., 0., 0., 0.],\n",
       "        [0., 0., 0., ..., 0., 0., 0.],\n",
       "        [0., 0., 0., ..., 0., 0., 0.],\n",
       "        ...,\n",
       "        [0., 0., 0., ..., 0., 0., 0.],\n",
       "        [0., 0., 0., ..., 0., 0., 0.],\n",
       "        [0., 0., 0., ..., 0., 0., 0.]],\n",
       "\n",
       "       [[0., 0., 0., ..., 0., 0., 0.],\n",
       "        [0., 0., 0., ..., 0., 0., 0.],\n",
       "        [0., 0., 0., ..., 0., 0., 0.],\n",
       "        ...,\n",
       "        [0., 0., 0., ..., 0., 0., 0.],\n",
       "        [0., 0., 0., ..., 0., 0., 0.],\n",
       "        [0., 0., 0., ..., 0., 0., 0.]]])"
      ]
     },
     "execution_count": 8,
     "metadata": {},
     "output_type": "execute_result"
    }
   ],
   "source": [
    "sm.values"
   ]
  },
  {
   "cell_type": "code",
   "execution_count": 15,
   "metadata": {},
   "outputs": [
    {
     "data": {
      "text/plain": [
       "array([[ 5.00000000e+01, -5.00000000e+01],\n",
       "       [-9.99999999e+08, -9.99999999e+08]])"
      ]
     },
     "execution_count": 15,
     "metadata": {},
     "output_type": "execute_result"
    }
   ],
   "source": [
    "sm.positions"
   ]
  },
  {
   "cell_type": "code",
   "execution_count": null,
   "metadata": {},
   "outputs": [],
   "source": []
  },
  {
   "cell_type": "code",
   "execution_count": 10,
   "metadata": {},
   "outputs": [],
   "source": [
    "from itertools import product"
   ]
  },
  {
   "cell_type": "code",
   "execution_count": 11,
   "metadata": {},
   "outputs": [
    {
     "data": {
      "text/plain": [
       "array([[ True,  True],\n",
       "       [ True, False],\n",
       "       [ True, False],\n",
       "       [ True, False],\n",
       "       [ True, False],\n",
       "       [False,  True],\n",
       "       [False, False],\n",
       "       [False, False],\n",
       "       [False, False],\n",
       "       [False, False]])"
      ]
     },
     "execution_count": 11,
     "metadata": {},
     "output_type": "execute_result"
    }
   ],
   "source": [
    "data = np.ones(10)\n",
    "positions = np.array(tuple(product(range(2),range(5))))\n",
    "data,positions\n",
    "positions == [0,0]\n"
   ]
  },
  {
   "cell_type": "code",
   "execution_count": null,
   "metadata": {},
   "outputs": [],
   "source": []
  },
  {
   "cell_type": "code",
   "execution_count": null,
   "metadata": {},
   "outputs": [],
   "source": []
  },
  {
   "cell_type": "code",
   "execution_count": 12,
   "metadata": {},
   "outputs": [
    {
     "name": "stdout",
     "output_type": "stream",
     "text": [
      "Connecting to localhost:54333\n",
      "Sending message: MEASURE\n",
      "Waiting for response\n",
      "Received: ERROR 1 badcommand\n",
      "\n"
     ]
    },
    {
     "data": {
      "text/plain": [
       "'ERROR 1 badcommand'"
      ]
     },
     "execution_count": 12,
     "metadata": {},
     "output_type": "execute_result"
    }
   ],
   "source": [
    "sm.sgm4.send_command('MEASURE')"
   ]
  },
  {
   "cell_type": "code",
   "execution_count": 13,
   "metadata": {},
   "outputs": [
    {
     "name": "stdout",
     "output_type": "stream",
     "text": [
      "Connecting to localhost:54333\n",
      "Sending message: ADD_POINT -1500.0 -1600.0\n",
      "Waiting for response\n",
      "Received: ADD_POINT -999999999.000000 -999999999.000000\n",
      "\n"
     ]
    },
    {
     "data": {
      "text/plain": [
       "True"
      ]
     },
     "execution_count": 13,
     "metadata": {},
     "output_type": "execute_result"
    }
   ],
   "source": [
    "sm.sgm4.ADD_POINT(-1500.0,-1600.0)"
   ]
  },
  {
   "cell_type": "code",
   "execution_count": 14,
   "metadata": {},
   "outputs": [
    {
     "ename": "AttributeError",
     "evalue": "'SGM4Controller' object has no attribute 'axes'",
     "output_type": "error",
     "traceback": [
      "\u001b[1;31m---------------------------------------------------------------------------\u001b[0m",
      "\u001b[1;31mAttributeError\u001b[0m                            Traceback (most recent call last)",
      "Cell \u001b[1;32mIn[14], line 1\u001b[0m\n\u001b[1;32m----> 1\u001b[0m sm\u001b[39m.\u001b[39;49msgm4\u001b[39m.\u001b[39;49maxes\n",
      "\u001b[1;31mAttributeError\u001b[0m: 'SGM4Controller' object has no attribute 'axes'"
     ]
    }
   ],
   "source": [
    "sm.sgm4.axes"
   ]
  }
 ],
 "metadata": {
  "kernelspec": {
   "display_name": "smartscan",
   "language": "python",
   "name": "python3"
  },
  "language_info": {
   "codemirror_mode": {
    "name": "ipython",
    "version": 3
   },
   "file_extension": ".py",
   "mimetype": "text/x-python",
   "name": "python",
   "nbconvert_exporter": "python",
   "pygments_lexer": "ipython3",
   "version": "3.10.11"
  },
  "orig_nbformat": 4
 },
 "nbformat": 4,
 "nbformat_minor": 2
}
