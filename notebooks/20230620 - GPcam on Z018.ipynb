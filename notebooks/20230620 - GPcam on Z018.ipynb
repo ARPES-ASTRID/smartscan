{
 "cells": [
  {
   "attachments": {},
   "cell_type": "markdown",
   "metadata": {},
   "source": [
    "# Simulate a scan with GPcam on pre-measured data\n"
   ]
  },
  {
   "cell_type": "code",
   "execution_count": 1,
   "metadata": {},
   "outputs": [
    {
     "ename": "",
     "evalue": "",
     "output_type": "error",
     "traceback": [
      "\u001b[1;31mCannot execute code, session has been disposed. Please try restarting the Kernel."
     ]
    },
    {
     "ename": "",
     "evalue": "",
     "output_type": "error",
     "traceback": [
      "\u001b[1;31mThe Kernel crashed while executing code in the the current cell or a previous cell. Please review the code in the cell(s) to identify a possible cause of the failure. Click <a href='https://aka.ms/vscodeJupyterKernelCrash'>here</a> for more info. View Jupyter <a href='command:jupyter.viewOutput'>log</a> for further details."
     ]
    }
   ],
   "source": [
    "from pathlib import Path\n",
    "import numpy as np\n",
    "import copy as cp\n",
    "from gpcam.gp_optimizer import fvGPOptimizer\n",
    "import matplotlib.pyplot as plt\n",
    "from numpy.random import default_rng\n",
    "import time\n",
    "from typing import *\n",
    "from tqdm.auto import tqdm\n",
    "from datetime import datetime\n",
    "import dataloader as dl \n"
   ]
  },
  {
   "attachments": {},
   "cell_type": "markdown",
   "metadata": {},
   "source": [
    "# load dada"
   ]
  },
  {
   "cell_type": "markdown",
   "metadata": {},
   "source": [
    "# direct load"
   ]
  },
  {
   "cell_type": "code",
   "execution_count": null,
   "metadata": {},
   "outputs": [],
   "source": [
    "import h5py"
   ]
  },
  {
   "cell_type": "code",
   "execution_count": null,
   "metadata": {},
   "outputs": [
    {
     "name": "stdout",
     "output_type": "stream",
     "text": [
      "(1116, 640, 400) (1116, 2) (31, 36) 1116\n"
     ]
    }
   ],
   "source": [
    "source_file =  Path(r\"D:\\Data\\2023\\05May\\Z018\\Z018_12_1.h5\")\n",
    "with h5py.File(source_file, 'r', swmr=True) as f:\n",
    "    all_data = f['Entry/Data/TransformedData'][()]\n",
    "    measured_positions = f['Entry/Data/ScanDetails/SetPositions'][:,:2]\n",
    "    d0 = f['Entry/Data/ScanDetails/Dim1_length'][()]\n",
    "    d1 = f['Entry/Data/ScanDetails/Dim2_length'][()]\n",
    "    map_shape = d0,d1\n",
    "print(all_data.shape,all_positions.shape,map_shape,np.prod(map_shape))"
   ]
  },
  {
   "attachments": {},
   "cell_type": "markdown",
   "metadata": {},
   "source": [
    "## data as stack of spectra and point coordinates"
   ]
  },
  {
   "cell_type": "code",
   "execution_count": null,
   "metadata": {},
   "outputs": [],
   "source": [
    "from itertools import product"
   ]
  },
  {
   "cell_type": "code",
   "execution_count": null,
   "metadata": {},
   "outputs": [
    {
     "name": "stdout",
     "output_type": "stream",
     "text": [
      "(array([0, 0]), array([-1200., -5200.]))\n",
      "(array([0, 1]), array([-1.19800000e+03, -9.99999999e+08]))\n",
      "(array([0, 2]), array([-1.19600000e+03, -9.99999999e+08]))\n",
      "(array([0, 3]), array([-1.19400000e+03, -9.99999999e+08]))\n",
      "(array([0, 4]), array([-1.19200000e+03, -9.99999999e+08]))\n"
     ]
    }
   ],
   "source": [
    "all_positions = np.array(tuple(product(range(map_shape[0]),range(map_shape[1]))))\n",
    "print(*zip(all_positions,measured_positions[:5]),sep='\\n')\n",
    "# all_positions[:5], all_positions.shape"
   ]
  },
  {
   "cell_type": "code",
   "execution_count": null,
   "metadata": {},
   "outputs": [],
   "source": [
    "all_spectra = all_data.copy()"
   ]
  },
  {
   "attachments": {},
   "cell_type": "markdown",
   "metadata": {},
   "source": [
    "## get scan limits"
   ]
  },
  {
   "cell_type": "code",
   "execution_count": null,
   "metadata": {},
   "outputs": [],
   "source": [
    "scan_limits = np.array([all_positions.min(axis=0),all_positions.max(axis=0)]).T"
   ]
  },
  {
   "attachments": {},
   "cell_type": "markdown",
   "metadata": {},
   "source": [
    "# reduce data dimensionality"
   ]
  },
  {
   "cell_type": "code",
   "execution_count": null,
   "metadata": {},
   "outputs": [],
   "source": [
    "def reduce(spectrum) -> Tuple[float]:\n",
    "    \"\"\"Reduce a spectrum to its mean and std\"\"\"\n",
    "    return spectrum.mean(), spectrum.std()"
   ]
  },
  {
   "cell_type": "code",
   "execution_count": null,
   "metadata": {},
   "outputs": [
    {
     "data": {
      "application/vnd.jupyter.widget-view+json": {
       "model_id": "d5b625716b6d4d91a5a6b048eb434289",
       "version_major": 2,
       "version_minor": 0
      },
      "text/plain": [
       "Reducing spectra:   0%|          | 0/1116 [00:00<?, ?it/s]"
      ]
     },
     "metadata": {},
     "output_type": "display_data"
    }
   ],
   "source": [
    "all_reduced = []\n",
    "for s in tqdm(all_spectra, total=len(all_spectra), desc=\"Reducing spectra\"):\n",
    "    all_reduced.append(reduce(s))\n",
    "all_reduced = np.array(all_reduced)"
   ]
  },
  {
   "cell_type": "code",
   "execution_count": null,
   "metadata": {},
   "outputs": [
    {
     "data": {
      "text/plain": [
       "(1116, 2)"
      ]
     },
     "execution_count": 29,
     "metadata": {},
     "output_type": "execute_result"
    }
   ],
   "source": [
    "all_reduced.shape"
   ]
  },
  {
   "cell_type": "code",
   "execution_count": 30,
   "metadata": {},
   "outputs": [],
   "source": [
    "reduced_maps = all_reduced.reshape(*map_shape,2)"
   ]
  },
  {
   "cell_type": "code",
   "execution_count": 31,
   "metadata": {},
   "outputs": [
    {
     "data": {
      "text/plain": [
       "<matplotlib.image.AxesImage at 0x25dd4027c70>"
      ]
     },
     "execution_count": 31,
     "metadata": {},
     "output_type": "execute_result"
    },
    {
     "data": {
      "image/png": "[encoded data removed]",
      "text/plain": [
       "<Figure size 1000x500 with 2 Axes>"
      ]
     },
     "metadata": {},
     "output_type": "display_data"
    }
   ],
   "source": [
    "fig,ax = plt.subplots(1,2,figsize=(10,5))\n",
    "ax[0].imshow(reduced_maps[:,:,0])\n",
    "ax[1].imshow(reduced_maps[:,:,1])"
   ]
  },
  {
   "attachments": {},
   "cell_type": "markdown",
   "metadata": {},
   "source": [
    "# GPcam"
   ]
  },
  {
   "attachments": {},
   "cell_type": "markdown",
   "metadata": {},
   "source": [
    "## define parameters"
   ]
  },
  {
   "cell_type": "code",
   "execution_count": 32,
   "metadata": {},
   "outputs": [],
   "source": [
    "def ndim_aqfunc(x, gp):\n",
    "    \"\"\"Compute the acquisition function for a given GP and a given point\"\"\"\n",
    "    a = 1.5  #####change here, 3.0 for 95 percent confidence interval\n",
    "    norm = 1.0\n",
    "    ret = None\n",
    "    for i in range(gp.input_dim-1):\n",
    "        x_pred=np.c_[x,np.zeros(x.shape[0])+i].reshape(-1,gp.input_dim)\n",
    "        cov = gp.posterior_covariance(x_pred)[\"v(x)\"]\n",
    "        if ret is None:\n",
    "            ret = cov\n",
    "        else:\n",
    "            ret += cov\n",
    "            \n",
    "    ret=a * np.sqrt(ret)\n",
    "\n",
    "    for i in range(gp.input_dim-1):\n",
    "        x_pred=np.c_[x,np.zeros(x.shape[0])+i].reshape(-1,gp.input_dim)\n",
    "        mean = gp.posterior_mean(x_pred)[\"f(x)\"]\n",
    "        ret += norm * mean\n",
    "\n",
    "    return ret\n"
   ]
  },
  {
   "cell_type": "code",
   "execution_count": 33,
   "metadata": {},
   "outputs": [],
   "source": [
    "\n",
    "def manhattan_distance(x,y):\n",
    "    return np.abs(x[0]-y[0])+np.abs(x[1]-y[1])\n",
    "\n",
    "def closest_point_on_grid(x):\n",
    "    \"\"\"Find the closest point in a grid to a given point\"\"\"\n",
    "    grid = np.array(tuple(product(range(xdata.shape[0]),range(xdata.shape[1]))))\n",
    "    return grid[np.linalg.norm(grid-x,axis=1).argmin()]\n",
    "\n",
    "\n",
    "def scan_time(positions, cost_func_params):\n",
    "    return np.sum([movement_cost(positions[i-1],positions[i],cost_func_params) for i in range(1,len(positions))])\n"
   ]
  },
  {
   "cell_type": "code",
   "execution_count": 34,
   "metadata": {},
   "outputs": [],
   "source": [
    "\n",
    "def movement_cost(\n",
    "        origin: tuple, \n",
    "        x: tuple, \n",
    "        cost_func_params: dict = None, \n",
    "        verbose: bool = False\n",
    "    ) -> float:\n",
    "    \"\"\"Compute the cost of moving from x to y\n",
    "    \n",
    "    Args:\n",
    "        x (tuple): starting position\n",
    "        y (tuple): ending position\n",
    "        cost_func_params (dict): dictionary of parameters for the cost function\n",
    "            - speed (float): speed of the scanner, expressed in mm/s\n",
    "            - dwell_time (float): dwell time, expressed in s\n",
    "            - dead_time (float): dead time, expressed in s\n",
    "            - point_to_um (float): conversion factor from mm to seconds\n",
    "    \n",
    "    Returns:\n",
    "        float: cost of moving from x to y, expressed in seconds\n",
    "\n",
    "    \"\"\"\n",
    "    x = np.array(x)\n",
    "    if len(x.shape) == 1:\n",
    "        x = x.reshape(-1,1)\n",
    "    if cost_func_params is None:\n",
    "        cost_func_params = {}\n",
    "    else:\n",
    "        cost_func_params = cost_func_params.copy()\n",
    "    speed = cost_func_params.pop('speed',250)\n",
    "    dwell_time = cost_func_params.pop('dwell_time',0.5)\n",
    "    dead_time = cost_func_params.pop('dead_time',0.6)\n",
    "    point_to_um = cost_func_params.pop('point_to_um',1.0)\n",
    "    weight = cost_func_params.pop('weight',1.0)\n",
    "    if len(cost_func_params) > 0:\n",
    "        raise ValueError(f\"Unrecognized parameters: {cost_func_params.keys()}\")\n",
    "    distance = manhattan_distance(origin,x) * point_to_um\n",
    "    time = weight * distance / speed  + dwell_time + dead_time\n",
    "    if verbose:\n",
    "        print(f\"Distance: {distance:.2f} um, Time: {time:.2f} s\"\n",
    "            f\" (dwell: {dwell_time:.2f} s, dead: {dead_time:.2f} s)\" \n",
    "        )\n",
    "    return time\n",
    "\n",
    "def cost_function(origin, x:Sequence[tuple], cost_func_params: dict = None) -> float:\n",
    "    cost = []\n",
    "    for xx in x:\n",
    "        cost.append(movement_cost(origin,xx,cost_func_params))\n",
    "    return np.array(cost).T\n"
   ]
  },
  {
   "cell_type": "code",
   "execution_count": 35,
   "metadata": {},
   "outputs": [],
   "source": [
    "\n",
    "def measurement_loop(\n",
    "    init_positions, \n",
    "    init_values,\n",
    "    gp,\n",
    "    n_points=200,\n",
    "    train_every=20,\n",
    "    train_at = None,\n",
    "    verbose=False,\n",
    ") -> None:\n",
    "        \n",
    "    values = init_values.copy()\n",
    "    positions = init_positions.copy()\n",
    "    for i in tqdm(range(n_points), desc=\"Acquisition loop\"):\n",
    "        gp.tell(positions, values)\n",
    "        next_pt = gp.ask(position=positions[-1],**ask_pars)\n",
    "        next_on_grid = closest_point_on_grid(next_pt['x'])\n",
    "        next_pt.update({'pos':next_on_grid})\n",
    "        next_val = np.array(\n",
    "            reduce(xdata[next_pt['pos'][0],next_pt['pos'][1]].values)\n",
    "        )[None,:]\n",
    "        next_pos = np.array(next_pt['pos'])[None,:]\n",
    "        # print(next_val,next_pos, sep='\\n')\n",
    "        positions = np.append(positions, next_pos, axis=0)\n",
    "        values = np.append(values, next_val, axis=0)\n",
    "        if train_at is None:\n",
    "            train_at = []\n",
    "        if i % train_every == 0 or i in train_at:\n",
    "            t0 = time.time()\n",
    "            gp.train_gp(**train_pars)\n",
    "            print(f\"Training at i={i} took {time.time()-t0:.2f} s\")\n",
    "    return positions, values\n",
    "            \n",
    "\n"
   ]
  },
  {
   "cell_type": "code",
   "execution_count": 36,
   "metadata": {},
   "outputs": [],
   "source": [
    "\n",
    "def vis_map_with_path(positions,values,reduced_maps=reduced_maps,ax=None):\n",
    "    if ax is None:\n",
    "        fig,ax = plt.subplots(1,1,figsize=(6,5))\n",
    "    ax.imshow(reduced_maps[...,0],alpha=0.5)\n",
    "    # ax[1].imshow(reduced_maps[...,0],alpha=0.5)\n",
    "    ax.plot(positions[:,1],positions[:,0],'r-',alpha=0.5,linewidth=.5)\n",
    "    ax.scatter(positions[:,1],positions[:,0],s=10)#,c=values[:,0],cmap='viridis')\n",
    "    # ax[1].scatter(positions[:,1],positions[:,0],s=10)#c=values[:,0],cmap='viridis')\n"
   ]
  },
  {
   "cell_type": "code",
   "execution_count": 37,
   "metadata": {},
   "outputs": [],
   "source": [
    "optimizer_pars = {\n",
    "    'input_space_dimension': 2,\n",
    "    'output_space_dimension': 1,\n",
    "    'output_number': 2,\n",
    "    'input_space_bounds': scan_limits,\n",
    "}\n",
    "hyperparameter_bounds = np.array(\n",
    "    [[0.001,1e9],[1,1000],[1,1000],[1,1000],[1,1000]]\n",
    ")\n",
    "init_hyperparameters = np.array(\n",
    "        [4.71907062e+06, 4.07439017e+02, 3.59068120e+02,4e2,4e2]\n",
    ")\n",
    "train_pars = {\n",
    "    'hyperparameter_bounds': hyperparameter_bounds,\n",
    "    'pop_size': 20,\n",
    "    'tolerance': 1e-6,\n",
    "    'max_iter': 2,\n",
    "}\n",
    "train_async_pars = {\n",
    "    'hyperparameter_bounds':hyperparameter_bounds,\n",
    "    'init_hyperparameters': init_hyperparameters,\n",
    "    'max_iter': 10000,\n",
    "    'local_optimizer': \"L-BFGS-B\",\n",
    "    'global_optimizer': \"genetic\",\n",
    "    'constraints': (),\n",
    "    'deflation_radius': None,\n",
    "    'dask_client': None,\n",
    "}\n",
    "train_gp_async_pars = {\n",
    "    'hyperparameter_bounds':hyperparameter_bounds,\n",
    "    'max_iter': 10000,\n",
    "    'dask_client': None,\n",
    "    'deflation_radius': None,\n",
    "    'constraints': (),\n",
    "    'local_method': \"L-BFGS-B\",\n",
    "    'global_method': \"genetic\",\n",
    "}\n",
    "fvgp_pars = {\n",
    "    'init_hyperparameters' : init_hyperparameters,\n",
    "    'compute_device': 'cpu',\n",
    "    'gp_kernel_function': None,\n",
    "    'gp_mean_function': None,\n",
    "    'use_inv':False,\n",
    "    'ram_economy': True,\n",
    "}\n",
    "ask_pars = {\n",
    "    'n': 1, \n",
    "    'acquisition_function': ndim_aqfunc, \n",
    "    'bounds': None,\n",
    "    'method': 'global', \n",
    "    'pop_size': 20, \n",
    "    'max_iter': 10, \n",
    "    'tol': 10e-6, \n",
    "    'x0': None, \n",
    "    'dask_client': None,\n",
    "}\n",
    "cost_func_params = {\n",
    "    'speed':300,\n",
    "    'dwell_time':1.0,\n",
    "    'dead_time':0.6,\n",
    "    'point_to_um':15,\n",
    "    'weight':1.0,\n",
    "}"
   ]
  },
  {
   "attachments": {},
   "cell_type": "markdown",
   "metadata": {},
   "source": [
    "## Explicit run"
   ]
  },
  {
   "attachments": {},
   "cell_type": "markdown",
   "metadata": {},
   "source": [
    "### initialize the map with random points"
   ]
  },
  {
   "cell_type": "code",
   "execution_count": null,
   "metadata": {},
   "outputs": [],
   "source": [
    "rng = np.random.default_rng()\n",
    "ind = rng.choice(len(all_positions)-1, size=5, replace=False)\n",
    "init_positions = all_positions[ind]\n",
    "init_values = all_reduced[ind]\n",
    "print(*tuple(zip(init_positions, init_values)),sep='\\n')\n"
   ]
  },
  {
   "attachments": {},
   "cell_type": "markdown",
   "metadata": {},
   "source": [
    "### initialize the gaussian process object"
   ]
  },
  {
   "cell_type": "code",
   "execution_count": null,
   "metadata": {},
   "outputs": [],
   "source": [
    "gp = fvGPOptimizer(**optimizer_pars)\n",
    "gp.tell(init_positions,init_values)\n",
    "gp.init_fvgp(**fvgp_pars)"
   ]
  },
  {
   "attachments": {},
   "cell_type": "markdown",
   "metadata": {},
   "source": [
    "### initial training of gp"
   ]
  },
  {
   "cell_type": "code",
   "execution_count": null,
   "metadata": {},
   "outputs": [],
   "source": [
    "%%time\n",
    "gp.train_gp(**train_pars)"
   ]
  },
  {
   "cell_type": "code",
   "execution_count": null,
   "metadata": {},
   "outputs": [],
   "source": [
    "positions = init_positions.copy()\n",
    "values = init_values.copy()\n",
    "positions.shape, values.shape"
   ]
  },
  {
   "cell_type": "code",
   "execution_count": null,
   "metadata": {},
   "outputs": [],
   "source": [
    "gp.init_cost(cost_function,cost_func_params)"
   ]
  },
  {
   "attachments": {},
   "cell_type": "markdown",
   "metadata": {},
   "source": [
    "### loop it!"
   ]
  },
  {
   "cell_type": "code",
   "execution_count": null,
   "metadata": {},
   "outputs": [],
   "source": [
    "measurement_loop(init_positions, init_values, n_points, train_every)"
   ]
  },
  {
   "cell_type": "code",
   "execution_count": null,
   "metadata": {},
   "outputs": [],
   "source": [
    "positions.shape, values.shape"
   ]
  },
  {
   "cell_type": "code",
   "execution_count": null,
   "metadata": {},
   "outputs": [],
   "source": [
    "fig,axes = plt.subplots(1,2,figsize=(10,5))\n",
    "ax = axes.ravel()\n",
    "ax[0].imshow(reduced_maps[...,0],alpha=0.5)\n",
    "ax[1].imshow(reduced_maps[...,0],alpha=0.5)\n",
    "ax[0].plot(positions[:,1],positions[:,0],'r-',alpha=0.5,linewidth=.5)\n",
    "\n",
    "ax[0].scatter(positions[:,1],positions[:,0],s=10)#,c=values[:,0],cmap='viridis')\n",
    "ax[1].scatter(positions[:,1],positions[:,0],s=10)#c=values[:,0],cmap='viridis')\n"
   ]
  },
  {
   "cell_type": "code",
   "execution_count": null,
   "metadata": {},
   "outputs": [],
   "source": [
    "fig,axes = plt.subplots(1,2,figsize=(10,5))\n",
    "ax = axes.ravel()\n",
    "ax[0].imshow(reduced_maps[...,0],alpha=0.5)\n",
    "ax[1].imshow(reduced_maps[...,0],alpha=0.5)\n",
    "ax[0].plot(positions[:,1],positions[:,0],'r-',alpha=0.5,linewidth=.5)\n",
    "\n",
    "ax[0].scatter(positions[:,1],positions[:,0],s=10)#,c=values[:,0],cmap='viridis')\n",
    "ax[1].scatter(positions[:,1],positions[:,0],s=10)#c=values[:,0],cmap='viridis')\n"
   ]
  },
  {
   "cell_type": "code",
   "execution_count": null,
   "metadata": {},
   "outputs": [],
   "source": []
  },
  {
   "attachments": {},
   "cell_type": "markdown",
   "metadata": {},
   "source": [
    "# Single point initializationm"
   ]
  },
  {
   "cell_type": "code",
   "execution_count": 42,
   "metadata": {},
   "outputs": [
    {
     "data": {
      "text/plain": [
       "(array([[15, 18],\n",
       "        [15, 18]]),\n",
       " array([[0.04084378, 0.16344479],\n",
       "        [0.04084378, 0.16344479]]))"
      ]
     },
     "execution_count": 42,
     "metadata": {},
     "output_type": "execute_result"
    }
   ],
   "source": [
    "center_idx = len(all_positions)//2\n",
    "init_positions = np.array([\n",
    "    all_positions[center_idx],\n",
    "    all_positions[center_idx],\n",
    "])\n",
    "init_values = np.array([\n",
    "    np.array(reduce(all_spectra[center_idx])),\n",
    "    np.array(reduce(all_spectra[center_idx])),\n",
    "])\n",
    "init_positions, init_values\n"
   ]
  },
  {
   "cell_type": "code",
   "execution_count": 43,
   "metadata": {},
   "outputs": [
    {
     "ename": "RuntimeError",
     "evalue": "Calling torch.linalg.lu_factor on a CPU tensor requires compiling PyTorch with LAPACK. Please use PyTorch built with LAPACK support.",
     "output_type": "error",
     "traceback": [
      "\u001b[1;31m---------------------------------------------------------------------------\u001b[0m",
      "\u001b[1;31mRuntimeError\u001b[0m                              Traceback (most recent call last)",
      "Cell \u001b[1;32mIn[43], line 4\u001b[0m\n\u001b[0;32m      2\u001b[0m gp\u001b[39m.\u001b[39mtell(init_positions,init_values)\n\u001b[0;32m      3\u001b[0m gp\u001b[39m.\u001b[39minit_fvgp(\u001b[39m*\u001b[39m\u001b[39m*\u001b[39mfvgp_pars)\n\u001b[1;32m----> 4\u001b[0m gp\u001b[39m.\u001b[39mtrain_gp(\u001b[39m*\u001b[39m\u001b[39m*\u001b[39mtrain_pars)\n\u001b[0;32m      5\u001b[0m positions \u001b[39m=\u001b[39m init_positions\u001b[39m.\u001b[39mcopy()\n\u001b[0;32m      6\u001b[0m values \u001b[39m=\u001b[39m init_values\u001b[39m.\u001b[39mcopy()\n",
      "File \u001b[1;32mc:\\Users\\shd-nanoarpes-u1\\AppData\\Local\\miniconda3\\envs\\smartscan\\lib\\site-packages\\gpcam\\gp_optimizer.py:314\u001b[0m, in \u001b[0;36mGPOptimizer.train_gp\u001b[1;34m(self, hyperparameter_bounds, method, pop_size, tolerance, max_iter, constraints, deflation_radius, dask_client)\u001b[0m\n\u001b[0;32m    312\u001b[0m \u001b[39mif\u001b[39;00m \u001b[39mself\u001b[39m\u001b[39m.\u001b[39mgp_initialized \u001b[39mis\u001b[39;00m \u001b[39mFalse\u001b[39;00m:\n\u001b[0;32m    313\u001b[0m     \u001b[39mraise\u001b[39;00m \u001b[39mException\u001b[39;00m(\u001b[39m\"\u001b[39m\u001b[39mNo GP to be trained. Please call init_gp(...) before training.\u001b[39m\u001b[39m\"\u001b[39m)\n\u001b[1;32m--> 314\u001b[0m \u001b[39mself\u001b[39;49m\u001b[39m.\u001b[39;49mtrain(\n\u001b[0;32m    315\u001b[0m     hyperparameter_bounds,\n\u001b[0;32m    316\u001b[0m     init_hyperparameters\u001b[39m=\u001b[39;49m\u001b[39mself\u001b[39;49m\u001b[39m.\u001b[39;49mhyperparameters,\n\u001b[0;32m    317\u001b[0m     method\u001b[39m=\u001b[39;49mmethod,\n\u001b[0;32m    318\u001b[0m     pop_size\u001b[39m=\u001b[39;49mpop_size,\n\u001b[0;32m    319\u001b[0m     tolerance\u001b[39m=\u001b[39;49mtolerance,\n\u001b[0;32m    320\u001b[0m     max_iter\u001b[39m=\u001b[39;49mmax_iter,\n\u001b[0;32m    321\u001b[0m     constraints \u001b[39m=\u001b[39;49m constraints,\n\u001b[0;32m    322\u001b[0m     deflation_radius \u001b[39m=\u001b[39;49m deflation_radius,\n\u001b[0;32m    323\u001b[0m     dask_client \u001b[39m=\u001b[39;49m dask_client,\n\u001b[0;32m    324\u001b[0m )\n\u001b[0;32m    325\u001b[0m \u001b[39mreturn\u001b[39;00m \u001b[39mself\u001b[39m\u001b[39m.\u001b[39mhyperparameters\n",
      "File \u001b[1;32mc:\\Users\\shd-nanoarpes-u1\\AppData\\Local\\miniconda3\\envs\\smartscan\\lib\\site-packages\\fvgp\\gp.py:279\u001b[0m, in \u001b[0;36mGP.train\u001b[1;34m(self, hyperparameter_bounds, init_hyperparameters, method, pop_size, tolerance, max_iter, local_optimizer, global_optimizer, constraints, deflation_radius, dask_client)\u001b[0m\n\u001b[0;32m    276\u001b[0m \u001b[39mif\u001b[39;00m init_hyperparameters \u001b[39mis\u001b[39;00m \u001b[39mNone\u001b[39;00m:\n\u001b[0;32m    277\u001b[0m     init_hyperparameters \u001b[39m=\u001b[39m np\u001b[39m.\u001b[39marray(\u001b[39mself\u001b[39m\u001b[39m.\u001b[39mhyperparameters)\n\u001b[1;32m--> 279\u001b[0m \u001b[39mself\u001b[39m\u001b[39m.\u001b[39mhyperparameters \u001b[39m=\u001b[39m \u001b[39mself\u001b[39;49m\u001b[39m.\u001b[39;49m_optimize_log_likelihood(\n\u001b[0;32m    280\u001b[0m     init_hyperparameters,\n\u001b[0;32m    281\u001b[0m     np\u001b[39m.\u001b[39;49marray(hyperparameter_bounds),\n\u001b[0;32m    282\u001b[0m     method,\n\u001b[0;32m    283\u001b[0m     max_iter,\n\u001b[0;32m    284\u001b[0m     pop_size,\n\u001b[0;32m    285\u001b[0m     tolerance,\n\u001b[0;32m    286\u001b[0m     constraints,\n\u001b[0;32m    287\u001b[0m     local_optimizer,\n\u001b[0;32m    288\u001b[0m     global_optimizer,\n\u001b[0;32m    289\u001b[0m     deflation_radius,\n\u001b[0;32m    290\u001b[0m     dask_client\n\u001b[0;32m    291\u001b[0m     )\n\u001b[0;32m    292\u001b[0m \u001b[39mself\u001b[39m\u001b[39m.\u001b[39m_compute_prior_fvGP_pdf()\n",
      "File \u001b[1;32mc:\\Users\\shd-nanoarpes-u1\\AppData\\Local\\miniconda3\\envs\\smartscan\\lib\\site-packages\\fvgp\\gp.py:461\u001b[0m, in \u001b[0;36mGP._optimize_log_likelihood\u001b[1;34m(self, starting_hps, hp_bounds, method, max_iter, pop_size, tolerance, constraints, local_optimizer, global_optimizer, deflation_radius, dask_client)\u001b[0m\n\u001b[0;32m    453\u001b[0m \u001b[39mdef\u001b[39;00m \u001b[39m_optimize_log_likelihood\u001b[39m(\u001b[39mself\u001b[39m,starting_hps,\n\u001b[0;32m    454\u001b[0m     hp_bounds,method,max_iter,\n\u001b[0;32m    455\u001b[0m     pop_size,tolerance,constraints,\n\u001b[1;32m   (...)\u001b[0m\n\u001b[0;32m    458\u001b[0m     deflation_radius,\n\u001b[0;32m    459\u001b[0m     dask_client \u001b[39m=\u001b[39m \u001b[39mNone\u001b[39;00m):\n\u001b[1;32m--> 461\u001b[0m     start_log_likelihood \u001b[39m=\u001b[39m \u001b[39mself\u001b[39;49m\u001b[39m.\u001b[39;49mneg_log_likelihood(starting_hps)\n\u001b[0;32m    463\u001b[0m     logger\u001b[39m.\u001b[39mdebug(\n\u001b[0;32m    464\u001b[0m         \u001b[39m\"\u001b[39m\u001b[39mfvGP hyperparameter tuning in progress. Old hyperparameters: \u001b[39m\u001b[39m\"\u001b[39m,\n\u001b[0;32m    465\u001b[0m         starting_hps, \u001b[39m\"\u001b[39m\u001b[39m with old log likelihood: \u001b[39m\u001b[39m\"\u001b[39m, start_log_likelihood)\n\u001b[0;32m    466\u001b[0m     logger\u001b[39m.\u001b[39mdebug(\u001b[39m\"\u001b[39m\u001b[39mmethod: \u001b[39m\u001b[39m\"\u001b[39m, method)\n",
      "File \u001b[1;32mc:\\Users\\shd-nanoarpes-u1\\AppData\\Local\\miniconda3\\envs\\smartscan\\lib\\site-packages\\fvgp\\gp.py:589\u001b[0m, in \u001b[0;36mGP.neg_log_likelihood\u001b[1;34m(self, hyperparameters)\u001b[0m\n\u001b[0;32m    587\u001b[0m x,K \u001b[39m=\u001b[39m \u001b[39mself\u001b[39m\u001b[39m.\u001b[39m_compute_covariance_value_product(hyperparameters,\u001b[39mself\u001b[39m\u001b[39m.\u001b[39my_data, \u001b[39mself\u001b[39m\u001b[39m.\u001b[39mvariances, mean)\n\u001b[0;32m    588\u001b[0m y \u001b[39m=\u001b[39m \u001b[39mself\u001b[39m\u001b[39m.\u001b[39my_data \u001b[39m-\u001b[39m mean\n\u001b[1;32m--> 589\u001b[0m sign, logdet \u001b[39m=\u001b[39m \u001b[39mself\u001b[39;49m\u001b[39m.\u001b[39;49mslogdet(K)\n\u001b[0;32m    590\u001b[0m n \u001b[39m=\u001b[39m \u001b[39mlen\u001b[39m(y)\n\u001b[0;32m    591\u001b[0m \u001b[39mreturn\u001b[39;00m (\u001b[39m0.5\u001b[39m \u001b[39m*\u001b[39m (y\u001b[39m.\u001b[39mT \u001b[39m@\u001b[39m x)) \u001b[39m+\u001b[39m (\u001b[39m0.5\u001b[39m \u001b[39m*\u001b[39m logdet) \u001b[39m+\u001b[39m (\u001b[39m0.5\u001b[39m \u001b[39m*\u001b[39m n \u001b[39m*\u001b[39m np\u001b[39m.\u001b[39mlog(\u001b[39m2.0\u001b[39m\u001b[39m*\u001b[39mnp\u001b[39m.\u001b[39mpi))\n",
      "File \u001b[1;32mc:\\Users\\shd-nanoarpes-u1\\AppData\\Local\\miniconda3\\envs\\smartscan\\lib\\site-packages\\fvgp\\gp.py:730\u001b[0m, in \u001b[0;36mGP.slogdet\u001b[1;34m(self, A)\u001b[0m\n\u001b[0;32m    728\u001b[0m \u001b[39mif\u001b[39;00m \u001b[39mself\u001b[39m\u001b[39m.\u001b[39mcompute_device \u001b[39m==\u001b[39m \u001b[39m\"\u001b[39m\u001b[39mcpu\u001b[39m\u001b[39m\"\u001b[39m:\n\u001b[0;32m    729\u001b[0m     A \u001b[39m=\u001b[39m torch\u001b[39m.\u001b[39mfrom_numpy(A)\n\u001b[1;32m--> 730\u001b[0m     sign, logdet \u001b[39m=\u001b[39m torch\u001b[39m.\u001b[39;49mslogdet(A)\n\u001b[0;32m    731\u001b[0m     sign \u001b[39m=\u001b[39m sign\u001b[39m.\u001b[39mnumpy()\n\u001b[0;32m    732\u001b[0m     logdet \u001b[39m=\u001b[39m logdet\u001b[39m.\u001b[39mnumpy()\n",
      "\u001b[1;31mRuntimeError\u001b[0m: Calling torch.linalg.lu_factor on a CPU tensor requires compiling PyTorch with LAPACK. Please use PyTorch built with LAPACK support."
     ]
    }
   ],
   "source": [
    "gp = fvGPOptimizer(**optimizer_pars)\n",
    "gp.tell(init_positions,init_values)\n",
    "gp.init_fvgp(**fvgp_pars)\n",
    "gp.train_gp(**train_pars)\n",
    "positions = init_positions.copy()\n",
    "values = init_values.copy()\n",
    "positions.shape, values.shape\n",
    "# gp.init_cost(cost_function,cost_func_params)"
   ]
  },
  {
   "cell_type": "code",
   "execution_count": null,
   "metadata": {},
   "outputs": [],
   "source": [
    "pos_nocost, values_nocost = measurement_loop(\n",
    "    init_positions, \n",
    "    init_values, \n",
    "    gp=gp,\n",
    "    n_points=500, \n",
    "    train_every=50,\n",
    "    train_at = [10, 20],\n",
    "    verbose=True,\n",
    ")\n",
    "counts = list(dict(Counter(tuple(map(tuple,pos_nocost)))).values())\n",
    "print(f'Number of repeated points: {sum(counts)-len(counts)}')"
   ]
  },
  {
   "cell_type": "code",
   "execution_count": null,
   "metadata": {},
   "outputs": [],
   "source": [
    "vis_map_with_path(pos_nocost, values_nocost,reduced_maps=reduced_maps)"
   ]
  },
  {
   "cell_type": "code",
   "execution_count": null,
   "metadata": {},
   "outputs": [],
   "source": [
    "print(f'scan time: {scan_time(pos_nocost,cost_func_params):.2f} s')"
   ]
  },
  {
   "cell_type": "code",
   "execution_count": null,
   "metadata": {},
   "outputs": [],
   "source": []
  },
  {
   "attachments": {},
   "cell_type": "markdown",
   "metadata": {},
   "source": [
    "## with cost function"
   ]
  },
  {
   "cell_type": "code",
   "execution_count": null,
   "metadata": {},
   "outputs": [],
   "source": [
    "gp = fvGPOptimizer(**optimizer_pars)\n",
    "gp.tell(init_positions,init_values)\n",
    "gp.init_fvgp(**fvgp_pars)\n",
    "gp.train_gp(**train_pars)\n",
    "positions = init_positions.copy()\n",
    "values = init_values.copy()\n",
    "positions.shape, values.shape\n",
    "cfp = cost_func_params.copy()\n",
    "cfp['weight'] = 0.0001\n",
    "gp.init_cost(cost_function,cost_func_params)"
   ]
  },
  {
   "cell_type": "code",
   "execution_count": null,
   "metadata": {},
   "outputs": [],
   "source": [
    "pos_wcost, values_wcost = measurement_loop(\n",
    "    init_positions, \n",
    "    init_values, \n",
    "    gp,\n",
    "    n_points=500, \n",
    "    train_every=50,\n",
    "    train_at = [10, 20],\n",
    "    verbose=True,\n",
    ")\n",
    "counts = list(dict(Counter(tuple(map(tuple,pos_wcost)))).values())\n",
    "print(f'Number of repeated points: {sum(counts)-len(counts)}')"
   ]
  },
  {
   "cell_type": "code",
   "execution_count": null,
   "metadata": {},
   "outputs": [],
   "source": [
    "def how_many_repetitions(positions):\n",
    "    counts = list(dict(Counter(tuple(map(tuple,positions)))).values())\n",
    "    print(f'Number of repeated points: {sum(counts)-len(counts)}')\n",
    "    return counts"
   ]
  },
  {
   "cell_type": "code",
   "execution_count": null,
   "metadata": {},
   "outputs": [],
   "source": [
    "n = 500\n",
    "p,v = pos_wcost[:n], values_wcost[:n]\n",
    "how_many_repetitions(p)\n",
    "vis_map_with_path(p,v,reduced_maps=reduced_maps)"
   ]
  },
  {
   "cell_type": "code",
   "execution_count": null,
   "metadata": {},
   "outputs": [],
   "source": [
    "print(f'scan time: {scan_time(pos_wcost,cost_func_params):.2f} s')"
   ]
  },
  {
   "cell_type": "code",
   "execution_count": null,
   "metadata": {},
   "outputs": [],
   "source": [
    "# count repeated points\n",
    "from collections import Counter\n",
    "counts = list(dict(Counter(tuple(map(tuple,pos_wcost)))).values())\n",
    "\n",
    "print(f'Number of repeated points: {sum(counts)-len(counts)}')\n"
   ]
  },
  {
   "cell_type": "code",
   "execution_count": null,
   "metadata": {},
   "outputs": [],
   "source": [
    "fig,axes = plt.subplots(1,2,figsize=(10,5))\n",
    "\n",
    "vis_map_with_path(pos_wcost, values_wcost,reduced_maps=reduced_maps,ax=axes[0])\n",
    "vis_map_with_path(pos_nocost, values_nocost,reduced_maps=reduced_maps,ax=axes[1])"
   ]
  },
  {
   "attachments": {},
   "cell_type": "markdown",
   "metadata": {},
   "source": [
    "# now for something silly!"
   ]
  },
  {
   "cell_type": "code",
   "execution_count": null,
   "metadata": {},
   "outputs": [],
   "source": [
    "gp = fvGPOptimizer(**optimizer_pars)\n",
    "gp.tell(init_positions,init_values)\n",
    "gp.init_fvgp(**fvgp_pars)\n",
    "gp.train_gp(**train_pars)\n",
    "positions = init_positions.copy()\n",
    "values = init_values.copy()\n",
    "positions.shape, values.shape\n",
    "cfp = cost_func_params.copy()\n",
    "cfp['weight'] = 0.1\n",
    "gp.init_cost(cost_function,cost_func_params)"
   ]
  },
  {
   "cell_type": "code",
   "execution_count": null,
   "metadata": {},
   "outputs": [],
   "source": [
    "\n",
    "pos_highcost, values_highcost = measurement_loop(\n",
    "    init_positions, \n",
    "    init_values, \n",
    "    n_points=500, \n",
    "    train_every=50,\n",
    "    train_at = [10, 20],\n",
    "    verbose=True,\n",
    ")\n",
    "counts = list(dict(Counter(tuple(map(tuple,pos_highcost)))).values())\n",
    "print(f'Number of repeated points: {sum(counts)-len(counts)}')"
   ]
  },
  {
   "cell_type": "code",
   "execution_count": null,
   "metadata": {},
   "outputs": [],
   "source": [
    "vis_map_with_path(pos_highcost, values_highcost,reduced_maps=reduced_maps)"
   ]
  },
  {
   "cell_type": "code",
   "execution_count": null,
   "metadata": {},
   "outputs": [],
   "source": [
    "plt.figure()\n",
    "n = 500\n",
    "plt.scatter(pos_highcost[:n,1],pos_highcost[:n,0],c=values_highcost[:n,0],cmap='viridis')"
   ]
  },
  {
   "cell_type": "code",
   "execution_count": null,
   "metadata": {},
   "outputs": [],
   "source": []
  },
  {
   "cell_type": "code",
   "execution_count": null,
   "metadata": {},
   "outputs": [],
   "source": [
    "print(f'scan time: {scan_time(pos_highcost,cost_func_params):.2f} s')"
   ]
  },
  {
   "cell_type": "code",
   "execution_count": null,
   "metadata": {},
   "outputs": [],
   "source": [
    "print(f'no cost scan time:   ' +pretty_print_time(scan_time(pos_nocost,cost_func_params)))\n",
    "print(f'low cost scan time:  ' +pretty_print_time(scan_time(pos_wcost,cost_func_params)))\n",
    "print(f'high cost scan time: ' +pretty_print_time(scan_time(pos_highcost,cost_func_params)))\n",
    "print(f'raster scan time:    ' +pretty_print_time(scan_time(all_positions,cost_func_params)))\n"
   ]
  },
  {
   "cell_type": "code",
   "execution_count": null,
   "metadata": {},
   "outputs": [],
   "source": [
    "def pretty_print_time(t):\n",
    "    \"\"\"Print time as hh:mm:ss\"\"\"\n",
    "    h = int(t//3600)\n",
    "    m = int((t%3600)//60)\n",
    "    s = int(t%60)\n",
    "    return f'{h:02d}:{m:02d}:{s:02d}'"
   ]
  },
  {
   "cell_type": "code",
   "execution_count": null,
   "metadata": {},
   "outputs": [],
   "source": [
    "all_positions"
   ]
  },
  {
   "cell_type": "code",
   "execution_count": null,
   "metadata": {},
   "outputs": [],
   "source": [
    "def get_raw_data(positions,all_positions,xdata):\n",
    "    raw = []\n",
    "    for n in range(len(all_positions)):\n",
    "        if all_positions[n] in positions:\n",
    "            i,j = all_positions[n]\n",
    "            raw.append(xdata[i,j,...].values)\n",
    "    return raw\n",
    "\n",
    "    "
   ]
  },
  {
   "cell_type": "code",
   "execution_count": null,
   "metadata": {},
   "outputs": [],
   "source": [
    "raw_nocost = get_raw_data(pos_nocost,all_positions,xdata)"
   ]
  },
  {
   "cell_type": "code",
   "execution_count": null,
   "metadata": {},
   "outputs": [],
   "source": [
    "raw_nocost[0].shape"
   ]
  },
  {
   "attachments": {},
   "cell_type": "markdown",
   "metadata": {},
   "source": [
    "\n",
    "# kmeans on this thing"
   ]
  },
  {
   "cell_type": "code",
   "execution_count": null,
   "metadata": {},
   "outputs": [],
   "source": [
    "import sklearn.cluster as cluster  \n"
   ]
  },
  {
   "cell_type": "code",
   "execution_count": null,
   "metadata": {},
   "outputs": [],
   "source": [
    "res = cluster.kmeans(raw_nocost,n_clusters=3)"
   ]
  }
 ],
 "metadata": {
  "kernelspec": {
   "display_name": "gpcam",
   "language": "python",
   "name": "python3"
  },
  "language_info": {
   "codemirror_mode": {
    "name": "ipython",
    "version": 3
   },
   "file_extension": ".py",
   "mimetype": "text/x-python",
   "name": "python",
   "nbconvert_exporter": "python",
   "pygments_lexer": "ipython3",
   "version": "3.10.11"
  },
  "orig_nbformat": 4,
  "vscode": {
   "interpreter": {
    "hash": "1b103d9a4a0a9779608a01a7f8f762634b880851de7fc86f07d58debf004e234"
   }
  }
 },
 "nbformat": 4,
 "nbformat_minor": 2
}
