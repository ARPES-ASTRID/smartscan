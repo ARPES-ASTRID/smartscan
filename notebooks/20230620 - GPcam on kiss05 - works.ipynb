{
 "cells": [
  {
   "attachments": {},
   "cell_type": "markdown",
   "metadata": {},
   "source": [
    "# Simulate a scan with GPcam on pre-measured data\n"
   ]
  },
  {
   "cell_type": "code",
   "execution_count": null,
   "metadata": {},
   "outputs": [],
   "source": [
    "from pathlib import Path\n",
    "import numpy as np\n",
    "import copy as cp\n",
    "from gpcam.gp_optimizer import fvGPOptimizer\n",
    "import matplotlib.pyplot as plt\n",
    "from numpy.random import default_rng\n",
    "import time\n",
    "from typing import *\n",
    "from tqdm.auto import tqdm\n",
    "from datetime import datetime\n",
    "import dataloader as dl \n"
   ]
  },
  {
   "attachments": {},
   "cell_type": "markdown",
   "metadata": {},
   "source": [
    "# load dada"
   ]
  },
  {
   "cell_type": "code",
   "execution_count": null,
   "metadata": {},
   "outputs": [],
   "source": [
    "source_file =  Path(r\"D:\\data\\SGM4 - 2022 - CrSBr\\data\\Kiss05_5.h5\")\n",
    "ldr = dl.load(source_file)\n",
    "xdata = ldr.to_xarray()\n",
    "xdata\n",
    "del ldr"
   ]
  },
  {
   "cell_type": "code",
   "execution_count": null,
   "metadata": {},
   "outputs": [],
   "source": [
    "xdata"
   ]
  },
  {
   "cell_type": "code",
   "execution_count": null,
   "metadata": {},
   "outputs": [],
   "source": [
    "xdata.sum(['Kinetic Energy','OrdinateRange']).plot()"
   ]
  },
  {
   "cell_type": "code",
   "execution_count": null,
   "metadata": {},
   "outputs": [],
   "source": [
    "xdata.isel(FSamX=15,FSamY=15).plot()"
   ]
  },
  {
   "cell_type": "code",
   "execution_count": null,
   "metadata": {},
   "outputs": [],
   "source": [
    "xdata.isel(FSamX=slice(15,20),FSamY=slice(15,20)).sum(['FSamX','FSamY']).plot()"
   ]
  },
  {
   "attachments": {},
   "cell_type": "markdown",
   "metadata": {},
   "source": [
    "## data as stack of spectra and point coordinates"
   ]
  },
  {
   "cell_type": "code",
   "execution_count": null,
   "metadata": {},
   "outputs": [],
   "source": [
    "from itertools import product"
   ]
  },
  {
   "cell_type": "code",
   "execution_count": null,
   "metadata": {},
   "outputs": [],
   "source": [
    "map_shape = xdata.shape[:2]\n",
    "map_shape"
   ]
  },
  {
   "cell_type": "code",
   "execution_count": null,
   "metadata": {},
   "outputs": [],
   "source": [
    "all_positions = np.array(tuple(product(range(xdata.shape[0]),range(xdata.shape[1]))))\n",
    "all_positions[:5], all_positions.shape"
   ]
  },
  {
   "cell_type": "code",
   "execution_count": null,
   "metadata": {},
   "outputs": [],
   "source": [
    "all_spectra = xdata.values.reshape(-1, *xdata.shape[-2:])"
   ]
  },
  {
   "attachments": {},
   "cell_type": "markdown",
   "metadata": {},
   "source": [
    "## get scan limits"
   ]
  },
  {
   "cell_type": "code",
   "execution_count": null,
   "metadata": {},
   "outputs": [],
   "source": [
    "scan_limits = np.array([all_positions.min(axis=0),all_positions.max(axis=0)]).T"
   ]
  },
  {
   "attachments": {},
   "cell_type": "markdown",
   "metadata": {},
   "source": [
    "# reduce data dimensionality"
   ]
  },
  {
   "cell_type": "code",
   "execution_count": null,
   "metadata": {},
   "outputs": [],
   "source": [
    "def reduce(spectrum) -> Tuple[float]:\n",
    "    \"\"\"Reduce a spectrum to its mean and std\"\"\"\n",
    "    return spectrum.mean(), spectrum.std()"
   ]
  },
  {
   "cell_type": "code",
   "execution_count": null,
   "metadata": {},
   "outputs": [],
   "source": [
    "all_reduced = []\n",
    "for s in tqdm(all_spectra, total=len(all_spectra), desc=\"Reducing spectra\"):\n",
    "    all_reduced.append(reduce(s))\n",
    "all_reduced = np.array(all_reduced)"
   ]
  },
  {
   "cell_type": "code",
   "execution_count": null,
   "metadata": {},
   "outputs": [],
   "source": [
    "all_reduced.shape"
   ]
  },
  {
   "cell_type": "code",
   "execution_count": null,
   "metadata": {},
   "outputs": [],
   "source": [
    "reduced_maps = all_reduced.reshape(*map_shape,2)"
   ]
  },
  {
   "cell_type": "code",
   "execution_count": null,
   "metadata": {},
   "outputs": [],
   "source": [
    "fig,ax = plt.subplots(1,2,figsize=(10,5))\n",
    "ax[0].imshow(reduced_maps[:,:,0])\n",
    "ax[1].imshow(reduced_maps[:,:,1])"
   ]
  },
  {
   "attachments": {},
   "cell_type": "markdown",
   "metadata": {},
   "source": [
    "# GPcam"
   ]
  },
  {
   "attachments": {},
   "cell_type": "markdown",
   "metadata": {},
   "source": [
    "## define parameters"
   ]
  },
  {
   "cell_type": "code",
   "execution_count": null,
   "metadata": {},
   "outputs": [],
   "source": [
    "def ndim_aqfunc(x, gp):\n",
    "    \"\"\"Compute the acquisition function for a given GP and a given point\"\"\"\n",
    "    a = 1.5  #####change here, 3.0 for 95 percent confidence interval\n",
    "    norm = 1.0\n",
    "    ret = None\n",
    "    for i in range(gp.input_dim-1):\n",
    "        x_pred=np.c_[x,np.zeros(x.shape[0])+i].reshape(-1,gp.input_dim)\n",
    "        cov = gp.posterior_covariance(x_pred)[\"v(x)\"]\n",
    "        if ret is None:\n",
    "            ret = cov\n",
    "        else:\n",
    "            ret += cov\n",
    "            \n",
    "    ret=a * np.sqrt(ret)\n",
    "\n",
    "    for i in range(gp.input_dim-1):\n",
    "        x_pred=np.c_[x,np.zeros(x.shape[0])+i].reshape(-1,gp.input_dim)\n",
    "        mean = gp.posterior_mean(x_pred)[\"f(x)\"]\n",
    "        ret += norm * mean\n",
    "\n",
    "    return ret\n"
   ]
  },
  {
   "cell_type": "code",
   "execution_count": null,
   "metadata": {},
   "outputs": [],
   "source": [
    "\n",
    "def manhattan_distance(x,y):\n",
    "    return np.abs(x[0]-y[0])+np.abs(x[1]-y[1])\n",
    "\n",
    "def closest_point_on_grid(x):\n",
    "    \"\"\"Find the closest point in a grid to a given point\"\"\"\n",
    "    grid = np.array(tuple(product(range(xdata.shape[0]),range(xdata.shape[1]))))\n",
    "    return grid[np.linalg.norm(grid-x,axis=1).argmin()]\n",
    "\n",
    "\n",
    "def scan_time(positions, cost_func_params):\n",
    "    return np.sum([movement_cost(positions[i-1],positions[i],cost_func_params) for i in range(1,len(positions))])\n"
   ]
  },
  {
   "cell_type": "code",
   "execution_count": null,
   "metadata": {},
   "outputs": [],
   "source": [
    "\n",
    "def movement_cost(\n",
    "        origin: tuple, \n",
    "        x: tuple, \n",
    "        cost_func_params: dict = None, \n",
    "        verbose: bool = False\n",
    "    ) -> float:\n",
    "    \"\"\"Compute the cost of moving from x to y\n",
    "    \n",
    "    Args:\n",
    "        x (tuple): starting position\n",
    "        y (tuple): ending position\n",
    "        cost_func_params (dict): dictionary of parameters for the cost function\n",
    "            - speed (float): speed of the scanner, expressed in mm/s\n",
    "            - dwell_time (float): dwell time, expressed in s\n",
    "            - dead_time (float): dead time, expressed in s\n",
    "            - point_to_um (float): conversion factor from mm to seconds\n",
    "    \n",
    "    Returns:\n",
    "        float: cost of moving from x to y, expressed in seconds\n",
    "\n",
    "    \"\"\"\n",
    "    x = np.array(x)\n",
    "    if len(x.shape) == 1:\n",
    "        x = x.reshape(-1,1)\n",
    "    if cost_func_params is None:\n",
    "        cost_func_params = {}\n",
    "    else:\n",
    "        cost_func_params = cost_func_params.copy()\n",
    "    speed = cost_func_params.pop('speed',250)\n",
    "    dwell_time = cost_func_params.pop('dwell_time',0.5)\n",
    "    dead_time = cost_func_params.pop('dead_time',0.6)\n",
    "    point_to_um = cost_func_params.pop('point_to_um',1.0)\n",
    "    weight = cost_func_params.pop('weight',1.0)\n",
    "    if len(cost_func_params) > 0:\n",
    "        raise ValueError(f\"Unrecognized parameters: {cost_func_params.keys()}\")\n",
    "    distance = manhattan_distance(origin,x) * point_to_um\n",
    "    time = weight * distance / speed  + dwell_time + dead_time\n",
    "    if verbose:\n",
    "        print(f\"Distance: {distance:.2f} um, Time: {time:.2f} s\"\n",
    "            f\" (dwell: {dwell_time:.2f} s, dead: {dead_time:.2f} s)\" \n",
    "        )\n",
    "    return time\n",
    "\n",
    "def cost_function(origin, x:Sequence[tuple], cost_func_params: dict = None) -> float:\n",
    "    cost = []\n",
    "    for xx in x:\n",
    "        cost.append(movement_cost(origin,xx,cost_func_params))\n",
    "    return np.array(cost).T\n"
   ]
  },
  {
   "cell_type": "code",
   "execution_count": null,
   "metadata": {},
   "outputs": [],
   "source": [
    "\n",
    "def measurement_loop(\n",
    "    init_positions, \n",
    "    init_values,\n",
    "    gp,\n",
    "    n_points=200,\n",
    "    train_every=20,\n",
    "    train_at = None,\n",
    "    verbose=False,\n",
    ") -> None:\n",
    "        \n",
    "    values = init_values.copy()\n",
    "    positions = init_positions.copy()\n",
    "    for i in tqdm(range(n_points), desc=\"Acquisition loop\"):\n",
    "        gp.tell(positions, values)\n",
    "        next_pt = gp.ask(position=positions[-1],**ask_pars)\n",
    "        next_on_grid = closest_point_on_grid(next_pt['x'])\n",
    "        next_pt.update({'pos':next_on_grid})\n",
    "        next_val = np.array(\n",
    "            reduce(xdata[next_pt['pos'][0],next_pt['pos'][1]].values)\n",
    "        )[None,:]\n",
    "        next_pos = np.array(next_pt['pos'])[None,:]\n",
    "        # print(next_val,next_pos, sep='\\n')\n",
    "        positions = np.append(positions, next_pos, axis=0)\n",
    "        values = np.append(values, next_val, axis=0)\n",
    "        if train_at is None:\n",
    "            train_at = []\n",
    "        if i % train_every == 0 or i in train_at:\n",
    "            t0 = time.time()\n",
    "            gp.train_gp(**train_pars)\n",
    "            print(f\"Training at i={i} took {time.time()-t0:.2f} s\")\n",
    "    return positions, values\n",
    "            \n",
    "\n"
   ]
  },
  {
   "cell_type": "code",
   "execution_count": null,
   "metadata": {},
   "outputs": [],
   "source": [
    "\n",
    "def vis_map_with_path(positions,values,reduced_maps=reduced_maps,ax=None):\n",
    "    if ax is None:\n",
    "        fig,ax = plt.subplots(1,1,figsize=(6,5))\n",
    "    ax.imshow(reduced_maps[...,0],alpha=0.5)\n",
    "    # ax[1].imshow(reduced_maps[...,0],alpha=0.5)\n",
    "    ax.plot(positions[:,1],positions[:,0],'r-',alpha=0.5,linewidth=.5)\n",
    "    ax.scatter(positions[:,1],positions[:,0],s=10)#,c=values[:,0],cmap='viridis')\n",
    "    # ax[1].scatter(positions[:,1],positions[:,0],s=10)#c=values[:,0],cmap='viridis')\n"
   ]
  },
  {
   "cell_type": "code",
   "execution_count": null,
   "metadata": {},
   "outputs": [],
   "source": [
    "optimizer_pars = {\n",
    "    'input_space_dimension': 2,\n",
    "    'output_space_dimension': 1,\n",
    "    'output_number': 2,\n",
    "    'input_space_bounds': scan_limits,\n",
    "}\n",
    "hyperparameter_bounds = np.array(\n",
    "    [[0.001,1e9],[1,1000],[1,1000],[1,1000],[1,1000]]\n",
    ")\n",
    "init_hyperparameters = np.array(\n",
    "        [4.71907062e+06, 4.07439017e+02, 3.59068120e+02,4e2,4e2]\n",
    ")\n",
    "train_pars = {\n",
    "    'hyperparameter_bounds': hyperparameter_bounds,\n",
    "    'pop_size': 20,\n",
    "    'tolerance': 1e-6,\n",
    "    'max_iter': 2,\n",
    "}\n",
    "train_async_pars = {\n",
    "    'hyperparameter_bounds':hyperparameter_bounds,\n",
    "    'init_hyperparameters': init_hyperparameters,\n",
    "    'max_iter': 10000,\n",
    "    'local_optimizer': \"L-BFGS-B\",\n",
    "    'global_optimizer': \"genetic\",\n",
    "    'constraints': (),\n",
    "    'deflation_radius': None,\n",
    "    'dask_client': None,\n",
    "}\n",
    "train_gp_async_pars = {\n",
    "    'hyperparameter_bounds':hyperparameter_bounds,\n",
    "    'max_iter': 10000,\n",
    "    'dask_client': None,\n",
    "    'deflation_radius': None,\n",
    "    'constraints': (),\n",
    "    'local_method': \"L-BFGS-B\",\n",
    "    'global_method': \"genetic\",\n",
    "}\n",
    "fvgp_pars = {\n",
    "    'init_hyperparameters' : init_hyperparameters,\n",
    "    'compute_device': 'cpu',\n",
    "    'gp_kernel_function': None,\n",
    "    'gp_mean_function': None,\n",
    "    'use_inv':False,\n",
    "    'ram_economy': True,\n",
    "}\n",
    "ask_pars = {\n",
    "    'n': 1, \n",
    "    'acquisition_function': ndim_aqfunc, \n",
    "    'bounds': None,\n",
    "    'method': 'global', \n",
    "    'pop_size': 20, \n",
    "    'max_iter': 10, \n",
    "    'tol': 10e-6, \n",
    "    'x0': None, \n",
    "    'dask_client': None,\n",
    "}\n",
    "cost_func_params = {\n",
    "    'speed':300,\n",
    "    'dwell_time':1.0,\n",
    "    'dead_time':0.6,\n",
    "    'point_to_um':15,\n",
    "    'weight':1.0,\n",
    "}"
   ]
  },
  {
   "attachments": {},
   "cell_type": "markdown",
   "metadata": {},
   "source": [
    "## Explicit run"
   ]
  },
  {
   "attachments": {},
   "cell_type": "markdown",
   "metadata": {},
   "source": [
    "### initialize the map with random points"
   ]
  },
  {
   "cell_type": "code",
   "execution_count": null,
   "metadata": {},
   "outputs": [],
   "source": [
    "rng = np.random.default_rng()\n",
    "ind = rng.choice(len(all_positions)-1, size=5, replace=False)\n",
    "init_positions = all_positions[ind]\n",
    "init_values = all_reduced[ind]\n",
    "print(*tuple(zip(init_positions, init_values)),sep='\\n')\n"
   ]
  },
  {
   "attachments": {},
   "cell_type": "markdown",
   "metadata": {},
   "source": [
    "### initialize the gaussian process object"
   ]
  },
  {
   "cell_type": "code",
   "execution_count": null,
   "metadata": {},
   "outputs": [],
   "source": [
    "gp = fvGPOptimizer(**optimizer_pars)\n",
    "gp.tell(init_positions,init_values)\n",
    "gp.init_fvgp(**fvgp_pars)"
   ]
  },
  {
   "attachments": {},
   "cell_type": "markdown",
   "metadata": {},
   "source": [
    "### initial training of gp"
   ]
  },
  {
   "cell_type": "code",
   "execution_count": null,
   "metadata": {},
   "outputs": [],
   "source": [
    "%%time\n",
    "gp.train_gp(**train_pars)"
   ]
  },
  {
   "cell_type": "code",
   "execution_count": null,
   "metadata": {},
   "outputs": [],
   "source": [
    "positions = init_positions.copy()\n",
    "values = init_values.copy()\n",
    "positions.shape, values.shape"
   ]
  },
  {
   "cell_type": "code",
   "execution_count": null,
   "metadata": {},
   "outputs": [],
   "source": [
    "gp.init_cost(cost_function,cost_func_params)"
   ]
  },
  {
   "attachments": {},
   "cell_type": "markdown",
   "metadata": {},
   "source": [
    "### loop it!"
   ]
  },
  {
   "cell_type": "code",
   "execution_count": null,
   "metadata": {},
   "outputs": [],
   "source": [
    "measurement_loop(init_positions, init_values, n_points, train_every)"
   ]
  },
  {
   "cell_type": "code",
   "execution_count": null,
   "metadata": {},
   "outputs": [],
   "source": [
    "positions.shape, values.shape"
   ]
  },
  {
   "cell_type": "code",
   "execution_count": null,
   "metadata": {},
   "outputs": [],
   "source": [
    "fig,axes = plt.subplots(1,2,figsize=(10,5))\n",
    "ax = axes.ravel()\n",
    "ax[0].imshow(reduced_maps[...,0],alpha=0.5)\n",
    "ax[1].imshow(reduced_maps[...,0],alpha=0.5)\n",
    "ax[0].plot(positions[:,1],positions[:,0],'r-',alpha=0.5,linewidth=.5)\n",
    "\n",
    "ax[0].scatter(positions[:,1],positions[:,0],s=10)#,c=values[:,0],cmap='viridis')\n",
    "ax[1].scatter(positions[:,1],positions[:,0],s=10)#c=values[:,0],cmap='viridis')\n"
   ]
  },
  {
   "cell_type": "code",
   "execution_count": null,
   "metadata": {},
   "outputs": [],
   "source": [
    "fig,axes = plt.subplots(1,2,figsize=(10,5))\n",
    "ax = axes.ravel()\n",
    "ax[0].imshow(reduced_maps[...,0],alpha=0.5)\n",
    "ax[1].imshow(reduced_maps[...,0],alpha=0.5)\n",
    "ax[0].plot(positions[:,1],positions[:,0],'r-',alpha=0.5,linewidth=.5)\n",
    "\n",
    "ax[0].scatter(positions[:,1],positions[:,0],s=10)#,c=values[:,0],cmap='viridis')\n",
    "ax[1].scatter(positions[:,1],positions[:,0],s=10)#c=values[:,0],cmap='viridis')\n"
   ]
  },
  {
   "cell_type": "code",
   "execution_count": null,
   "metadata": {},
   "outputs": [],
   "source": []
  },
  {
   "attachments": {},
   "cell_type": "markdown",
   "metadata": {},
   "source": [
    "# Single point initializationm"
   ]
  },
  {
   "cell_type": "code",
   "execution_count": null,
   "metadata": {},
   "outputs": [],
   "source": [
    "init_positions = np.array([[map_shape[0]//2,map_shape[1]//2]]*2)\n",
    "init_values = np.array([\n",
    "    np.array(reduce(xdata[init_positions[0],init_positions[1]].values)),\n",
    "    np.array(reduce(xdata[init_positions[0],init_positions[1]].values)),\n",
    "])\n",
    "init_positions, init_values\n"
   ]
  },
  {
   "cell_type": "code",
   "execution_count": null,
   "metadata": {},
   "outputs": [],
   "source": [
    "gp = fvGPOptimizer(**optimizer_pars)\n",
    "gp.tell(init_positions,init_values)\n",
    "gp.init_fvgp(**fvgp_pars)\n",
    "gp.train_gp(**train_pars)\n",
    "positions = init_positions.copy()\n",
    "values = init_values.copy()\n",
    "positions.shape, values.shape\n",
    "# gp.init_cost(cost_function,cost_func_params)"
   ]
  },
  {
   "cell_type": "code",
   "execution_count": null,
   "metadata": {},
   "outputs": [],
   "source": [
    "pos_nocost, values_nocost = measurement_loop(\n",
    "    init_positions, \n",
    "    init_values, \n",
    "    gp=gp,\n",
    "    n_points=500, \n",
    "    train_every=50,\n",
    "    train_at = [10, 20],\n",
    "    verbose=True,\n",
    ")\n",
    "counts = list(dict(Counter(tuple(map(tuple,pos_nocost)))).values())\n",
    "print(f'Number of repeated points: {sum(counts)-len(counts)}')"
   ]
  },
  {
   "cell_type": "code",
   "execution_count": null,
   "metadata": {},
   "outputs": [],
   "source": [
    "vis_map_with_path(pos_nocost, values_nocost,reduced_maps=reduced_maps)"
   ]
  },
  {
   "cell_type": "code",
   "execution_count": null,
   "metadata": {},
   "outputs": [],
   "source": [
    "print(f'scan time: {scan_time(pos_nocost,cost_func_params):.2f} s')"
   ]
  },
  {
   "cell_type": "code",
   "execution_count": null,
   "metadata": {},
   "outputs": [],
   "source": []
  },
  {
   "attachments": {},
   "cell_type": "markdown",
   "metadata": {},
   "source": [
    "## with cost function"
   ]
  },
  {
   "cell_type": "code",
   "execution_count": null,
   "metadata": {},
   "outputs": [],
   "source": [
    "gp = fvGPOptimizer(**optimizer_pars)\n",
    "gp.tell(init_positions,init_values)\n",
    "gp.init_fvgp(**fvgp_pars)\n",
    "gp.train_gp(**train_pars)\n",
    "positions = init_positions.copy()\n",
    "values = init_values.copy()\n",
    "positions.shape, values.shape\n",
    "cfp = cost_func_params.copy()\n",
    "cfp['weight'] = 0.0001\n",
    "gp.init_cost(cost_function,cost_func_params)"
   ]
  },
  {
   "cell_type": "code",
   "execution_count": null,
   "metadata": {},
   "outputs": [],
   "source": [
    "pos_wcost, values_wcost = measurement_loop(\n",
    "    init_positions, \n",
    "    init_values, \n",
    "    gp,\n",
    "    n_points=500, \n",
    "    train_every=50,\n",
    "    train_at = [10, 20],\n",
    "    verbose=True,\n",
    ")\n",
    "counts = list(dict(Counter(tuple(map(tuple,pos_wcost)))).values())\n",
    "print(f'Number of repeated points: {sum(counts)-len(counts)}')"
   ]
  },
  {
   "cell_type": "code",
   "execution_count": null,
   "metadata": {},
   "outputs": [],
   "source": [
    "def how_many_repetitions(positions):\n",
    "    counts = list(dict(Counter(tuple(map(tuple,positions)))).values())\n",
    "    print(f'Number of repeated points: {sum(counts)-len(counts)}')\n",
    "    return counts"
   ]
  },
  {
   "cell_type": "code",
   "execution_count": null,
   "metadata": {},
   "outputs": [],
   "source": [
    "n = 500\n",
    "p,v = pos_wcost[:n], values_wcost[:n]\n",
    "how_many_repetitions(p)\n",
    "vis_map_with_path(p,v,reduced_maps=reduced_maps)"
   ]
  },
  {
   "cell_type": "code",
   "execution_count": null,
   "metadata": {},
   "outputs": [],
   "source": [
    "print(f'scan time: {scan_time(pos_wcost,cost_func_params):.2f} s')"
   ]
  },
  {
   "cell_type": "code",
   "execution_count": null,
   "metadata": {},
   "outputs": [],
   "source": [
    "# count repeated points\n",
    "from collections import Counter\n",
    "counts = list(dict(Counter(tuple(map(tuple,pos_wcost)))).values())\n",
    "\n",
    "print(f'Number of repeated points: {sum(counts)-len(counts)}')\n"
   ]
  },
  {
   "cell_type": "code",
   "execution_count": null,
   "metadata": {},
   "outputs": [],
   "source": [
    "fig,axes = plt.subplots(1,2,figsize=(10,5))\n",
    "\n",
    "vis_map_with_path(pos_wcost, values_wcost,reduced_maps=reduced_maps,ax=axes[0])\n",
    "vis_map_with_path(pos_nocost, values_nocost,reduced_maps=reduced_maps,ax=axes[1])"
   ]
  },
  {
   "attachments": {},
   "cell_type": "markdown",
   "metadata": {},
   "source": [
    "# now for something silly!"
   ]
  },
  {
   "cell_type": "code",
   "execution_count": null,
   "metadata": {},
   "outputs": [],
   "source": [
    "gp = fvGPOptimizer(**optimizer_pars)\n",
    "gp.tell(init_positions,init_values)\n",
    "gp.init_fvgp(**fvgp_pars)\n",
    "gp.train_gp(**train_pars)\n",
    "positions = init_positions.copy()\n",
    "values = init_values.copy()\n",
    "positions.shape, values.shape\n",
    "cfp = cost_func_params.copy()\n",
    "cfp['weight'] = 0.1\n",
    "gp.init_cost(cost_function,cost_func_params)"
   ]
  },
  {
   "cell_type": "code",
   "execution_count": null,
   "metadata": {},
   "outputs": [],
   "source": [
    "\n",
    "pos_highcost, values_highcost = measurement_loop(\n",
    "    init_positions, \n",
    "    init_values, \n",
    "    n_points=500, \n",
    "    train_every=50,\n",
    "    train_at = [10, 20],\n",
    "    verbose=True,\n",
    ")\n",
    "counts = list(dict(Counter(tuple(map(tuple,pos_highcost)))).values())\n",
    "print(f'Number of repeated points: {sum(counts)-len(counts)}')"
   ]
  },
  {
   "cell_type": "code",
   "execution_count": null,
   "metadata": {},
   "outputs": [],
   "source": [
    "vis_map_with_path(pos_highcost, values_highcost,reduced_maps=reduced_maps)"
   ]
  },
  {
   "cell_type": "code",
   "execution_count": null,
   "metadata": {},
   "outputs": [],
   "source": [
    "plt.figure()\n",
    "n = 500\n",
    "plt.scatter(pos_highcost[:n,1],pos_highcost[:n,0],c=values_highcost[:n,0],cmap='viridis')"
   ]
  },
  {
   "cell_type": "code",
   "execution_count": null,
   "metadata": {},
   "outputs": [],
   "source": []
  },
  {
   "cell_type": "code",
   "execution_count": null,
   "metadata": {},
   "outputs": [],
   "source": [
    "print(f'scan time: {scan_time(pos_highcost,cost_func_params):.2f} s')"
   ]
  },
  {
   "cell_type": "code",
   "execution_count": null,
   "metadata": {},
   "outputs": [],
   "source": [
    "print(f'no cost scan time:   ' +pretty_print_time(scan_time(pos_nocost,cost_func_params)))\n",
    "print(f'low cost scan time:  ' +pretty_print_time(scan_time(pos_wcost,cost_func_params)))\n",
    "print(f'high cost scan time: ' +pretty_print_time(scan_time(pos_highcost,cost_func_params)))\n",
    "print(f'raster scan time:    ' +pretty_print_time(scan_time(all_positions,cost_func_params)))\n"
   ]
  },
  {
   "cell_type": "code",
   "execution_count": null,
   "metadata": {},
   "outputs": [],
   "source": [
    "def pretty_print_time(t):\n",
    "    \"\"\"Print time as hh:mm:ss\"\"\"\n",
    "    h = int(t//3600)\n",
    "    m = int((t%3600)//60)\n",
    "    s = int(t%60)\n",
    "    return f'{h:02d}:{m:02d}:{s:02d}'"
   ]
  },
  {
   "cell_type": "code",
   "execution_count": null,
   "metadata": {},
   "outputs": [],
   "source": [
    "all_positions"
   ]
  },
  {
   "cell_type": "code",
   "execution_count": null,
   "metadata": {},
   "outputs": [],
   "source": [
    "def get_raw_data(positions,all_positions,xdata):\n",
    "    raw = []\n",
    "    for n in range(len(all_positions)):\n",
    "        if all_positions[n] in positions:\n",
    "            i,j = all_positions[n]\n",
    "            raw.append(xdata[i,j,...].values)\n",
    "    return raw\n",
    "\n",
    "    "
   ]
  },
  {
   "cell_type": "code",
   "execution_count": null,
   "metadata": {},
   "outputs": [],
   "source": [
    "raw_nocost = get_raw_data(pos_nocost,all_positions,xdata)"
   ]
  },
  {
   "cell_type": "code",
   "execution_count": null,
   "metadata": {},
   "outputs": [],
   "source": [
    "raw_nocost[0].shape"
   ]
  },
  {
   "attachments": {},
   "cell_type": "markdown",
   "metadata": {},
   "source": [
    "\n",
    "# kmeans on this thing"
   ]
  },
  {
   "cell_type": "code",
   "execution_count": null,
   "metadata": {},
   "outputs": [],
   "source": [
    "import sklearn.cluster as cluster  \n"
   ]
  },
  {
   "cell_type": "code",
   "execution_count": null,
   "metadata": {},
   "outputs": [],
   "source": [
    "res = cluster.kmeans(raw_nocost,n_clusters=3)"
   ]
  }
 ],
 "metadata": {
  "kernelspec": {
   "display_name": "gpcam",
   "language": "python",
   "name": "python3"
  },
  "language_info": {
   "codemirror_mode": {
    "name": "ipython",
    "version": 3
   },
   "file_extension": ".py",
   "mimetype": "text/x-python",
   "name": "python",
   "nbconvert_exporter": "python",
   "pygments_lexer": "ipython3",
   "version": "3.10.11"
  },
  "orig_nbformat": 4,
  "vscode": {
   "interpreter": {
    "hash": "1b103d9a4a0a9779608a01a7f8f762634b880851de7fc86f07d58debf004e234"
   }
  }
 },
 "nbformat": 4,
 "nbformat_minor": 2
}
