{
 "cells": [
  {
   "cell_type": "code",
   "execution_count": 1,
   "metadata": {},
   "outputs": [],
   "source": [
    "import numpy as np\n",
    "import smartscan as ss"
   ]
  },
  {
   "cell_type": "code",
   "execution_count": 19,
   "metadata": {},
   "outputs": [
    {
     "name": "stdout",
     "output_type": "stream",
     "text": [
      "[    2. -1730.]\n",
      "[[0.5432 0.5827 0.9491 ... 0.6223 0.9363 0.9796]\n",
      " [0.0603 0.2987 0.9591 ... 0.0985 0.5004 0.0741]\n",
      " [0.5046 0.1297 0.8914 ... 0.4455 0.8378 0.983 ]\n",
      " ...\n",
      " [0.5718 0.2264 0.2686 ... 0.0112 0.732  0.729 ]\n",
      " [0.7118 0.4942 0.324  ... 0.6365 0.2147 0.9137]\n",
      " [0.1089 0.1363 0.2141 ... 0.8679 0.7619 0.6491]] float64\n"
     ]
    }
   ],
   "source": [
    "res = ss.TCP.send_tcp_message(\n",
    "    'localhost',\n",
    "    port=12345,\n",
    "    msg = 'MEASURE',\n",
    "    buffer_size=1024*1024*8,    \n",
    ")\n",
    "if 'ERROR' in res:\n",
    "    print(res)\n",
    "else:\n",
    "    vals = res.split(' ')[1:]\n",
    "    n_pos = int(vals[0])\n",
    "    positions = np.asarray(vals[:n_pos], dtype=float)\n",
    "    data = np.asarray(vals[n_pos+1:], dtype=float).reshape(640,400)\n",
    "    print(positions)\n",
    "    print(data, data.dtype)"
   ]
  },
  {
   "cell_type": "code",
   "execution_count": 25,
   "metadata": {},
   "outputs": [
    {
     "data": {
      "text/plain": [
       "1.6818456649780273"
      ]
     },
     "execution_count": 25,
     "metadata": {},
     "output_type": "execute_result"
    }
   ],
   "source": [
    "len(res)/1024/1024"
   ]
  },
  {
   "cell_type": "code",
   "execution_count": 20,
   "metadata": {},
   "outputs": [
    {
     "data": {
      "text/plain": [
       "array([[0.4728, 0.4079, 0.055 , ..., 0.7763, 0.9039, 0.3441],\n",
       "       [0.2679, 0.4969, 0.6138, ..., 0.7193, 0.4863, 0.771 ],\n",
       "       [0.0722, 0.4853, 0.8156, ..., 0.0809, 0.7345, 0.1743],\n",
       "       ...,\n",
       "       [0.999 , 0.363 , 0.2274, ..., 0.9044, 0.258 , 0.615 ],\n",
       "       [0.8063, 0.9656, 0.2051, ..., 0.0386, 0.835 , 0.7615],\n",
       "       [0.7856, 0.8068, 0.4583, ..., 0.6975, 0.9274, 0.0824]],\n",
       "      dtype=float32)"
      ]
     },
     "execution_count": 20,
     "metadata": {},
     "output_type": "execute_result"
    }
   ],
   "source": [
    "data.astype(np.float32)"
   ]
  },
  {
   "cell_type": "code",
   "execution_count": 13,
   "metadata": {},
   "outputs": [
    {
     "data": {
      "text/plain": [
       "1750"
      ]
     },
     "execution_count": 13,
     "metadata": {},
     "output_type": "execute_result"
    }
   ],
   "source": [
    "len(res)//1024"
   ]
  },
  {
   "cell_type": "code",
   "execution_count": 14,
   "metadata": {},
   "outputs": [
    {
     "data": {
      "text/plain": [
       "400.0015625"
      ]
     },
     "execution_count": 14,
     "metadata": {},
     "output_type": "execute_result"
    }
   ],
   "source": [
    "256001/640"
   ]
  },
  {
   "cell_type": "code",
   "execution_count": 11,
   "metadata": {},
   "outputs": [
    {
     "data": {
      "text/plain": [
       "1.708984375"
      ]
     },
     "execution_count": 11,
     "metadata": {},
     "output_type": "execute_result"
    }
   ],
   "source": [
    "640 * 400 * 7 / 1024 / 1024"
   ]
  },
  {
   "cell_type": "code",
   "execution_count": 150,
   "metadata": {},
   "outputs": [],
   "source": [
    "def measure_over_tcp():\n",
    "    res = ss.TCP.send_tcp_message(\n",
    "    'localhost',\n",
    "    port=12345,\n",
    "    msg = 'MEASURE'\n",
    "    )\n",
    "    if 'ERROR' in res:\n",
    "        print(res)\n",
    "        raise ValueError(f'Error in tcp communication: {res}')\n",
    "    else:\n",
    "        positions = np.asarray(res.split(' ')[1:3], dtype=float)\n",
    "        data = np.asarray(res.split(' ')[3:], dtype=float).reshape(6,4)\n",
    "        print(positions)\n",
    "        print(data)\n",
    "    return data,positions"
   ]
  },
  {
   "cell_type": "code",
   "execution_count": 154,
   "metadata": {},
   "outputs": [
    {
     "name": "stdout",
     "output_type": "stream",
     "text": [
      "[-1730. -3104.]\n",
      "[[0.51517498 0.99140576 0.12933595 0.43306862]\n",
      " [0.5616816  0.1544269  0.29778099 0.91489008]\n",
      " [0.60044032 0.53985115 0.96509491 0.93165707]\n",
      " [0.37320826 0.54552519 0.99353624 0.80496351]\n",
      " [0.96384405 0.0372523  0.37500889 0.63151213]\n",
      " [0.19563687 0.94446384 0.56647204 0.05621039]]\n",
      "[-1730. -3104.]\n",
      "[[0.11372239 0.02987647 0.9396698  0.10793484]\n",
      " [0.43782505 0.7728321  0.61359935 0.23454245]\n",
      " [0.18528424 0.45910508 0.79300098 0.86646979]\n",
      " [0.97825174 0.39364148 0.26532822 0.23502693]\n",
      " [0.73381883 0.64935853 0.93766035 0.10545233]\n",
      " [0.7992895  0.13238739 0.39003147 0.1773517 ]]\n",
      "[-1730. -3104.]\n",
      "[[0.52060673 0.63117674 0.22855945 0.23613867]\n",
      " [0.82162208 0.7258991  0.88269045 0.82020086]\n",
      " [0.60875128 0.77666523 0.05663406 0.86451377]\n",
      " [0.5813826  0.78139819 0.44430411 0.7171995 ]\n",
      " [0.45971024 0.36537614 0.45087727 0.00546101]\n",
      " [0.55138985 0.17015539 0.4130894  0.09651909]]\n",
      "[-1730. -3104.]\n",
      "[[0.61830836 0.17811076 0.22280154 0.3012456 ]\n",
      " [0.19976544 0.45055176 0.29027584 0.07626376]\n",
      " [0.67031951 0.93774631 0.63023392 0.70102467]\n",
      " [0.31581967 0.70015507 0.34250666 0.29333468]\n",
      " [0.71281834 0.52946813 0.47361853 0.51178335]\n",
      " [0.31484733 0.71841296 0.83894045 0.01205091]]\n",
      "[-1730. -3104.]\n",
      "[[0.42049474 0.61677183 0.31388093 0.18628191]\n",
      " [0.72123866 0.09511288 0.33968313 0.16105637]\n",
      " [0.9701103  0.70201556 0.33563598 0.53548457]\n",
      " [0.23022975 0.24428157 0.82365617 0.74169711]\n",
      " [0.22674928 0.49364561 0.65602866 0.11520669]\n",
      " [0.8256802  0.94334998 0.60715751 0.7395754 ]]\n",
      "[-1730. -3104.]\n",
      "[[0.59185445 0.4383064  0.55374882 0.57851072]\n",
      " [0.17153698 0.43847801 0.77632643 0.08847541]\n",
      " [0.17019601 0.77176886 0.52939848 0.59213263]\n",
      " [0.33965514 0.33113901 0.16383882 0.06832492]\n",
      " [0.08439158 0.54736853 0.06754549 0.83413728]\n",
      " [0.46387227 0.61300915 0.3197714  0.94013794]]\n",
      "[-1730. -3104.]\n",
      "[[0.08046497 0.86438557 0.68264691 0.60201195]\n",
      " [0.0242134  0.25717976 0.05368774 0.34512426]\n",
      " [0.18502575 0.99158811 0.87738849 0.20000986]\n",
      " [0.09809996 0.29306693 0.26178068 0.22470072]\n",
      " [0.88636874 0.92346912 0.69772898 0.82486183]\n",
      " [0.54073564 0.30709833 0.39433715 0.11535919]]\n",
      "[-1730. -3104.]\n",
      "[[0.62819949 0.12767906 0.33349218 0.62599518]\n",
      " [0.99906239 0.88121763 0.04425348 0.37619646]\n",
      " [0.94379826 0.25944681 0.47090586 0.00223859]\n",
      " [0.4094296  0.69177373 0.23316814 0.37000389]\n",
      " [0.27453441 0.2813282  0.20874415 0.83176966]\n",
      " [0.87733613 0.70601175 0.27040271 0.35034869]]\n",
      "[-1730. -3104.]\n",
      "[[0.94588349 0.66590814 0.42779806 0.02264392]\n",
      " [0.33329422 0.08595779 0.73412053 0.98279763]\n",
      " [0.59885862 0.98153044 0.45159343 0.14686496]\n",
      " [0.08183919 0.85606754 0.62563673 0.55828504]\n",
      " [0.61541232 0.58944724 0.04690071 0.82100713]\n",
      " [0.31301179 0.541719   0.61508821 0.60997737]]\n",
      "[-1730. -3104.]\n",
      "[[0.77321308 0.19694211 0.79220907 0.60610952]\n",
      " [0.00713376 0.32111374 0.67041632 0.20906758]\n",
      " [0.23623907 0.55455577 0.29103113 0.64834431]\n",
      " [0.30946966 0.66400314 0.85529113 0.33561924]\n",
      " [0.14211621 0.40662131 0.10914072 0.46765456]\n",
      " [0.20207099 0.67879464 0.00323364 0.4655871 ]]\n"
     ]
    }
   ],
   "source": [
    "for i in range(10):\n",
    "    measure_over_tcp()"
   ]
  },
  {
   "cell_type": "code",
   "execution_count": 135,
   "metadata": {},
   "outputs": [],
   "source": [
    "import time\n",
    "import random"
   ]
  },
  {
   "cell_type": "code",
   "execution_count": 62,
   "metadata": {},
   "outputs": [],
   "source": [
    "        # pos, data = self.measure()\n",
    "        pos_str = f'{[0.2,1.5]}'.strip('[]').replace(',', '')\n",
    "        data_str = ' '.join([str(v) for v in np.random.rand(6,4).ravel()])"
   ]
  },
  {
   "cell_type": "code",
   "execution_count": 72,
   "metadata": {},
   "outputs": [],
   "source": [
    "s = pos +' ' + data\n",
    "positions = np.asarray(s.split(' ')[:2], dtype=float)\n",
    "data = np.asarray(s.split(' ')[2:], dtype=float).reshape(6,4)\n"
   ]
  },
  {
   "cell_type": "code",
   "execution_count": 74,
   "metadata": {},
   "outputs": [
    {
     "data": {
      "text/plain": [
       "(array([0.2, 1.5]),\n",
       " array([[0.70828642, 0.65477349, 0.94329481, 0.32855083],\n",
       "        [0.476565  , 0.5816438 , 0.145918  , 0.1411301 ],\n",
       "        [0.22668804, 0.58254519, 0.41205948, 0.70477075],\n",
       "        [0.9953232 , 0.69140445, 0.13419708, 0.93376495],\n",
       "        [0.135411  , 0.50777864, 0.68012996, 0.07138841],\n",
       "        [0.71975417, 0.50604963, 0.17103106, 0.15348586]]))"
      ]
     },
     "execution_count": 74,
     "metadata": {},
     "output_type": "execute_result"
    }
   ],
   "source": [
    "positions, data"
   ]
  },
  {
   "cell_type": "code",
   "execution_count": 55,
   "metadata": {},
   "outputs": [
    {
     "data": {
      "text/plain": [
       "'0.35659526 0.00192913 0.8911064  ... 0.61194203 0.16108009 0.25768873'"
      ]
     },
     "execution_count": 55,
     "metadata": {},
     "output_type": "execute_result"
    }
   ],
   "source": [
    "data"
   ]
  },
  {
   "cell_type": "code",
   "execution_count": null,
   "metadata": {},
   "outputs": [],
   "source": [
    "[float(v) for v in s.split(' ') if len(v) > 0]"
   ]
  },
  {
   "cell_type": "code",
   "execution_count": 61,
   "metadata": {},
   "outputs": [
    {
     "data": {
      "text/plain": [
       "'0.6992130213117644 0.3411346706270225 0.7849291535559255 0.8016419544301998 0.09232214898042801 0.279515651599639 0.5458186012893982 0.8326442020132268 0.8886118847896641 0.35306346652728327 0.22735417237499245 0.30000685094617596 0.26015234602745296 0.9585549381165802 0.07029618258073489 0.5239753890558115 0.5455768841507009 0.10212871571788362 0.771264432119301 0.464418678793055 0.6515521764276224 0.942657961918085 0.13806489793599852 0.5084081350039057'"
      ]
     },
     "execution_count": 61,
     "metadata": {},
     "output_type": "execute_result"
    }
   ],
   "source": [
    "' '.join([str(v) for v in np.random.rand(6,4).ravel()])"
   ]
  },
  {
   "attachments": {},
   "cell_type": "markdown",
   "metadata": {},
   "source": [
    "# comm logic\n",
    "\n",
    "### sequential:\n",
    "- connect tcp\n",
    "- ask tcp parameters\n",
    "- init gp\n",
    "- start measurement loop\n",
    "  - ask\n",
    "  - send new point\n",
    "  - wait for answer\n",
    "  - update data\n",
    "\n",
    "parallel:\n",
    "main thread:\n",
    "- connect tcp\n",
    "- ask parameters\n",
    "- init gp\n",
    "- start measurement loop thread\n",
    "- start data monitor thread\n",
    "- start training thread\n",
    "\n",
    "measurement loop thread\n",
    "- if data in processed_queue\n",
    "  - update data\n",
    "  - ask\n",
    "  - send new measurement position\n",
    "  - if i in train_at: retrain\n",
    "  \n",
    "data monitor loop:\n",
    "- listen tcp for data\n",
    "- add response to raw_data_queue\n",
    "\n",
    "data reduction thread:\n",
    "- if data in raw_data_queue\n",
    "- process\n",
    "- add data to processed_queue\n",
    "  \n",
    "training thread\n",
    "  ???"
   ]
  },
  {
   "attachments": {},
   "cell_type": "markdown",
   "metadata": {},
   "source": [
    "# async based tcp client and processor"
   ]
  },
  {
   "cell_type": "code",
   "execution_count": 6,
   "metadata": {},
   "outputs": [],
   "source": [
    "import asyncio\n",
    "import logging\n",
    "import smartscan as ss\n",
    "import numpy as np"
   ]
  },
  {
   "cell_type": "code",
   "execution_count": 7,
   "metadata": {},
   "outputs": [
    {
     "name": "stdout",
     "output_type": "stream",
     "text": [
      "Received message: LIMITS -1690.0,-1770.0 -3048.0,-3160.0\n"
     ]
    }
   ],
   "source": [
    "host,port = 'localhost', 12345\n",
    "message = 'LIMITS'\n",
    "client = ss.TCP.TCPClient(host,port)\n",
    "await client.connect()\n",
    "await client.send_message(message)\n",
    "message = await client.receive_message()\n",
    "print(f'Received message: {message}')"
   ]
  },
  {
   "cell_type": "code",
   "execution_count": 8,
   "metadata": {},
   "outputs": [],
   "source": [
    "class Logger:\n",
    "    def __init__(self):\n",
    "        self.info = print\n",
    "        self.debug = print\n",
    "        self.error = print\n",
    "        self.warning = print\n",
    "        self.critical = print"
   ]
  },
  {
   "cell_type": "code",
   "execution_count": 48,
   "metadata": {},
   "outputs": [],
   "source": [
    "class AsyncScanManager:\n",
    "\n",
    "    def __init__(self) -> None:\n",
    "        self.tcp = ss.TCP.TCPClient('localhost', 12345, verbose=True, buffer_size=1024*1024*16)\n",
    "        self._raw_data_queue = asyncio.Queue()\n",
    "        self._reduced_data_queue = asyncio.Queue()\n",
    "        self._gp_queue = asyncio.Queue()\n",
    "        self.logger = Logger()\n",
    "        # self.logger = logging.getLogger(__name__)\n",
    "        # self.logger.setLevel(logging.DEBUG)\n",
    "        self.logger.info('Initialized AsyncScanManager.')\n",
    "\n",
    "    async def connect(self):\n",
    "        # Connect to the tcp server\n",
    "        await self.tcp.connect()\n",
    "        # Start the measurement loop\n",
    "        asyncio.create_task(self.measurement_loop())\n",
    "        # Start the gp loop\n",
    "        asyncio.create_task(self.gp_loop())\n",
    "        # Start the data reduction loop\n",
    "        asyncio.create_task(self.data_reduction_loop())\n",
    "        self.logger.info('Started all loops.')\n",
    "        \n",
    "    def close(self):\n",
    "\n",
    "        self.tcp.close()\n",
    "        self.logger.info('Closed tcp connection.')\n",
    "\n",
    "    async def all_loops(self):\n",
    "        \"\"\"\n",
    "        Start all the loops.\n",
    "        \"\"\"\n",
    "        loop_methods = [getattr(self, method)() for method in dir(self) if method.endswith('_loop')]\n",
    "        await asyncio.gather(*loop_methods)\n",
    "        self.logger.info('All loops finished.')\n",
    "\n",
    "    async def fetch_data(self):\n",
    "        await self.tcp.connect()\n",
    "        await self.tcp.send_message('MEASURE')\n",
    "        message = await self.tcp.receive_message()\n",
    "        self.logger.info(f'Received data with length {len(message)/1024/1024:.2f} MB')\n",
    "        vals = message.split(' ')\n",
    "        msg_code = vals[0]\n",
    "        vals = vals[1:]\n",
    "        match msg_code:\n",
    "            case 'ERROR':\n",
    "                self.logger.warning(message)\n",
    "                return message, None\n",
    "            case 'NO_DATA':\n",
    "                self.logger.warning(message)\n",
    "                return message, None\n",
    "            case 'MEASURE':\n",
    "                n_pos = int(vals[0])\n",
    "                pos = np.asarray(vals[1:n_pos], dtype=float)\n",
    "                data = np.asarray(vals[n_pos+1:], dtype=float)\n",
    "                # data = data.reshape(640,400)\n",
    "                return pos, data\n",
    "            case _:\n",
    "                self.logger.warning(f'Unknown message code: {msg_code}')\n",
    "                return message, None\n",
    "            \n",
    "    async def fetch_data_loop(self):\n",
    "        \"\"\" Get data from SGM4\"\"\"\n",
    "        while not self._should_stop:\n",
    "            pos, data = await self.fetch_data()\n",
    "            if pos is not None:\n",
    "                self._raw_data_queue.put_nowait((pos, data))\n",
    "                self.logger.debug(f'Put data in queue: {pos}, {data}')\n",
    "            else:\n",
    "                await asyncio.sleep(.1)\n",
    "   \n",
    "    async def gp_loop(self):\n",
    "        while not self._should_stop:\n",
    "            self.logger.info('gp looping...')\n",
    "            await asyncio.sleep(.7)\n",
    "        \n",
    "    async def reduction_loop(self):\n",
    "        while not self._should_stop:\n",
    "            self.logger.info('reduction looping...')\n",
    "            pos,data = await self._raw_data_queue.get()\n",
    "            reduced = np.asarray([data.mean(), data.std()])\n",
    "            self._reduced_data_queue.put_nowait((pos,reduced))      \n",
    "            # await asyncio.sleep(.2)\n",
    "    \n",
    "    async def training_loop(self):\n",
    "        while not self._should_stop:\n",
    "            self.logger.info('training looping...')\n",
    "            await asyncio.sleep(1)\n",
    "\n",
    "    async def prediction_loop(self):\n",
    "        while not self._should_stop:\n",
    "            self.logger.info('prediction looping...')\n",
    "            await asyncio.sleep(1)\n",
    "\n",
    "    def kill(self):\n",
    "        self.logger.info('Killing all loops.')\n",
    "        self._should_stop = True\n",
    "\n",
    "    async def start(self):\n",
    "        self.logger.info('Starting all loops.')\n",
    "        self._should_stop = False\n",
    "        await self.all_loops()\n",
    "\n",
    "    def stop(self):\n",
    "        self.logger.info('Stopping all loops.')\n",
    "        self.kill()\n",
    "        self.close()\n",
    "    \n",
    "    async def killer_loop(self):\n",
    "        await asyncio.sleep(10)\n",
    "        self.logger.info('Killer loop strikes!.')\n",
    "        self.stop()\n",
    "       "
   ]
  },
  {
   "cell_type": "code",
   "execution_count": 50,
   "metadata": {},
   "outputs": [
    {
     "name": "stdout",
     "output_type": "stream",
     "text": [
      "Initialized AsyncScanManager.\n",
      "Received data with length 0.25 MB\n",
      "[-1730.] [0.3851 0.2868 0.7574 ... 0.5644 0.5847 0.998 ]\n"
     ]
    }
   ],
   "source": [
    "tc = AsyncScanManager()\n",
    "p,d = await tc.fetch_data()\n",
    "print(p, d)"
   ]
  },
  {
   "cell_type": "code",
   "execution_count": 51,
   "metadata": {},
   "outputs": [
    {
     "name": "stdout",
     "output_type": "stream",
     "text": [
      "Starting all loops.\n",
      "gp looping...\n",
      "prediction looping...\n",
      "reduction looping...\n",
      "training looping...\n",
      "gp looping...\n",
      "prediction looping...\n",
      "training looping...\n",
      "gp looping...\n",
      "prediction looping...\n",
      "training looping...\n",
      "Received data with length 0.25 MB\n",
      "Put data in queue: [-1730.], [0.8157 0.3759 0.7916 ... 0.1621 0.963  0.358 ]\n",
      "reduction looping...\n",
      "gp looping...\n",
      "gp looping...\n",
      "prediction looping...\n",
      "training looping...\n",
      "gp looping...\n",
      "Received data with length 0.25 MB\n",
      "Put data in queue: [-1730.], [0.787  0.1241 0.9403 ... 0.3345 0.8313 0.493 ]\n",
      "reduction looping...\n",
      "prediction looping...\n",
      "training looping...\n",
      "gp looping...\n",
      "gp looping...\n",
      "prediction looping...\n",
      "training looping...\n",
      "gp looping...\n",
      "Received data with length 0.25 MB\n",
      "Put data in queue: [-1730.], [0.0118 0.1597 0.7545 ... 0.3462 0.2326 0.    ]\n",
      "reduction looping...\n",
      "prediction looping...\n",
      "training looping...\n",
      "gp looping...\n",
      "prediction looping...\n",
      "training looping...\n",
      "gp looping...\n",
      "Received data with length 0.25 MB\n"
     ]
    },
    {
     "ename": "ValueError",
     "evalue": "could not convert string to float: ''",
     "output_type": "error",
     "traceback": [
      "\u001b[1;31m---------------------------------------------------------------------------\u001b[0m",
      "\u001b[1;31mValueError\u001b[0m                                Traceback (most recent call last)",
      "Cell \u001b[1;32mIn[51], line 1\u001b[0m\n\u001b[1;32m----> 1\u001b[0m \u001b[39mawait\u001b[39;00m tc\u001b[39m.\u001b[39mstart()\n",
      "Cell \u001b[1;32mIn[48], line 102\u001b[0m, in \u001b[0;36mAsyncScanManager.start\u001b[1;34m(self)\u001b[0m\n\u001b[0;32m    100\u001b[0m \u001b[39mself\u001b[39m\u001b[39m.\u001b[39mlogger\u001b[39m.\u001b[39minfo(\u001b[39m'\u001b[39m\u001b[39mStarting all loops.\u001b[39m\u001b[39m'\u001b[39m)\n\u001b[0;32m    101\u001b[0m \u001b[39mself\u001b[39m\u001b[39m.\u001b[39m_should_stop \u001b[39m=\u001b[39m \u001b[39mFalse\u001b[39;00m\n\u001b[1;32m--> 102\u001b[0m \u001b[39mawait\u001b[39;00m \u001b[39mself\u001b[39m\u001b[39m.\u001b[39mall_loops()\n",
      "Cell \u001b[1;32mIn[48], line 34\u001b[0m, in \u001b[0;36mAsyncScanManager.all_loops\u001b[1;34m(self)\u001b[0m\n\u001b[0;32m     30\u001b[0m \u001b[39m\u001b[39m\u001b[39m\"\"\"\u001b[39;00m\n\u001b[0;32m     31\u001b[0m \u001b[39mStart all the loops.\u001b[39;00m\n\u001b[0;32m     32\u001b[0m \u001b[39m\"\"\"\u001b[39;00m\n\u001b[0;32m     33\u001b[0m loop_methods \u001b[39m=\u001b[39m [\u001b[39mgetattr\u001b[39m(\u001b[39mself\u001b[39m, method)() \u001b[39mfor\u001b[39;00m method \u001b[39min\u001b[39;00m \u001b[39mdir\u001b[39m(\u001b[39mself\u001b[39m) \u001b[39mif\u001b[39;00m method\u001b[39m.\u001b[39mendswith(\u001b[39m'\u001b[39m\u001b[39m_loop\u001b[39m\u001b[39m'\u001b[39m)]\n\u001b[1;32m---> 34\u001b[0m \u001b[39mawait\u001b[39;00m asyncio\u001b[39m.\u001b[39mgather(\u001b[39m*\u001b[39mloop_methods)\n\u001b[0;32m     35\u001b[0m \u001b[39mself\u001b[39m\u001b[39m.\u001b[39mlogger\u001b[39m.\u001b[39minfo(\u001b[39m'\u001b[39m\u001b[39mAll loops finished.\u001b[39m\u001b[39m'\u001b[39m)\n",
      "Cell \u001b[1;32mIn[48], line 65\u001b[0m, in \u001b[0;36mAsyncScanManager.fetch_data_loop\u001b[1;34m(self)\u001b[0m\n\u001b[0;32m     63\u001b[0m \u001b[39m\u001b[39m\u001b[39m\"\"\" Get data from SGM4\"\"\"\u001b[39;00m\n\u001b[0;32m     64\u001b[0m \u001b[39mwhile\u001b[39;00m \u001b[39mnot\u001b[39;00m \u001b[39mself\u001b[39m\u001b[39m.\u001b[39m_should_stop:\n\u001b[1;32m---> 65\u001b[0m     pos, data \u001b[39m=\u001b[39m \u001b[39mawait\u001b[39;00m \u001b[39mself\u001b[39m\u001b[39m.\u001b[39mfetch_data()\n\u001b[0;32m     66\u001b[0m     \u001b[39mif\u001b[39;00m pos \u001b[39mis\u001b[39;00m \u001b[39mnot\u001b[39;00m \u001b[39mNone\u001b[39;00m:\n\u001b[0;32m     67\u001b[0m         \u001b[39mself\u001b[39m\u001b[39m.\u001b[39m_raw_data_queue\u001b[39m.\u001b[39mput_nowait((pos, data))\n",
      "Cell \u001b[1;32mIn[48], line 55\u001b[0m, in \u001b[0;36mAsyncScanManager.fetch_data\u001b[1;34m(self)\u001b[0m\n\u001b[0;32m     43\u001b[0m msg_code \u001b[39m=\u001b[39m vals[\u001b[39m0\u001b[39m]\n\u001b[0;32m     44\u001b[0m vals \u001b[39m=\u001b[39m vals[\u001b[39m1\u001b[39m:]\n\u001b[0;32m     45\u001b[0m \u001b[39mmatch\u001b[39;00m msg_code:\n\u001b[0;32m     46\u001b[0m     \u001b[39mcase\u001b[39;00m \u001b[39m'\u001b[39m\u001b[39mERROR\u001b[39m\u001b[39m'\u001b[39m:\n\u001b[0;32m     47\u001b[0m         \u001b[39mself\u001b[39m\u001b[39m.\u001b[39mlogger\u001b[39m.\u001b[39mwarning(message)\n\u001b[0;32m     48\u001b[0m         \u001b[39mreturn\u001b[39;00m message, \u001b[39mNone\u001b[39;00m\n\u001b[0;32m     49\u001b[0m     \u001b[39mcase\u001b[39;00m \u001b[39m'\u001b[39m\u001b[39mNO_DATA\u001b[39m\u001b[39m'\u001b[39m:\n\u001b[0;32m     50\u001b[0m         \u001b[39mself\u001b[39m\u001b[39m.\u001b[39mlogger\u001b[39m.\u001b[39mwarning(message)\n\u001b[0;32m     51\u001b[0m         \u001b[39mreturn\u001b[39;00m message, \u001b[39mNone\u001b[39;00m\n\u001b[0;32m     52\u001b[0m     \u001b[39mcase\u001b[39;00m \u001b[39m'\u001b[39m\u001b[39mMEASURE\u001b[39m\u001b[39m'\u001b[39m:\n\u001b[0;32m     53\u001b[0m         n_pos \u001b[39m=\u001b[39m \u001b[39mint\u001b[39m(vals[\u001b[39m0\u001b[39m])\n\u001b[0;32m     54\u001b[0m         pos \u001b[39m=\u001b[39m np\u001b[39m.\u001b[39masarray(vals[\u001b[39m1\u001b[39m:n_pos], dtype\u001b[39m=\u001b[39m\u001b[39mfloat\u001b[39m)\n\u001b[1;32m---> 55\u001b[0m         data \u001b[39m=\u001b[39m np\u001b[39m.\u001b[39;49masarray(vals[n_pos\u001b[39m+\u001b[39;49m\u001b[39m1\u001b[39;49m:], dtype\u001b[39m=\u001b[39;49m\u001b[39mfloat\u001b[39;49m)\n\u001b[0;32m     56\u001b[0m         \u001b[39m# data = data.reshape(640,400)\u001b[39;00m\n\u001b[0;32m     57\u001b[0m         \u001b[39mreturn\u001b[39;00m pos, data\n\u001b[0;32m     58\u001b[0m     \u001b[39mcase\u001b[39;00m\u001b[39m \u001b[39m\u001b[39m_\u001b[39;00m:\n\u001b[0;32m     59\u001b[0m         \u001b[39mself\u001b[39m\u001b[39m.\u001b[39mlogger\u001b[39m.\u001b[39mwarning(\u001b[39mf\u001b[39m\u001b[39m'\u001b[39m\u001b[39mUnknown message code: \u001b[39m\u001b[39m{\u001b[39;00mmsg_code\u001b[39m}\u001b[39;00m\u001b[39m'\u001b[39m)\n\u001b[0;32m     60\u001b[0m         \u001b[39mreturn\u001b[39;00m message, \u001b[39mNone\u001b[39;00m\n",
      "\u001b[1;31mValueError\u001b[0m: could not convert string to float: ''"
     ]
    },
    {
     "name": "stdout",
     "output_type": "stream",
     "text": [
      "gp looping...\n",
      "training looping...\n",
      "prediction looping...\n",
      "gp looping...\n",
      "training looping...\n",
      "prediction looping...\n",
      "gp looping...\n",
      "gp looping...\n",
      "Killer loop strikes!.\n",
      "Stopping all loops.\n",
      "Killing all loops.\n",
      "Closed tcp connection.\n"
     ]
    }
   ],
   "source": [
    "await tc.start()"
   ]
  },
  {
   "cell_type": "code",
   "execution_count": 37,
   "metadata": {},
   "outputs": [
    {
     "data": {
      "text/plain": [
       "(1, 0)"
      ]
     },
     "execution_count": 37,
     "metadata": {},
     "output_type": "execute_result"
    }
   ],
   "source": [
    "tc._raw_data_queue.qsize(), tc._reduced_data_queue.qsize()"
   ]
  },
  {
   "attachments": {},
   "cell_type": "markdown",
   "metadata": {},
   "source": []
  }
 ],
 "metadata": {
  "kernelspec": {
   "display_name": "smartscan",
   "language": "python",
   "name": "python3"
  },
  "language_info": {
   "codemirror_mode": {
    "name": "ipython",
    "version": 3
   },
   "file_extension": ".py",
   "mimetype": "text/x-python",
   "name": "python",
   "nbconvert_exporter": "python",
   "pygments_lexer": "ipython3",
   "version": "3.10.11"
  },
  "orig_nbformat": 4
 },
 "nbformat": 4,
 "nbformat_minor": 2
}
