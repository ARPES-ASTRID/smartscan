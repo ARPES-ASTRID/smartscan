{
 "cells": [
  {
   "cell_type": "code",
   "execution_count": 10,
   "metadata": {},
   "outputs": [],
   "source": [
    "from pathlib import Path\n",
    "import numpy as np\n",
    "import copy as cp\n",
    "# from gpcam.gp_optimizer import fvGPOptimizer\n",
    "import matplotlib.pyplot as plt\n",
    "from numpy.random import default_rng\n",
    "import time\n",
    "from typing import *\n",
    "from tqdm.auto import tqdm\n",
    "from datetime import datetime\n",
    "import h5py\n",
    "\n",
    "from itertools import product\n"
   ]
  },
  {
   "cell_type": "code",
   "execution_count": 11,
   "metadata": {},
   "outputs": [],
   "source": [
    "from gpcam.gp_optimizer import fvGPOptimizer\n"
   ]
  },
  {
   "cell_type": "code",
   "execution_count": 79,
   "metadata": {},
   "outputs": [],
   "source": [
    "def pretty_print_time(t):\n",
    "    \"\"\"Print time as hh:mm:ss\"\"\"\n",
    "    h = int(t//3600)\n",
    "    m = int((t%3600)//60)\n",
    "    s = int(t%60)\n",
    "    return f'{h:02d}:{m:02d}:{s:02d}'"
   ]
  },
  {
   "cell_type": "code",
   "execution_count": 38,
   "metadata": {},
   "outputs": [
    {
     "name": "stdout",
     "output_type": "stream",
     "text": [
      "(1116, 640, 400) (1116, 2) (31, 36) 1116\n"
     ]
    }
   ],
   "source": [
    "source_file =  Path(r\"D:\\Data\\2023\\05May\\Z018\\Z018_12_1.h5\")\n",
    "with h5py.File(source_file, 'r', swmr=True) as f:\n",
    "    all_spectra = f['Entry/Data/TransformedData'][()]\n",
    "    measured_positions = f['Entry/Data/ScanDetails/SetPositions'][:,:2]\n",
    "    d0 = f['Entry/Data/ScanDetails/Dim1_length'][()]\n",
    "    d1 = f['Entry/Data/ScanDetails/Dim2_length'][()]\n",
    "    map_shape = d1,d0\n",
    "\n",
    "all_positions = np.array(tuple(product(range(map_shape[0]),range(map_shape[1]))))\n",
    "# print(*zip(all_positions,measured_positions[:5]),sep='\\n')\n",
    "# all_positions[:5], all_positions.shape\n",
    "print(all_spectra.shape,all_positions.shape,map_shape,np.prod(map_shape))"
   ]
  },
  {
   "cell_type": "code",
   "execution_count": 39,
   "metadata": {},
   "outputs": [
    {
     "name": "stdout",
     "output_type": "stream",
     "text": [
      "(array([0, 0]), array([-1200., -5200.]))\n",
      "(array([0, 1]), array([-1.19800000e+03, -9.99999999e+08]))\n",
      "(array([0, 2]), array([-1.19600000e+03, -9.99999999e+08]))\n",
      "(array([0, 3]), array([-1.19400000e+03, -9.99999999e+08]))\n",
      "(array([0, 4]), array([-1.19200000e+03, -9.99999999e+08]))\n"
     ]
    }
   ],
   "source": [
    "print(*zip(all_positions,measured_positions[:5]),sep='\\n')"
   ]
  },
  {
   "cell_type": "code",
   "execution_count": 40,
   "metadata": {},
   "outputs": [],
   "source": [
    "scan_limits = np.array([all_positions.min(axis=0),all_positions.max(axis=0)]).T"
   ]
  },
  {
   "cell_type": "code",
   "execution_count": 41,
   "metadata": {},
   "outputs": [],
   "source": [
    "def reduce(spectrum) -> Tuple[float]:\n",
    "    \"\"\"Reduce a spectrum to its mean and std\"\"\"\n",
    "    return spectrum.mean(), spectrum.std()"
   ]
  },
  {
   "cell_type": "code",
   "execution_count": 42,
   "metadata": {},
   "outputs": [
    {
     "data": {
      "application/vnd.jupyter.widget-view+json": {
       "model_id": "a325bdc548ed4a41b39e8e479dac23ed",
       "version_major": 2,
       "version_minor": 0
      },
      "text/plain": [
       "Reducing spectra:   0%|          | 0/1116 [00:00<?, ?it/s]"
      ]
     },
     "metadata": {},
     "output_type": "display_data"
    }
   ],
   "source": [
    "all_reduced = []\n",
    "for s in tqdm(all_spectra, total=len(all_spectra), desc=\"Reducing spectra\"):\n",
    "    all_reduced.append(reduce(s))\n",
    "all_reduced = np.array(all_reduced)"
   ]
  },
  {
   "cell_type": "code",
   "execution_count": 43,
   "metadata": {},
   "outputs": [],
   "source": [
    "reduced_maps = all_reduced.reshape(*map_shape,2)"
   ]
  },
  {
   "cell_type": "code",
   "execution_count": 44,
   "metadata": {},
   "outputs": [
    {
     "data": {
      "text/plain": [
       "<matplotlib.image.AxesImage at 0x1f307debe80>"
      ]
     },
     "execution_count": 44,
     "metadata": {},
     "output_type": "execute_result"
    },
    {
     "data": {
      "image/png": "[encoded data removed]",
      "text/plain": [
       "<Figure size 1000x500 with 2 Axes>"
      ]
     },
     "metadata": {},
     "output_type": "display_data"
    }
   ],
   "source": [
    "fig,ax = plt.subplots(1,2,figsize=(10,5))\n",
    "ax[0].imshow(reduced_maps[:,:,0])\n",
    "ax[1].imshow(reduced_maps[:,:,1])"
   ]
  },
  {
   "cell_type": "code",
   "execution_count": 45,
   "metadata": {},
   "outputs": [],
   "source": [
    "def ndim_aqfunc(x, gp):\n",
    "    \"\"\"Compute the acquisition function for a given GP and a given point\"\"\"\n",
    "    a = 1.5  #####change here, 3.0 for 95 percent confidence interval\n",
    "    norm = 1.0\n",
    "    ret = None\n",
    "    for i in range(gp.input_dim-1):\n",
    "        x_pred=np.c_[x,np.zeros(x.shape[0])+i].reshape(-1,gp.input_dim)\n",
    "        cov = gp.posterior_covariance(x_pred)[\"v(x)\"]\n",
    "        if ret is None:\n",
    "            ret = cov\n",
    "        else:\n",
    "            ret += cov\n",
    "            \n",
    "    ret=a * np.sqrt(ret)\n",
    "\n",
    "    for i in range(gp.input_dim-1):\n",
    "        x_pred=np.c_[x,np.zeros(x.shape[0])+i].reshape(-1,gp.input_dim)\n",
    "        mean = gp.posterior_mean(x_pred)[\"f(x)\"]\n",
    "        ret += norm * mean\n",
    "\n",
    "    return ret\n"
   ]
  },
  {
   "cell_type": "code",
   "execution_count": 61,
   "metadata": {},
   "outputs": [],
   "source": [
    "\n",
    "def manhattan_distance(x,y):\n",
    "    return np.abs(x[0]-y[0])+np.abs(x[1]-y[1])\n",
    "\n",
    "def closest_point_on_grid(x,map_shape=map_shape):\n",
    "    \"\"\"Find the closest point in a grid to a given point\"\"\"\n",
    "    grid = np.array(tuple(product(range(map_shape[0]),range(map_shape[1]))))\n",
    "    return grid[np.linalg.norm(grid-x,axis=1).argmin()]\n",
    "\n",
    "\n",
    "def scan_time(positions, cost_func_params):\n",
    "    return np.sum([movement_cost(positions[i-1],positions[i],cost_func_params) for i in range(1,len(positions))])\n"
   ]
  },
  {
   "cell_type": "code",
   "execution_count": 62,
   "metadata": {},
   "outputs": [],
   "source": [
    "\n",
    "def movement_cost(\n",
    "        origin: tuple, \n",
    "        x: tuple, \n",
    "        cost_func_params: dict = None, \n",
    "        verbose: bool = False\n",
    "    ) -> float:\n",
    "    \"\"\"Compute the cost of moving from x to y\n",
    "    \n",
    "    Args:\n",
    "        x (tuple): starting position\n",
    "        y (tuple): ending position\n",
    "        cost_func_params (dict): dictionary of parameters for the cost function\n",
    "            - speed (float): speed of the scanner, expressed in mm/s\n",
    "            - dwell_time (float): dwell time, expressed in s\n",
    "            - dead_time (float): dead time, expressed in s\n",
    "            - point_to_um (float): conversion factor from mm to seconds\n",
    "    \n",
    "    Returns:\n",
    "        float: cost of moving from x to y, expressed in seconds\n",
    "\n",
    "    \"\"\"\n",
    "    x = np.array(x)\n",
    "    if len(x.shape) == 1:\n",
    "        x = x.reshape(-1,1)\n",
    "    if cost_func_params is None:\n",
    "        cost_func_params = {}\n",
    "    else:\n",
    "        cost_func_params = cost_func_params.copy()\n",
    "    speed = cost_func_params.pop('speed',250)\n",
    "    dwell_time = cost_func_params.pop('dwell_time',0.5)\n",
    "    dead_time = cost_func_params.pop('dead_time',0.6)\n",
    "    point_to_um = cost_func_params.pop('point_to_um',1.0)\n",
    "    weight = cost_func_params.pop('weight',1.0)\n",
    "    if len(cost_func_params) > 0:\n",
    "        raise ValueError(f\"Unrecognized parameters: {cost_func_params.keys()}\")\n",
    "    distance = manhattan_distance(origin,x) * point_to_um\n",
    "    time = weight * distance / speed  + dwell_time + dead_time\n",
    "    if verbose:\n",
    "        print(f\"Distance: {distance:.2f} um, Time: {time:.2f} s\"\n",
    "            f\" (dwell: {dwell_time:.2f} s, dead: {dead_time:.2f} s)\" \n",
    "        )\n",
    "    return time\n",
    "\n",
    "def cost_function(origin, x:Sequence[tuple], cost_func_params: dict = None) -> float:\n",
    "    cost = []\n",
    "    for xx in x:\n",
    "        cost.append(movement_cost(origin,xx,cost_func_params))\n",
    "    return np.array(cost).T\n"
   ]
  },
  {
   "cell_type": "code",
   "execution_count": 69,
   "metadata": {},
   "outputs": [],
   "source": [
    "\n",
    "def measurement_loop(\n",
    "    init_positions, \n",
    "    init_values,\n",
    "    gp,\n",
    "    n_points=200,\n",
    "    train_every=20,\n",
    "    train_at = None,\n",
    "    verbose=False,\n",
    ") -> None:\n",
    "        \n",
    "    values = init_values.copy()\n",
    "    positions = init_positions.copy()\n",
    "    for i in tqdm(range(n_points), desc=\"Acquisition loop\"):\n",
    "        gp.tell(positions, values)\n",
    "        next_pt = gp.ask(position=positions[-1],**ask_pars)\n",
    "        next_on_grid = closest_point_on_grid(next_pt['x'])\n",
    "        next_pt.update({'pos':next_on_grid})\n",
    "        next_val = reduced_maps[next_pt['pos'][0],next_pt['pos'][1],:][None,...]\n",
    "\n",
    "        next_pos = np.array(next_pt['pos'])[None,:]\n",
    "        # print(next_val,next_pos, sep='\\n')\n",
    "        positions = np.append(positions, next_pos, axis=0)\n",
    "        values = np.append(values, next_val, axis=0)\n",
    "        if train_at is None:\n",
    "            train_at = []\n",
    "        if i % train_every == 0 or i in train_at:\n",
    "            t0 = time.time()\n",
    "            gp.train_gp(**train_pars)\n",
    "            print(f\"Training at i={i} took {time.time()-t0:.2f} s\")\n",
    "    return positions, values\n",
    "            \n",
    "\n"
   ]
  },
  {
   "cell_type": "code",
   "execution_count": 70,
   "metadata": {},
   "outputs": [],
   "source": [
    "\n",
    "def vis_map_with_path(positions,values,reduced_maps=reduced_maps,ax=None):\n",
    "    if ax is None:\n",
    "        fig,ax = plt.subplots(1,1,figsize=(6,5))\n",
    "    ax.imshow(reduced_maps[...,0],alpha=0.5)\n",
    "    # ax[1].imshow(reduced_maps[...,0],alpha=0.5)\n",
    "    ax.plot(positions[:,1],positions[:,0],'r-',alpha=0.5,linewidth=.5)\n",
    "    ax.scatter(positions[:,1],positions[:,0],s=10)#,c=values[:,0],cmap='viridis')\n",
    "    # ax[1].scatter(positions[:,1],positions[:,0],s=10)#c=values[:,0],cmap='viridis')\n"
   ]
  },
  {
   "cell_type": "code",
   "execution_count": 71,
   "metadata": {},
   "outputs": [],
   "source": [
    "optimizer_pars = {\n",
    "    'input_space_dimension': 2,\n",
    "    'output_space_dimension': 1,\n",
    "    'output_number': 2,\n",
    "    'input_space_bounds': scan_limits,\n",
    "}\n",
    "hyperparameter_bounds = np.array(\n",
    "    [[0.001,1e9],[1,1000],[1,1000],[1,1000],[1,1000]]\n",
    ")\n",
    "init_hyperparameters = np.array(\n",
    "        [4.71907062e+06, 4.07439017e+02, 3.59068120e+02,4e2,4e2]\n",
    ")\n",
    "train_pars = {\n",
    "    'hyperparameter_bounds': hyperparameter_bounds,\n",
    "    'pop_size': 20,\n",
    "    'tolerance': 1e-6,\n",
    "    'max_iter': 2,\n",
    "}\n",
    "train_async_pars = {\n",
    "    'hyperparameter_bounds':hyperparameter_bounds,\n",
    "    'init_hyperparameters': init_hyperparameters,\n",
    "    'max_iter': 10000,\n",
    "    'local_optimizer': \"L-BFGS-B\",\n",
    "    'global_optimizer': \"genetic\",\n",
    "    'constraints': (),\n",
    "    'deflation_radius': None,\n",
    "    'dask_client': None,\n",
    "}\n",
    "train_gp_async_pars = {\n",
    "    'hyperparameter_bounds':hyperparameter_bounds,\n",
    "    'max_iter': 10000,\n",
    "    'dask_client': None,\n",
    "    'deflation_radius': None,\n",
    "    'constraints': (),\n",
    "    'local_method': \"L-BFGS-B\",\n",
    "    'global_method': \"genetic\",\n",
    "}\n",
    "fvgp_pars = {\n",
    "    'init_hyperparameters' : init_hyperparameters,\n",
    "    'compute_device': 'cpu',\n",
    "    'gp_kernel_function': None,\n",
    "    'gp_mean_function': None,\n",
    "    'use_inv':False,\n",
    "    'ram_economy': True,\n",
    "}\n",
    "ask_pars = {\n",
    "    'n': 1, \n",
    "    'acquisition_function': ndim_aqfunc, \n",
    "    'bounds': None,\n",
    "    'method': 'global', \n",
    "    'pop_size': 20, \n",
    "    'max_iter': 10, \n",
    "    'tol': 10e-6, \n",
    "    'x0': None, \n",
    "    'dask_client': None,\n",
    "}\n",
    "cost_func_params = {\n",
    "    'speed':300,\n",
    "    'dwell_time':1.0,\n",
    "    'dead_time':0.6,\n",
    "    'point_to_um':15,\n",
    "    'weight':1.0,\n",
    "}"
   ]
  },
  {
   "cell_type": "markdown",
   "metadata": {},
   "source": [
    "# run GP"
   ]
  },
  {
   "cell_type": "code",
   "execution_count": 72,
   "metadata": {},
   "outputs": [
    {
     "data": {
      "text/plain": [
       "(array([[15, 18],\n",
       "        [15, 18]]),\n",
       " array([[0.04084378, 0.16344479],\n",
       "        [0.04084378, 0.16344479]]))"
      ]
     },
     "execution_count": 72,
     "metadata": {},
     "output_type": "execute_result"
    }
   ],
   "source": [
    "center_idx = len(all_positions)//2\n",
    "init_positions = np.array([\n",
    "    all_positions[center_idx],\n",
    "    all_positions[center_idx],\n",
    "])\n",
    "init_values = np.array([\n",
    "    np.array(reduce(all_spectra[center_idx])),\n",
    "    np.array(reduce(all_spectra[center_idx])),\n",
    "])\n",
    "init_positions, init_values\n"
   ]
  },
  {
   "cell_type": "code",
   "execution_count": 73,
   "metadata": {},
   "outputs": [
    {
     "data": {
      "text/plain": [
       "((2, 2), (2, 2))"
      ]
     },
     "execution_count": 73,
     "metadata": {},
     "output_type": "execute_result"
    }
   ],
   "source": [
    "gp = fvGPOptimizer(**optimizer_pars)\n",
    "gp.tell(init_positions,init_values)\n",
    "gp.init_fvgp(**fvgp_pars)\n",
    "gp.train_gp(**train_pars)\n",
    "positions = init_positions.copy()\n",
    "values = init_values.copy()\n",
    "gp.init_cost(cost_function,cost_func_params)\n",
    "positions.shape, values.shape\n"
   ]
  },
  {
   "cell_type": "code",
   "execution_count": 74,
   "metadata": {},
   "outputs": [
    {
     "data": {
      "application/vnd.jupyter.widget-view+json": {
       "model_id": "635b22733f5b4912865d992c97b9f630",
       "version_major": 2,
       "version_minor": 0
      },
      "text/plain": [
       "Acquisition loop:   0%|          | 0/500 [00:00<?, ?it/s]"
      ]
     },
     "metadata": {},
     "output_type": "display_data"
    },
    {
     "name": "stdout",
     "output_type": "stream",
     "text": [
      "Training at i=0 took 0.24 s\n",
      "Training at i=10 took 0.31 s\n",
      "Training at i=20 took 0.25 s\n",
      "Training at i=50 took 1.18 s\n",
      "Training at i=100 took 1.32 s\n",
      "Training at i=150 took 2.26 s\n",
      "Training at i=200 took 6.71 s\n",
      "Training at i=250 took 11.27 s\n",
      "Training at i=300 took 13.88 s\n",
      "Training at i=350 took 21.33 s\n",
      "Training at i=400 took 29.25 s\n",
      "Training at i=450 took 35.52 s\n"
     ]
    },
    {
     "ename": "NameError",
     "evalue": "name 'pos_nocost' is not defined",
     "output_type": "error",
     "traceback": [
      "\u001b[1;31m---------------------------------------------------------------------------\u001b[0m",
      "\u001b[1;31mNameError\u001b[0m                                 Traceback (most recent call last)",
      "Cell \u001b[1;32mIn[74], line 10\u001b[0m\n\u001b[0;32m      1\u001b[0m pos, vals \u001b[39m=\u001b[39m measurement_loop(\n\u001b[0;32m      2\u001b[0m     init_positions, \n\u001b[0;32m      3\u001b[0m     init_values, \n\u001b[1;32m   (...)\u001b[0m\n\u001b[0;32m      8\u001b[0m     verbose\u001b[39m=\u001b[39m\u001b[39mTrue\u001b[39;00m,\n\u001b[0;32m      9\u001b[0m )\n\u001b[1;32m---> 10\u001b[0m counts \u001b[39m=\u001b[39m \u001b[39mlist\u001b[39m(\u001b[39mdict\u001b[39m(Counter(\u001b[39mtuple\u001b[39m(\u001b[39mmap\u001b[39m(\u001b[39mtuple\u001b[39m,pos_nocost))))\u001b[39m.\u001b[39mvalues())\n\u001b[0;32m     11\u001b[0m \u001b[39mprint\u001b[39m(\u001b[39mf\u001b[39m\u001b[39m'\u001b[39m\u001b[39mNumber of repeated points: \u001b[39m\u001b[39m{\u001b[39;00m\u001b[39msum\u001b[39m(counts)\u001b[39m-\u001b[39m\u001b[39mlen\u001b[39m(counts)\u001b[39m}\u001b[39;00m\u001b[39m'\u001b[39m)\n",
      "\u001b[1;31mNameError\u001b[0m: name 'pos_nocost' is not defined"
     ]
    }
   ],
   "source": [
    "pos, vals = measurement_loop(\n",
    "    init_positions, \n",
    "    init_values, \n",
    "    gp=gp,\n",
    "    n_points=500, \n",
    "    train_every=50,\n",
    "    train_at = [10, 20],\n",
    "    verbose=True,\n",
    ")\n"
   ]
  },
  {
   "cell_type": "code",
   "execution_count": 76,
   "metadata": {},
   "outputs": [
    {
     "name": "stdout",
     "output_type": "stream",
     "text": [
      "Number of repeated points: 456\n"
     ]
    }
   ],
   "source": [
    "\n",
    "counts = list(dict(Counter(tuple(map(tuple,pos)))).values())\n",
    "print(f'Number of repeated points: {sum(counts)-len(counts)}')"
   ]
  },
  {
   "cell_type": "code",
   "execution_count": 75,
   "metadata": {},
   "outputs": [
    {
     "data": {
      "text/plain": [
       "array([[15, 18],\n",
       "       [15, 18],\n",
       "       [30, 18],\n",
       "       ...,\n",
       "       [ 9, 24],\n",
       "       [ 9, 24],\n",
       "       [ 9, 24]])"
      ]
     },
     "execution_count": 75,
     "metadata": {},
     "output_type": "execute_result"
    }
   ],
   "source": []
  },
  {
   "cell_type": "code",
   "execution_count": 80,
   "metadata": {},
   "outputs": [
    {
     "data": {
      "image/png": "[encoded data removed]",
      "text/plain": [
       "<Figure size 600x500 with 1 Axes>"
      ]
     },
     "metadata": {},
     "output_type": "display_data"
    }
   ],
   "source": [
    "vis_map_with_path(pos, vals, reduced_maps=reduced_maps)"
   ]
  },
  {
   "cell_type": "code",
   "execution_count": 81,
   "metadata": {},
   "outputs": [
    {
     "name": "stdout",
     "output_type": "stream",
     "text": [
      "smart scan time:  00:13:48\n",
      "raster scan time: 00:31:32\n"
     ]
    }
   ],
   "source": [
    "print(f'smart scan time:  ' +pretty_print_time(scan_time(pos,cost_func_params)))\n",
    "print(f'raster scan time: ' +pretty_print_time(scan_time(all_positions,cost_func_params)))"
   ]
  },
  {
   "cell_type": "code",
   "execution_count": null,
   "metadata": {},
   "outputs": [],
   "source": []
  },
  {
   "cell_type": "code",
   "execution_count": null,
   "metadata": {},
   "outputs": [],
   "source": []
  }
 ],
 "metadata": {
  "kernelspec": {
   "display_name": "smartscan",
   "language": "python",
   "name": "python3"
  },
  "language_info": {
   "codemirror_mode": {
    "name": "ipython",
    "version": 3
   },
   "file_extension": ".py",
   "mimetype": "text/x-python",
   "name": "python",
   "nbconvert_exporter": "python",
   "pygments_lexer": "ipython3",
   "version": "3.10.11"
  },
  "orig_nbformat": 4
 },
 "nbformat": 4,
 "nbformat_minor": 2
}
