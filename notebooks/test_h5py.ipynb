{
 "cells": [
  {
   "cell_type": "code",
   "execution_count": null,
   "metadata": {},
   "outputs": [],
   "source": [
    "import h5py\n",
    "from pathlib import Path\n",
    "import time\n",
    "import numpy as np"
   ]
  },
  {
   "cell_type": "code",
   "execution_count": null,
   "metadata": {},
   "outputs": [],
   "source": [
    "path_local = Path(r\"D:\\data\\SGM4\\testing\\controller_9.h5\")\n",
    "assert path_local.is_file(), f\"Expected {path_local} to be a file\"\n",
    "path_remote = Path(r\"\\\\uni.au.dk\\dfs\\Nat_ISA-SGM4\\AU-SGM4\\Data\\2023\\Testing\\Controller_9.h5\")\n",
    "assert path_remote.is_file(), f\"Expected {path_remote} to be a file\"\n"
   ]
  },
  {
   "cell_type": "code",
   "execution_count": null,
   "metadata": {},
   "outputs": [],
   "source": [
    "data_address = 'Entry/Data/TransformedData'\n",
    "pos_address = 'Entry/Data/ScanDetails/SetPositions'"
   ]
  },
  {
   "cell_type": "code",
   "execution_count": null,
   "metadata": {},
   "outputs": [],
   "source": [
    "addr = data_address\n",
    "\n",
    "with h5py.File(path_local,'r',swmr=True) as file:\n",
    "    t0 = time.time()\n",
    "    ds_0= file[addr][()]\n",
    "    print(f'[()]: {time.time()-t0:.3f}s')\n",
    "    t1 = time.time()\n",
    "    ds_1 = file.get(addr)\n",
    "    print(f'get: {time.time()-t1:.3f}s')\n",
    "    print(f'all close: {np.allclose(ds_0,ds_1)}')\n",
    "    \n"
   ]
  },
  {
   "cell_type": "code",
   "execution_count": null,
   "metadata": {},
   "outputs": [],
   "source": [
    "%%timeit\n",
    "with h5py.File(path_local,'r',swmr=True) as file:\n",
    "    # t0 = time.time()\n",
    "    ds_0 = file[addr][()]"
   ]
  },
  {
   "cell_type": "code",
   "execution_count": null,
   "metadata": {},
   "outputs": [],
   "source": [
    "%%timeit\n",
    "with h5py.File(path_local,'r',swmr=True) as file:\n",
    "    # t0 = time.time()\n",
    "    ds_1 = file.get(addr,)"
   ]
  },
  {
   "cell_type": "code",
   "execution_count": null,
   "metadata": {},
   "outputs": [],
   "source": [
    "ds_0.shape, ds_1.shape"
   ]
  },
  {
   "cell_type": "code",
   "execution_count": null,
   "metadata": {},
   "outputs": [],
   "source": [
    "with h5py.File(path_local,'r',swmr=True) as file:\n",
    "    # t0 = time.time()\n",
    "    ds_1 = file."
   ]
  },
  {
   "cell_type": "code",
   "execution_count": null,
   "metadata": {},
   "outputs": [],
   "source": [
    "ds_1"
   ]
  }
 ],
 "metadata": {
  "kernelspec": {
   "display_name": "smartscan",
   "language": "python",
   "name": "python3"
  },
  "language_info": {
   "codemirror_mode": {
    "name": "ipython",
    "version": 3
   },
   "file_extension": ".py",
   "mimetype": "text/x-python",
   "name": "python",
   "nbconvert_exporter": "python",
   "pygments_lexer": "ipython3",
   "version": "3.10.11"
  },
  "orig_nbformat": 4
 },
 "nbformat": 4,
 "nbformat_minor": 2
}
