{
 "cells": [
  {
   "cell_type": "markdown",
   "metadata": {},
   "source": [
    "# Loading and visualizin Smart Scan Data\n",
    "In this notebook we will load and visualize the data recorded using the gaussian process driven data aquisition system \"Smart Scan\".\n",
    "\n",
    "To run this notebook, please install the smartscan library, as described in the readme.\n",
    "\n",
    "The data can be obtained from the following link: [Smart Scan Data](https://drive.google.com/drive/folders/1Q6Q6Q6Z"
   ]
  },
  {
   "cell_type": "code",
   "execution_count": null,
   "metadata": {
    "notebookRunGroups": {
     "groupValue": "1"
    }
   },
   "outputs": [],
   "source": [
    "from itertools import product\n",
    "\n",
    "import matplotlib.pyplot as plt\n",
    "import smartscan as ss\n",
    "import xarray as xr\n",
    "from tqdm.auto import tqdm\n"
   ]
  },
  {
   "cell_type": "markdown",
   "metadata": {},
   "source": [
    "# Loading smart scan \n",
    "The loader provided in the smartscan library loads the data as an `xarray.Dataset` object, containing the recoded spectra and related coordinates, as well as the reduced *tasks* as used to drive the Gaussian Process Regression."
   ]
  },
  {
   "cell_type": "code",
   "execution_count": null,
   "metadata": {},
   "outputs": [],
   "source": [
    "s2D = ss.load_smartscan(\"smartscan2D.h5\")\n",
    "# shift coordinate system\n",
    "s2D.coords[\"x\"] = -(s2D.x + 3300) / 1000\n",
    "s2D.coords[\"y\"] = -(s2D.y + 3300) / 1000\n",
    "s2D.x.attrs[\"units\"] = \"mm\"\n",
    "s2D.y.attrs[\"units\"] = \"mm\"\n",
    "s2D"
   ]
  },
  {
   "cell_type": "markdown",
   "metadata": {},
   "source": [
    "it is often useful to handle this data as a pandas DataFrame. This can be done by calling the to_pandas method on the smartscan object, after isolating the higher dimensional data and relative dimensions (`energy`, `phi` and the `spectra`)"
   ]
  },
  {
   "cell_type": "code",
   "execution_count": null,
   "metadata": {},
   "outputs": [],
   "source": [
    "df2D = s2D.drop_vars([\"spectra\", \"energy\", \"phi\"]).to_dataframe()\n",
    "df2D\n"
   ]
  },
  {
   "cell_type": "markdown",
   "metadata": {},
   "source": [
    "## visualize the acquired map"
   ]
  },
  {
   "cell_type": "code",
   "execution_count": null,
   "metadata": {},
   "outputs": [],
   "source": [
    "fig, ax = plt.subplots(1, 1, figsize=(5, 5))\n",
    "ss.vornoi_plot(\n",
    "    points=df2D[[\"y\", \"x\"]].values,\n",
    "    values=df2D[\"curvature\"],\n",
    "    ax=ax,\n",
    ")\n",
    "ax.set_xlabel(\"x [mm]\")\n",
    "ax.set_ylabel(\"y [mm]\")\n"
   ]
  },
  {
   "cell_type": "markdown",
   "metadata": {},
   "source": [
    "# load raster maps"
   ]
  },
  {
   "cell_type": "code",
   "execution_count": null,
   "metadata": {},
   "outputs": [],
   "source": [
    "raster2D = ss.io.load_raster_scan(\"raster2D_theta_2.h5\")\n",
    "raster2D.coords[\"x\"] = -(raster2D.x + 3300) / 1000\n",
    "raster2D.coords[\"y\"] = -(raster2D.y + 3300) / 1000\n",
    "raster2D = raster2D.sortby([\"y\", \"x\"])\n",
    "raster2D.x.attrs[\"units\"] = \"mm\"\n",
    "raster2D.y.attrs[\"units\"] = \"mm\"\n",
    "raster2D\n"
   ]
  },
  {
   "cell_type": "markdown",
   "metadata": {},
   "source": [
    "# compute curvature\n",
    "we now compute the curvature task as used in the smartscan2D file. We pick the ROI usef from the metadata of the smartscan2D."
   ]
  },
  {
   "cell_type": "code",
   "execution_count": null,
   "metadata": {},
   "outputs": [],
   "source": [
    "prod = list(\n",
    "    product(\n",
    "        range(len(raster2D.x.values)),\n",
    "        range(len(raster2D.y.values)),\n",
    "    )\n",
    ")\n",
    "raster2d_curvature = xr.zeros_like(raster2D.isel({\"energy\": 0, \"phi\": 0})).drop_vars(\n",
    "    [\"energy\", \"phi\"]).assign_coords({'theta': 2})\n",
    "raster2d_curvature.name = 'curvature'\n",
    "for x, y in tqdm(prod):\n",
    "    raster2d_curvature[x, y] = ss.tasks.curvature(\n",
    "        raster2D.isel({\"x\": x, \"y\": y}).isel(s2D.attrs[\"roi_dict\"])\n",
    "    )\n",
    "raster2d_curvature"
   ]
  },
  {
   "cell_type": "markdown",
   "metadata": {},
   "source": [
    "# overlay the smart scan points"
   ]
  },
  {
   "cell_type": "code",
   "execution_count": null,
   "metadata": {},
   "outputs": [],
   "source": [
    "fig, ax = plt.subplots(1, 1)\n",
    "# normalize curvature\n",
    "raster2d_curvature = raster2d_curvature / raster2d_curvature.max()\n",
    "raster2d_curvature.plot(\n",
    "    ax=ax,\n",
    "    alpha=0.7,\n",
    ")\n",
    "ax.set_aspect(\"equal\")\n",
    "plt.scatter(df2D[\"y\"], df2D[\"x\"], c=df2D[\"curvature\"], marker=\".\", cmap=\"viridis\")\n"
   ]
  }
 ],
 "metadata": {
  "kernelspec": {
   "display_name": "smartscan",
   "language": "python",
   "name": "python3"
  },
  "language_info": {
   "codemirror_mode": {
    "name": "ipython",
    "version": 3
   },
   "file_extension": ".py",
   "mimetype": "text/x-python",
   "name": "python",
   "nbconvert_exporter": "python",
   "pygments_lexer": "ipython3",
   "version": "3.10.11"
  }
 },
 "nbformat": 4,
 "nbformat_minor": 2
}
